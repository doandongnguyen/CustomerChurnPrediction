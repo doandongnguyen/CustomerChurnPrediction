{
  "nbformat": 4,
  "nbformat_minor": 0,
  "metadata": {
    "accelerator": "GPU",
    "colab": {
      "name": "CustomerChurns_2019_2_Final.ipynb",
      "provenance": [],
      "collapsed_sections": [],
      "toc_visible": true
    },
    "kernelspec": {
      "display_name": "Python 3",
      "name": "python3"
    }
  },
  "cells": [
    {
      "cell_type": "markdown",
      "metadata": {
        "id": "G7kULilaWmE4"
      },
      "source": [
        "#Import libs"
      ]
    },
    {
      "cell_type": "code",
      "metadata": {
        "colab": {
          "base_uri": "https://localhost:8080/"
        },
        "id": "yr2E6ymwzQV7",
        "outputId": "513ac366-9623-474e-cf06-8dcc0db244fb"
      },
      "source": [
        "!pip install xgboost"
      ],
      "execution_count": null,
      "outputs": [
        {
          "output_type": "stream",
          "text": [
            "Requirement already satisfied: xgboost in /usr/local/lib/python3.6/dist-packages (0.90)\n",
            "Requirement already satisfied: numpy in /usr/local/lib/python3.6/dist-packages (from xgboost) (1.19.4)\n",
            "Requirement already satisfied: scipy in /usr/local/lib/python3.6/dist-packages (from xgboost) (1.4.1)\n"
          ],
          "name": "stdout"
        }
      ]
    },
    {
      "cell_type": "code",
      "metadata": {
        "id": "SWCORSGxzTOf"
      },
      "source": [
        "from xgboost import XGBClassifier"
      ],
      "execution_count": null,
      "outputs": []
    },
    {
      "cell_type": "code",
      "metadata": {
        "id": "-yY0t8BP24jd"
      },
      "source": [
        "from sklearn.model_selection import train_test_split, GridSearchCV\n",
        "from sklearn.metrics import accuracy_score, classification_report\n",
        "from sklearn.metrics import roc_auc_score, roc_curve\n",
        "from sklearn.model_selection import RandomizedSearchCV\n",
        "from sklearn.ensemble import RandomForestClassifier\n",
        "from sklearn.ensemble import RandomForestClassifier\n",
        "from sklearn.linear_model import LogisticRegression\n",
        "from sklearn.ensemble import BaggingClassifier\n",
        "from sklearn.ensemble import RandomForestClassifier, VotingClassifier, BaggingClassifier\n",
        "from sklearn.svm import SVC\n",
        "from sklearn import metrics\n",
        "import matplotlib.pyplot as plt\n",
        "from sklearn import metrics\n",
        "from sklearn.svm import SVC\n",
        "import seaborn as sns\n",
        "import pandas as pd\n",
        "import numpy as np\n",
        "import random\n",
        "import scipy\n",
        "\n",
        "random.seed(42)\n",
        "np.random.seed(42)\n",
        "sns.set(style='ticks', color_codes=True)\n",
        "\n",
        "train_path = 'drive/MyDrive/Dataset/churn/2019/churn-bigml-80.csv'\n",
        "test_path = 'drive/MyDrive/Dataset/churn/2019/churn-bigml-20.csv'\n",
        "# y_test_path = 'drive/MyDrive/Dataset/churn/sampleSubmission.csv'"
      ],
      "execution_count": null,
      "outputs": []
    },
    {
      "cell_type": "code",
      "metadata": {
        "id": "85P9aFXd29Lb"
      },
      "source": [
        "df = pd.read_csv(train_path)"
      ],
      "execution_count": null,
      "outputs": []
    },
    {
      "cell_type": "code",
      "metadata": {
        "colab": {
          "base_uri": "https://localhost:8080/",
          "height": 258
        },
        "id": "dAHQywsBUkvE",
        "outputId": "260234a6-e2bc-417d-f65f-f734e65afab4"
      },
      "source": [
        "df.head()"
      ],
      "execution_count": null,
      "outputs": [
        {
          "output_type": "execute_result",
          "data": {
            "text/html": [
              "<div>\n",
              "<style scoped>\n",
              "    .dataframe tbody tr th:only-of-type {\n",
              "        vertical-align: middle;\n",
              "    }\n",
              "\n",
              "    .dataframe tbody tr th {\n",
              "        vertical-align: top;\n",
              "    }\n",
              "\n",
              "    .dataframe thead th {\n",
              "        text-align: right;\n",
              "    }\n",
              "</style>\n",
              "<table border=\"1\" class=\"dataframe\">\n",
              "  <thead>\n",
              "    <tr style=\"text-align: right;\">\n",
              "      <th></th>\n",
              "      <th>State</th>\n",
              "      <th>Account length</th>\n",
              "      <th>Area code</th>\n",
              "      <th>International plan</th>\n",
              "      <th>Voice mail plan</th>\n",
              "      <th>Number vmail messages</th>\n",
              "      <th>Total day minutes</th>\n",
              "      <th>Total day calls</th>\n",
              "      <th>Total day charge</th>\n",
              "      <th>Total eve minutes</th>\n",
              "      <th>Total eve calls</th>\n",
              "      <th>Total eve charge</th>\n",
              "      <th>Total night minutes</th>\n",
              "      <th>Total night calls</th>\n",
              "      <th>Total night charge</th>\n",
              "      <th>Total intl minutes</th>\n",
              "      <th>Total intl calls</th>\n",
              "      <th>Total intl charge</th>\n",
              "      <th>Customer service calls</th>\n",
              "      <th>Churn</th>\n",
              "    </tr>\n",
              "  </thead>\n",
              "  <tbody>\n",
              "    <tr>\n",
              "      <th>0</th>\n",
              "      <td>KS</td>\n",
              "      <td>128</td>\n",
              "      <td>415</td>\n",
              "      <td>No</td>\n",
              "      <td>Yes</td>\n",
              "      <td>25</td>\n",
              "      <td>265.1</td>\n",
              "      <td>110</td>\n",
              "      <td>45.07</td>\n",
              "      <td>197.4</td>\n",
              "      <td>99</td>\n",
              "      <td>16.78</td>\n",
              "      <td>244.7</td>\n",
              "      <td>91</td>\n",
              "      <td>11.01</td>\n",
              "      <td>10.0</td>\n",
              "      <td>3</td>\n",
              "      <td>2.70</td>\n",
              "      <td>1</td>\n",
              "      <td>False</td>\n",
              "    </tr>\n",
              "    <tr>\n",
              "      <th>1</th>\n",
              "      <td>OH</td>\n",
              "      <td>107</td>\n",
              "      <td>415</td>\n",
              "      <td>No</td>\n",
              "      <td>Yes</td>\n",
              "      <td>26</td>\n",
              "      <td>161.6</td>\n",
              "      <td>123</td>\n",
              "      <td>27.47</td>\n",
              "      <td>195.5</td>\n",
              "      <td>103</td>\n",
              "      <td>16.62</td>\n",
              "      <td>254.4</td>\n",
              "      <td>103</td>\n",
              "      <td>11.45</td>\n",
              "      <td>13.7</td>\n",
              "      <td>3</td>\n",
              "      <td>3.70</td>\n",
              "      <td>1</td>\n",
              "      <td>False</td>\n",
              "    </tr>\n",
              "    <tr>\n",
              "      <th>2</th>\n",
              "      <td>NJ</td>\n",
              "      <td>137</td>\n",
              "      <td>415</td>\n",
              "      <td>No</td>\n",
              "      <td>No</td>\n",
              "      <td>0</td>\n",
              "      <td>243.4</td>\n",
              "      <td>114</td>\n",
              "      <td>41.38</td>\n",
              "      <td>121.2</td>\n",
              "      <td>110</td>\n",
              "      <td>10.30</td>\n",
              "      <td>162.6</td>\n",
              "      <td>104</td>\n",
              "      <td>7.32</td>\n",
              "      <td>12.2</td>\n",
              "      <td>5</td>\n",
              "      <td>3.29</td>\n",
              "      <td>0</td>\n",
              "      <td>False</td>\n",
              "    </tr>\n",
              "    <tr>\n",
              "      <th>3</th>\n",
              "      <td>OH</td>\n",
              "      <td>84</td>\n",
              "      <td>408</td>\n",
              "      <td>Yes</td>\n",
              "      <td>No</td>\n",
              "      <td>0</td>\n",
              "      <td>299.4</td>\n",
              "      <td>71</td>\n",
              "      <td>50.90</td>\n",
              "      <td>61.9</td>\n",
              "      <td>88</td>\n",
              "      <td>5.26</td>\n",
              "      <td>196.9</td>\n",
              "      <td>89</td>\n",
              "      <td>8.86</td>\n",
              "      <td>6.6</td>\n",
              "      <td>7</td>\n",
              "      <td>1.78</td>\n",
              "      <td>2</td>\n",
              "      <td>False</td>\n",
              "    </tr>\n",
              "    <tr>\n",
              "      <th>4</th>\n",
              "      <td>OK</td>\n",
              "      <td>75</td>\n",
              "      <td>415</td>\n",
              "      <td>Yes</td>\n",
              "      <td>No</td>\n",
              "      <td>0</td>\n",
              "      <td>166.7</td>\n",
              "      <td>113</td>\n",
              "      <td>28.34</td>\n",
              "      <td>148.3</td>\n",
              "      <td>122</td>\n",
              "      <td>12.61</td>\n",
              "      <td>186.9</td>\n",
              "      <td>121</td>\n",
              "      <td>8.41</td>\n",
              "      <td>10.1</td>\n",
              "      <td>3</td>\n",
              "      <td>2.73</td>\n",
              "      <td>3</td>\n",
              "      <td>False</td>\n",
              "    </tr>\n",
              "  </tbody>\n",
              "</table>\n",
              "</div>"
            ],
            "text/plain": [
              "  State  Account length  ...  Customer service calls  Churn\n",
              "0    KS             128  ...                       1  False\n",
              "1    OH             107  ...                       1  False\n",
              "2    NJ             137  ...                       0  False\n",
              "3    OH              84  ...                       2  False\n",
              "4    OK              75  ...                       3  False\n",
              "\n",
              "[5 rows x 20 columns]"
            ]
          },
          "metadata": {
            "tags": []
          },
          "execution_count": 154
        }
      ]
    },
    {
      "cell_type": "code",
      "metadata": {
        "id": "57g11qCbms6b"
      },
      "source": [
        "df.drop(['State', 'Area code'], axis=1, inplace=True)"
      ],
      "execution_count": null,
      "outputs": []
    },
    {
      "cell_type": "code",
      "metadata": {
        "colab": {
          "base_uri": "https://localhost:8080/",
          "height": 939
        },
        "id": "nmuYRctJlT6N",
        "outputId": "c18baa6f-3473-4ac2-e230-02802ec7f7ce"
      },
      "source": [
        "df.corr()"
      ],
      "execution_count": null,
      "outputs": [
        {
          "output_type": "execute_result",
          "data": {
            "text/html": [
              "<div>\n",
              "<style scoped>\n",
              "    .dataframe tbody tr th:only-of-type {\n",
              "        vertical-align: middle;\n",
              "    }\n",
              "\n",
              "    .dataframe tbody tr th {\n",
              "        vertical-align: top;\n",
              "    }\n",
              "\n",
              "    .dataframe thead th {\n",
              "        text-align: right;\n",
              "    }\n",
              "</style>\n",
              "<table border=\"1\" class=\"dataframe\">\n",
              "  <thead>\n",
              "    <tr style=\"text-align: right;\">\n",
              "      <th></th>\n",
              "      <th>Account length</th>\n",
              "      <th>Number vmail messages</th>\n",
              "      <th>Total day minutes</th>\n",
              "      <th>Total day calls</th>\n",
              "      <th>Total day charge</th>\n",
              "      <th>Total eve minutes</th>\n",
              "      <th>Total eve calls</th>\n",
              "      <th>Total eve charge</th>\n",
              "      <th>Total night minutes</th>\n",
              "      <th>Total night calls</th>\n",
              "      <th>Total night charge</th>\n",
              "      <th>Total intl minutes</th>\n",
              "      <th>Total intl calls</th>\n",
              "      <th>Total intl charge</th>\n",
              "      <th>Customer service calls</th>\n",
              "      <th>Churn</th>\n",
              "    </tr>\n",
              "  </thead>\n",
              "  <tbody>\n",
              "    <tr>\n",
              "      <th>Account length</th>\n",
              "      <td>1.000000</td>\n",
              "      <td>-0.002996</td>\n",
              "      <td>0.002847</td>\n",
              "      <td>0.038862</td>\n",
              "      <td>0.002843</td>\n",
              "      <td>-0.015923</td>\n",
              "      <td>0.018552</td>\n",
              "      <td>-0.015909</td>\n",
              "      <td>-0.008994</td>\n",
              "      <td>-0.024007</td>\n",
              "      <td>-0.008999</td>\n",
              "      <td>0.011369</td>\n",
              "      <td>0.017627</td>\n",
              "      <td>0.011383</td>\n",
              "      <td>0.002455</td>\n",
              "      <td>0.017728</td>\n",
              "    </tr>\n",
              "    <tr>\n",
              "      <th>Number vmail messages</th>\n",
              "      <td>-0.002996</td>\n",
              "      <td>1.000000</td>\n",
              "      <td>0.019027</td>\n",
              "      <td>-0.009622</td>\n",
              "      <td>0.019027</td>\n",
              "      <td>0.011401</td>\n",
              "      <td>0.005131</td>\n",
              "      <td>0.011418</td>\n",
              "      <td>-0.000224</td>\n",
              "      <td>0.008124</td>\n",
              "      <td>-0.000229</td>\n",
              "      <td>-0.004156</td>\n",
              "      <td>0.027013</td>\n",
              "      <td>-0.004136</td>\n",
              "      <td>-0.018787</td>\n",
              "      <td>-0.086474</td>\n",
              "    </tr>\n",
              "    <tr>\n",
              "      <th>Total day minutes</th>\n",
              "      <td>0.002847</td>\n",
              "      <td>0.019027</td>\n",
              "      <td>1.000000</td>\n",
              "      <td>0.016780</td>\n",
              "      <td>1.000000</td>\n",
              "      <td>0.003999</td>\n",
              "      <td>0.009059</td>\n",
              "      <td>0.003992</td>\n",
              "      <td>0.013491</td>\n",
              "      <td>0.015054</td>\n",
              "      <td>0.013464</td>\n",
              "      <td>-0.011042</td>\n",
              "      <td>0.005687</td>\n",
              "      <td>-0.010934</td>\n",
              "      <td>-0.024543</td>\n",
              "      <td>0.195688</td>\n",
              "    </tr>\n",
              "    <tr>\n",
              "      <th>Total day calls</th>\n",
              "      <td>0.038862</td>\n",
              "      <td>-0.009622</td>\n",
              "      <td>0.016780</td>\n",
              "      <td>1.000000</td>\n",
              "      <td>0.016787</td>\n",
              "      <td>-0.026003</td>\n",
              "      <td>0.006473</td>\n",
              "      <td>-0.026006</td>\n",
              "      <td>0.008986</td>\n",
              "      <td>-0.016776</td>\n",
              "      <td>0.008972</td>\n",
              "      <td>0.031036</td>\n",
              "      <td>0.006928</td>\n",
              "      <td>0.031133</td>\n",
              "      <td>-0.011945</td>\n",
              "      <td>0.018290</td>\n",
              "    </tr>\n",
              "    <tr>\n",
              "      <th>Total day charge</th>\n",
              "      <td>0.002843</td>\n",
              "      <td>0.019027</td>\n",
              "      <td>1.000000</td>\n",
              "      <td>0.016787</td>\n",
              "      <td>1.000000</td>\n",
              "      <td>0.004008</td>\n",
              "      <td>0.009056</td>\n",
              "      <td>0.004002</td>\n",
              "      <td>0.013495</td>\n",
              "      <td>0.015057</td>\n",
              "      <td>0.013468</td>\n",
              "      <td>-0.011046</td>\n",
              "      <td>0.005688</td>\n",
              "      <td>-0.010938</td>\n",
              "      <td>-0.024548</td>\n",
              "      <td>0.195689</td>\n",
              "    </tr>\n",
              "    <tr>\n",
              "      <th>Total eve minutes</th>\n",
              "      <td>-0.015923</td>\n",
              "      <td>0.011401</td>\n",
              "      <td>0.003999</td>\n",
              "      <td>-0.026003</td>\n",
              "      <td>0.004008</td>\n",
              "      <td>1.000000</td>\n",
              "      <td>-0.007654</td>\n",
              "      <td>1.000000</td>\n",
              "      <td>-0.013414</td>\n",
              "      <td>0.009017</td>\n",
              "      <td>-0.013450</td>\n",
              "      <td>-0.006915</td>\n",
              "      <td>0.002160</td>\n",
              "      <td>-0.006947</td>\n",
              "      <td>-0.013192</td>\n",
              "      <td>0.072906</td>\n",
              "    </tr>\n",
              "    <tr>\n",
              "      <th>Total eve calls</th>\n",
              "      <td>0.018552</td>\n",
              "      <td>0.005131</td>\n",
              "      <td>0.009059</td>\n",
              "      <td>0.006473</td>\n",
              "      <td>0.009056</td>\n",
              "      <td>-0.007654</td>\n",
              "      <td>1.000000</td>\n",
              "      <td>-0.007642</td>\n",
              "      <td>-0.000175</td>\n",
              "      <td>0.000797</td>\n",
              "      <td>-0.000135</td>\n",
              "      <td>0.011012</td>\n",
              "      <td>0.003710</td>\n",
              "      <td>0.011000</td>\n",
              "      <td>0.001058</td>\n",
              "      <td>-0.001539</td>\n",
              "    </tr>\n",
              "    <tr>\n",
              "      <th>Total eve charge</th>\n",
              "      <td>-0.015909</td>\n",
              "      <td>0.011418</td>\n",
              "      <td>0.003992</td>\n",
              "      <td>-0.026006</td>\n",
              "      <td>0.004002</td>\n",
              "      <td>1.000000</td>\n",
              "      <td>-0.007642</td>\n",
              "      <td>1.000000</td>\n",
              "      <td>-0.013428</td>\n",
              "      <td>0.009030</td>\n",
              "      <td>-0.013464</td>\n",
              "      <td>-0.006923</td>\n",
              "      <td>0.002169</td>\n",
              "      <td>-0.006955</td>\n",
              "      <td>-0.013196</td>\n",
              "      <td>0.072893</td>\n",
              "    </tr>\n",
              "    <tr>\n",
              "      <th>Total night minutes</th>\n",
              "      <td>-0.008994</td>\n",
              "      <td>-0.000224</td>\n",
              "      <td>0.013491</td>\n",
              "      <td>0.008986</td>\n",
              "      <td>0.013495</td>\n",
              "      <td>-0.013414</td>\n",
              "      <td>-0.000175</td>\n",
              "      <td>-0.013428</td>\n",
              "      <td>1.000000</td>\n",
              "      <td>0.012736</td>\n",
              "      <td>0.999999</td>\n",
              "      <td>-0.008607</td>\n",
              "      <td>-0.001110</td>\n",
              "      <td>-0.008510</td>\n",
              "      <td>0.005236</td>\n",
              "      <td>0.033639</td>\n",
              "    </tr>\n",
              "    <tr>\n",
              "      <th>Total night calls</th>\n",
              "      <td>-0.024007</td>\n",
              "      <td>0.008124</td>\n",
              "      <td>0.015054</td>\n",
              "      <td>-0.016776</td>\n",
              "      <td>0.015057</td>\n",
              "      <td>0.009017</td>\n",
              "      <td>0.000797</td>\n",
              "      <td>0.009030</td>\n",
              "      <td>0.012736</td>\n",
              "      <td>1.000000</td>\n",
              "      <td>0.012720</td>\n",
              "      <td>-0.023447</td>\n",
              "      <td>0.019367</td>\n",
              "      <td>-0.023434</td>\n",
              "      <td>-0.005677</td>\n",
              "      <td>0.012262</td>\n",
              "    </tr>\n",
              "    <tr>\n",
              "      <th>Total night charge</th>\n",
              "      <td>-0.008999</td>\n",
              "      <td>-0.000229</td>\n",
              "      <td>0.013464</td>\n",
              "      <td>0.008972</td>\n",
              "      <td>0.013468</td>\n",
              "      <td>-0.013450</td>\n",
              "      <td>-0.000135</td>\n",
              "      <td>-0.013464</td>\n",
              "      <td>0.999999</td>\n",
              "      <td>0.012720</td>\n",
              "      <td>1.000000</td>\n",
              "      <td>-0.008615</td>\n",
              "      <td>-0.001099</td>\n",
              "      <td>-0.008517</td>\n",
              "      <td>0.005257</td>\n",
              "      <td>0.033635</td>\n",
              "    </tr>\n",
              "    <tr>\n",
              "      <th>Total intl minutes</th>\n",
              "      <td>0.011369</td>\n",
              "      <td>-0.004156</td>\n",
              "      <td>-0.011042</td>\n",
              "      <td>0.031036</td>\n",
              "      <td>-0.011046</td>\n",
              "      <td>-0.006915</td>\n",
              "      <td>0.011012</td>\n",
              "      <td>-0.006923</td>\n",
              "      <td>-0.008607</td>\n",
              "      <td>-0.023447</td>\n",
              "      <td>-0.008615</td>\n",
              "      <td>1.000000</td>\n",
              "      <td>0.037315</td>\n",
              "      <td>0.999993</td>\n",
              "      <td>-0.002826</td>\n",
              "      <td>0.086204</td>\n",
              "    </tr>\n",
              "    <tr>\n",
              "      <th>Total intl calls</th>\n",
              "      <td>0.017627</td>\n",
              "      <td>0.027013</td>\n",
              "      <td>0.005687</td>\n",
              "      <td>0.006928</td>\n",
              "      <td>0.005688</td>\n",
              "      <td>0.002160</td>\n",
              "      <td>0.003710</td>\n",
              "      <td>0.002169</td>\n",
              "      <td>-0.001110</td>\n",
              "      <td>0.019367</td>\n",
              "      <td>-0.001099</td>\n",
              "      <td>0.037315</td>\n",
              "      <td>1.000000</td>\n",
              "      <td>0.037363</td>\n",
              "      <td>-0.022143</td>\n",
              "      <td>-0.069882</td>\n",
              "    </tr>\n",
              "    <tr>\n",
              "      <th>Total intl charge</th>\n",
              "      <td>0.011383</td>\n",
              "      <td>-0.004136</td>\n",
              "      <td>-0.010934</td>\n",
              "      <td>0.031133</td>\n",
              "      <td>-0.010938</td>\n",
              "      <td>-0.006947</td>\n",
              "      <td>0.011000</td>\n",
              "      <td>-0.006955</td>\n",
              "      <td>-0.008510</td>\n",
              "      <td>-0.023434</td>\n",
              "      <td>-0.008517</td>\n",
              "      <td>0.999993</td>\n",
              "      <td>0.037363</td>\n",
              "      <td>1.000000</td>\n",
              "      <td>-0.002895</td>\n",
              "      <td>0.086216</td>\n",
              "    </tr>\n",
              "    <tr>\n",
              "      <th>Customer service calls</th>\n",
              "      <td>0.002455</td>\n",
              "      <td>-0.018787</td>\n",
              "      <td>-0.024543</td>\n",
              "      <td>-0.011945</td>\n",
              "      <td>-0.024548</td>\n",
              "      <td>-0.013192</td>\n",
              "      <td>0.001058</td>\n",
              "      <td>-0.013196</td>\n",
              "      <td>0.005236</td>\n",
              "      <td>-0.005677</td>\n",
              "      <td>0.005257</td>\n",
              "      <td>-0.002826</td>\n",
              "      <td>-0.022143</td>\n",
              "      <td>-0.002895</td>\n",
              "      <td>1.000000</td>\n",
              "      <td>0.202590</td>\n",
              "    </tr>\n",
              "    <tr>\n",
              "      <th>Churn</th>\n",
              "      <td>0.017728</td>\n",
              "      <td>-0.086474</td>\n",
              "      <td>0.195688</td>\n",
              "      <td>0.018290</td>\n",
              "      <td>0.195689</td>\n",
              "      <td>0.072906</td>\n",
              "      <td>-0.001539</td>\n",
              "      <td>0.072893</td>\n",
              "      <td>0.033639</td>\n",
              "      <td>0.012262</td>\n",
              "      <td>0.033635</td>\n",
              "      <td>0.086204</td>\n",
              "      <td>-0.069882</td>\n",
              "      <td>0.086216</td>\n",
              "      <td>0.202590</td>\n",
              "      <td>1.000000</td>\n",
              "    </tr>\n",
              "  </tbody>\n",
              "</table>\n",
              "</div>"
            ],
            "text/plain": [
              "                        Account length  ...     Churn\n",
              "Account length                1.000000  ...  0.017728\n",
              "Number vmail messages        -0.002996  ... -0.086474\n",
              "Total day minutes             0.002847  ...  0.195688\n",
              "Total day calls               0.038862  ...  0.018290\n",
              "Total day charge              0.002843  ...  0.195689\n",
              "Total eve minutes            -0.015923  ...  0.072906\n",
              "Total eve calls               0.018552  ... -0.001539\n",
              "Total eve charge             -0.015909  ...  0.072893\n",
              "Total night minutes          -0.008994  ...  0.033639\n",
              "Total night calls            -0.024007  ...  0.012262\n",
              "Total night charge           -0.008999  ...  0.033635\n",
              "Total intl minutes            0.011369  ...  0.086204\n",
              "Total intl calls              0.017627  ... -0.069882\n",
              "Total intl charge             0.011383  ...  0.086216\n",
              "Customer service calls        0.002455  ...  0.202590\n",
              "Churn                         0.017728  ...  1.000000\n",
              "\n",
              "[16 rows x 16 columns]"
            ]
          },
          "metadata": {
            "tags": []
          },
          "execution_count": 156
        }
      ]
    },
    {
      "cell_type": "code",
      "metadata": {
        "colab": {
          "base_uri": "https://localhost:8080/",
          "height": 543
        },
        "id": "aZ9CJifulyW3",
        "outputId": "acc5fed5-19bd-484c-d16e-8a42a217502a"
      },
      "source": [
        "plt.figure(figsize=(16, 6))\n",
        "heatmap = sns.heatmap(df.corr(),\n",
        "                      vmin=-1, vmax=1, annot=True)\n",
        "heatmap.set_title('Correlation Heatmap',\n",
        "                  fontdict={'fontsize':12}, pad=12)"
      ],
      "execution_count": null,
      "outputs": [
        {
          "output_type": "execute_result",
          "data": {
            "text/plain": [
              "Text(0.5, 1.0, 'Correlation Heatmap')"
            ]
          },
          "metadata": {
            "tags": []
          },
          "execution_count": 157
        },
        {
          "output_type": "display_data",
          "data": {
            "image/png": "[encoded data removed]",
            "text/plain": [
              "<Figure size 1152x432 with 2 Axes>"
            ]
          },
          "metadata": {
            "tags": []
          }
        }
      ]
    },
    {
      "cell_type": "code",
      "metadata": {
        "colab": {
          "base_uri": "https://localhost:8080/",
          "height": 530
        },
        "id": "al0H0JlKmTfw",
        "outputId": "cb895092-df4a-4765-f514-e0e70a1dab2b"
      },
      "source": [
        "plt.figure(figsize=(16, 6))\n",
        "heatmap = sns.heatmap(df.corr(),\n",
        "                      vmin=-1, vmax=1, annot=True, cmap='BrBG')\n",
        "heatmap.set_title('Correlation Heatmap',\n",
        "                  fontdict={'fontsize':18}, pad=12);\n",
        "plt.savefig('heatmap.png', dpi=600, bbox_inches='tight')"
      ],
      "execution_count": null,
      "outputs": [
        {
          "output_type": "display_data",
          "data": {
            "image/png": "[encoded data removed]",
            "text/plain": [
              "<Figure size 1152x432 with 2 Axes>"
            ]
          },
          "metadata": {
            "tags": []
          }
        }
      ]
    },
    {
      "cell_type": "code",
      "metadata": {
        "id": "1vo0wD5z2LVp"
      },
      "source": [
        "df.drop(['Total day minutes', \n",
        "         'Total night minutes', \n",
        "         'Total intl minutes', \n",
        "         'Total eve minutes'], axis=1, inplace=True)"
      ],
      "execution_count": null,
      "outputs": []
    },
    {
      "cell_type": "code",
      "metadata": {
        "colab": {
          "base_uri": "https://localhost:8080/",
          "height": 238
        },
        "id": "Ov3a1TFP3Mi2",
        "outputId": "bdbd4921-1f16-4b3d-f13b-bcc035a7e331"
      },
      "source": [
        "df.head()"
      ],
      "execution_count": null,
      "outputs": [
        {
          "output_type": "execute_result",
          "data": {
            "text/html": [
              "<div>\n",
              "<style scoped>\n",
              "    .dataframe tbody tr th:only-of-type {\n",
              "        vertical-align: middle;\n",
              "    }\n",
              "\n",
              "    .dataframe tbody tr th {\n",
              "        vertical-align: top;\n",
              "    }\n",
              "\n",
              "    .dataframe thead th {\n",
              "        text-align: right;\n",
              "    }\n",
              "</style>\n",
              "<table border=\"1\" class=\"dataframe\">\n",
              "  <thead>\n",
              "    <tr style=\"text-align: right;\">\n",
              "      <th></th>\n",
              "      <th>Account length</th>\n",
              "      <th>International plan</th>\n",
              "      <th>Voice mail plan</th>\n",
              "      <th>Number vmail messages</th>\n",
              "      <th>Total day calls</th>\n",
              "      <th>Total day charge</th>\n",
              "      <th>Total eve calls</th>\n",
              "      <th>Total eve charge</th>\n",
              "      <th>Total night calls</th>\n",
              "      <th>Total night charge</th>\n",
              "      <th>Total intl calls</th>\n",
              "      <th>Total intl charge</th>\n",
              "      <th>Customer service calls</th>\n",
              "      <th>Churn</th>\n",
              "    </tr>\n",
              "  </thead>\n",
              "  <tbody>\n",
              "    <tr>\n",
              "      <th>0</th>\n",
              "      <td>128</td>\n",
              "      <td>No</td>\n",
              "      <td>Yes</td>\n",
              "      <td>25</td>\n",
              "      <td>110</td>\n",
              "      <td>45.07</td>\n",
              "      <td>99</td>\n",
              "      <td>16.78</td>\n",
              "      <td>91</td>\n",
              "      <td>11.01</td>\n",
              "      <td>3</td>\n",
              "      <td>2.70</td>\n",
              "      <td>1</td>\n",
              "      <td>False</td>\n",
              "    </tr>\n",
              "    <tr>\n",
              "      <th>1</th>\n",
              "      <td>107</td>\n",
              "      <td>No</td>\n",
              "      <td>Yes</td>\n",
              "      <td>26</td>\n",
              "      <td>123</td>\n",
              "      <td>27.47</td>\n",
              "      <td>103</td>\n",
              "      <td>16.62</td>\n",
              "      <td>103</td>\n",
              "      <td>11.45</td>\n",
              "      <td>3</td>\n",
              "      <td>3.70</td>\n",
              "      <td>1</td>\n",
              "      <td>False</td>\n",
              "    </tr>\n",
              "    <tr>\n",
              "      <th>2</th>\n",
              "      <td>137</td>\n",
              "      <td>No</td>\n",
              "      <td>No</td>\n",
              "      <td>0</td>\n",
              "      <td>114</td>\n",
              "      <td>41.38</td>\n",
              "      <td>110</td>\n",
              "      <td>10.30</td>\n",
              "      <td>104</td>\n",
              "      <td>7.32</td>\n",
              "      <td>5</td>\n",
              "      <td>3.29</td>\n",
              "      <td>0</td>\n",
              "      <td>False</td>\n",
              "    </tr>\n",
              "    <tr>\n",
              "      <th>3</th>\n",
              "      <td>84</td>\n",
              "      <td>Yes</td>\n",
              "      <td>No</td>\n",
              "      <td>0</td>\n",
              "      <td>71</td>\n",
              "      <td>50.90</td>\n",
              "      <td>88</td>\n",
              "      <td>5.26</td>\n",
              "      <td>89</td>\n",
              "      <td>8.86</td>\n",
              "      <td>7</td>\n",
              "      <td>1.78</td>\n",
              "      <td>2</td>\n",
              "      <td>False</td>\n",
              "    </tr>\n",
              "    <tr>\n",
              "      <th>4</th>\n",
              "      <td>75</td>\n",
              "      <td>Yes</td>\n",
              "      <td>No</td>\n",
              "      <td>0</td>\n",
              "      <td>113</td>\n",
              "      <td>28.34</td>\n",
              "      <td>122</td>\n",
              "      <td>12.61</td>\n",
              "      <td>121</td>\n",
              "      <td>8.41</td>\n",
              "      <td>3</td>\n",
              "      <td>2.73</td>\n",
              "      <td>3</td>\n",
              "      <td>False</td>\n",
              "    </tr>\n",
              "  </tbody>\n",
              "</table>\n",
              "</div>"
            ],
            "text/plain": [
              "   Account length International plan  ... Customer service calls  Churn\n",
              "0             128                 No  ...                      1  False\n",
              "1             107                 No  ...                      1  False\n",
              "2             137                 No  ...                      0  False\n",
              "3              84                Yes  ...                      2  False\n",
              "4              75                Yes  ...                      3  False\n",
              "\n",
              "[5 rows x 14 columns]"
            ]
          },
          "metadata": {
            "tags": []
          },
          "execution_count": 160
        }
      ]
    },
    {
      "cell_type": "code",
      "metadata": {
        "colab": {
          "base_uri": "https://localhost:8080/"
        },
        "id": "qz6bm-x75V4r",
        "outputId": "6e3e6e10-64ae-49d4-b294-02184f7e97dc"
      },
      "source": [
        "df.info()"
      ],
      "execution_count": null,
      "outputs": [
        {
          "output_type": "stream",
          "text": [
            "<class 'pandas.core.frame.DataFrame'>\n",
            "RangeIndex: 2666 entries, 0 to 2665\n",
            "Data columns (total 14 columns):\n",
            " #   Column                  Non-Null Count  Dtype  \n",
            "---  ------                  --------------  -----  \n",
            " 0   Account length          2666 non-null   int64  \n",
            " 1   International plan      2666 non-null   object \n",
            " 2   Voice mail plan         2666 non-null   object \n",
            " 3   Number vmail messages   2666 non-null   int64  \n",
            " 4   Total day calls         2666 non-null   int64  \n",
            " 5   Total day charge        2666 non-null   float64\n",
            " 6   Total eve calls         2666 non-null   int64  \n",
            " 7   Total eve charge        2666 non-null   float64\n",
            " 8   Total night calls       2666 non-null   int64  \n",
            " 9   Total night charge      2666 non-null   float64\n",
            " 10  Total intl calls        2666 non-null   int64  \n",
            " 11  Total intl charge       2666 non-null   float64\n",
            " 12  Customer service calls  2666 non-null   int64  \n",
            " 13  Churn                   2666 non-null   bool   \n",
            "dtypes: bool(1), float64(4), int64(7), object(2)\n",
            "memory usage: 273.5+ KB\n"
          ],
          "name": "stdout"
        }
      ]
    },
    {
      "cell_type": "markdown",
      "metadata": {
        "id": "NlhJLycz9qBt"
      },
      "source": [
        "#Functions"
      ]
    },
    {
      "cell_type": "markdown",
      "metadata": {
        "id": "Qs2catucuVko"
      },
      "source": [
        "## Train test split"
      ]
    },
    {
      "cell_type": "code",
      "metadata": {
        "id": "8flKOFV7sD4_"
      },
      "source": [
        "def get_train_test(df):\n",
        "    df_X = df.drop('Churn',axis=1)\n",
        "    df_y = df['Churn']\n",
        "    df_X['International plan'] = np.where(df_X['International plan'].str.contains('yes'), 1, 0)\n",
        "    df_X['Voice mail plan'] = np.where(df_X['Voice mail plan'].str.contains('yes'), 1, 0)\n",
        "    X = df_X\n",
        "    y = np.asarray([0 if x == False else 1 for x in df_y])\n",
        "    print('X train shape=', X.shape)\n",
        "    print('y train shape=', y.shape)\n",
        "    print('Churn in train rate:', np.sum(y==1)/len(y))\n",
        "    # X_train, X_test, y_train, y_test = train_test_split(X, y, stratify=y,\n",
        "    #                                                     test_size=0.1,\n",
        "    #                                                     random_state=42)\n",
        "    return X.values, y\n"
      ],
      "execution_count": null,
      "outputs": []
    },
    {
      "cell_type": "code",
      "metadata": {
        "id": "BgfpzMElrhbT"
      },
      "source": [
        "def get_val_data(test_path=test_path):\n",
        "    df = pd.read_csv(test_path)\n",
        "    y = df['Churn'].values.copy()\n",
        "    df.drop(['Churn'], axis=1, inplace=True )\n",
        "    df.drop(['State', 'Area code'], axis=1, inplace=True)\n",
        "    df.drop(['Total day minutes', \n",
        "             'Total night minutes', \n",
        "             'Total intl minutes', \n",
        "             'Total eve minutes'], axis=1, inplace=True)\n",
        "    X = df\n",
        "    # y = df_y['Churn'].copy()\n",
        "    X['International plan'] = np.where(X['International plan'].str.contains('yes'), 1, 0)\n",
        "    X['Voice mail plan'] = np.where(X['Voice mail plan'].str.contains('yes'), 1, 0)\n",
        "\n",
        "    y = np.asarray([0 if x == False else 1 for x in y])\n",
        "\n",
        "    print(\" X val shape = \", X.shape)\n",
        "    print(\" y val shape = \", y.shape)\n",
        "    print('Churn in train rate:', np.sum(y==1)/len(y))\n",
        "    return X.values, y "
      ],
      "execution_count": null,
      "outputs": []
    },
    {
      "cell_type": "markdown",
      "metadata": {
        "id": "2lD2eCmGu8mn"
      },
      "source": [
        "##Resampling"
      ]
    },
    {
      "cell_type": "code",
      "metadata": {
        "id": "cGrn60Esu57c"
      },
      "source": [
        "from imblearn.over_sampling import RandomOverSampler, SMOTE\n",
        "def resampling(X_train, y_train):\n",
        "    oversample = SMOTE()\n",
        "    X_train, y_train = oversample.fit_resample(X_train, y_train)\n",
        "    return X_train, y_train"
      ],
      "execution_count": null,
      "outputs": []
    },
    {
      "cell_type": "markdown",
      "metadata": {
        "id": "EnYerDTS9y8P"
      },
      "source": [
        "## Model tunning"
      ]
    },
    {
      "cell_type": "code",
      "metadata": {
        "id": "V03pZBRMkSKo"
      },
      "source": [
        "def search_for_best_models(clf, params, X_train, y_train, scoring='accuracy'):\n",
        "    optimal_models = RandomizedSearchCV(clf,\n",
        "                            param_distributions=params,\n",
        "                            cv=3,\n",
        "                            n_jobs=4,\n",
        "                            random_state=42,\n",
        "                            scoring=scoring)\n",
        "    optimal_models.fit(X_train, y_train)\n",
        "\n",
        "    return (optimal_models.best_params_,\n",
        "            optimal_models.best_estimator_)\n"
      ],
      "execution_count": null,
      "outputs": []
    },
    {
      "cell_type": "markdown",
      "metadata": {
        "id": "shlI5jxf-i73"
      },
      "source": [
        "# Getting Data"
      ]
    },
    {
      "cell_type": "code",
      "metadata": {
        "colab": {
          "base_uri": "https://localhost:8080/"
        },
        "id": "C8k2im-wrtwk",
        "outputId": "31a11ffd-fbaa-4ebd-ae16-b17df2990b05"
      },
      "source": [
        "X_train, y_train = get_train_test(df)\n",
        "X_val, y_val = get_val_data()"
      ],
      "execution_count": null,
      "outputs": [
        {
          "output_type": "stream",
          "text": [
            "X train shape= (2666, 13)\n",
            "y train shape= (2666,)\n",
            "Churn in train rate: 0.145536384096024\n",
            " X val shape =  (667, 13)\n",
            " y val shape =  (667,)\n",
            "Churn in train rate: 0.1424287856071964\n"
          ],
          "name": "stdout"
        }
      ]
    },
    {
      "cell_type": "code",
      "metadata": {
        "colab": {
          "base_uri": "https://localhost:8080/"
        },
        "id": "43u47Ps6rD3w",
        "outputId": "76c95430-578c-43f1-80a6-92c5183f6155"
      },
      "source": [
        "X_train_resampled, y_train_resampled = resampling(X_train, y_train)"
      ],
      "execution_count": null,
      "outputs": [
        {
          "output_type": "stream",
          "text": [
            "/usr/local/lib/python3.6/dist-packages/sklearn/utils/deprecation.py:87: FutureWarning: Function safe_indexing is deprecated; safe_indexing is deprecated in version 0.22 and will be removed in version 0.24.\n",
            "  warnings.warn(msg, category=FutureWarning)\n"
          ],
          "name": "stderr"
        }
      ]
    },
    {
      "cell_type": "markdown",
      "metadata": {
        "id": "hC9yfVOHFthm"
      },
      "source": [
        "#Outlier detection"
      ]
    },
    {
      "cell_type": "code",
      "metadata": {
        "id": "LXgvBcbIFz2l"
      },
      "source": [
        "from sklearn.svm import OneClassSVM\n",
        "oneClassSVM = OneClassSVM(gamma='scale', nu=0.14)"
      ],
      "execution_count": null,
      "outputs": []
    },
    {
      "cell_type": "code",
      "metadata": {
        "id": "OsWE_4NJGLbJ"
      },
      "source": [
        "trainX = X_train[y_train == 0]"
      ],
      "execution_count": null,
      "outputs": []
    },
    {
      "cell_type": "code",
      "metadata": {
        "colab": {
          "base_uri": "https://localhost:8080/"
        },
        "id": "e0olFedAGR7X",
        "outputId": "5fdf9a66-3050-4b72-a2e5-d6400f5806b5"
      },
      "source": [
        "oneClassSVM.fit(trainX)"
      ],
      "execution_count": null,
      "outputs": [
        {
          "output_type": "execute_result",
          "data": {
            "text/plain": [
              "OneClassSVM(cache_size=200, coef0=0.0, degree=3, gamma='scale', kernel='rbf',\n",
              "            max_iter=-1, nu=0.14, shrinking=True, tol=0.001, verbose=False)"
            ]
          },
          "metadata": {
            "tags": []
          },
          "execution_count": 21
        }
      ]
    },
    {
      "cell_type": "code",
      "metadata": {
        "id": "X8E95UHXGWPo"
      },
      "source": [
        "y_preds = oneClassSVM.predict(X_val)"
      ],
      "execution_count": null,
      "outputs": []
    },
    {
      "cell_type": "code",
      "metadata": {
        "colab": {
          "base_uri": "https://localhost:8080/"
        },
        "id": "8FF39KeUdLO4",
        "outputId": "c270b114-b4ed-4b4c-9527-08458fc6847e"
      },
      "source": [
        "y_preds[:10]"
      ],
      "execution_count": null,
      "outputs": [
        {
          "output_type": "execute_result",
          "data": {
            "text/plain": [
              "array([ 1,  1, -1,  1,  1, -1,  1,  1, -1, -1])"
            ]
          },
          "metadata": {
            "tags": []
          },
          "execution_count": 23
        }
      ]
    },
    {
      "cell_type": "code",
      "metadata": {
        "colab": {
          "base_uri": "https://localhost:8080/"
        },
        "id": "Rhd2v5SvdOX9",
        "outputId": "94117de9-3e00-421e-9a4a-fe782bb648c8"
      },
      "source": [
        "y_val[:10]"
      ],
      "execution_count": null,
      "outputs": [
        {
          "output_type": "execute_result",
          "data": {
            "text/plain": [
              "array([0, 1, 1, 0, 0, 0, 0, 1, 0, 0])"
            ]
          },
          "metadata": {
            "tags": []
          },
          "execution_count": 24
        }
      ]
    },
    {
      "cell_type": "code",
      "metadata": {
        "id": "lgU1EHrjGroF"
      },
      "source": [
        "valy = y_val.copy()"
      ],
      "execution_count": null,
      "outputs": []
    },
    {
      "cell_type": "code",
      "metadata": {
        "id": "KY9QtwufG6Aq"
      },
      "source": [
        "valy[valy == 1] = -1\n",
        "valy[valy == 0] = 1"
      ],
      "execution_count": null,
      "outputs": []
    },
    {
      "cell_type": "code",
      "metadata": {
        "colab": {
          "base_uri": "https://localhost:8080/"
        },
        "id": "bX4YMsfZG-2R",
        "outputId": "bbcfb6aa-aebe-4e61-ac64-641c7a0772de"
      },
      "source": [
        "print(metrics.confusion_matrix(valy, y_preds))"
      ],
      "execution_count": null,
      "outputs": [
        {
          "output_type": "stream",
          "text": [
            "[[ 13  82]\n",
            " [ 94 478]]\n"
          ],
          "name": "stdout"
        }
      ]
    },
    {
      "cell_type": "code",
      "metadata": {
        "colab": {
          "base_uri": "https://localhost:8080/"
        },
        "id": "73-JEOx8ddVy",
        "outputId": "5bbf14a7-6235-4f63-f6fe-d0eafce36760"
      },
      "source": [
        "valy[:10]"
      ],
      "execution_count": null,
      "outputs": [
        {
          "output_type": "execute_result",
          "data": {
            "text/plain": [
              "array([ 1, -1, -1,  1,  1,  1,  1, -1,  1,  1])"
            ]
          },
          "metadata": {
            "tags": []
          },
          "execution_count": 28
        }
      ]
    },
    {
      "cell_type": "code",
      "metadata": {
        "colab": {
          "base_uri": "https://localhost:8080/"
        },
        "id": "nlu68ZR5dzHd",
        "outputId": "96fb8956-df32-4e49-c6e7-b6aa2277df0c"
      },
      "source": [
        "print(metrics.classification_report(valy, y_preds))"
      ],
      "execution_count": null,
      "outputs": [
        {
          "output_type": "stream",
          "text": [
            "              precision    recall  f1-score   support\n",
            "\n",
            "          -1       0.12      0.14      0.13        95\n",
            "           1       0.85      0.84      0.84       572\n",
            "\n",
            "    accuracy                           0.74       667\n",
            "   macro avg       0.49      0.49      0.49       667\n",
            "weighted avg       0.75      0.74      0.74       667\n",
            "\n"
          ],
          "name": "stdout"
        }
      ]
    },
    {
      "cell_type": "code",
      "metadata": {
        "id": "66WySFcZejr4"
      },
      "source": [
        "from sklearn.ensemble import IsolationForest\n",
        "isolationForest = IsolationForest(bootstrap=True,\n",
        "                                  n_jobs=4,\n",
        "                                  n_estimators=1000)"
      ],
      "execution_count": null,
      "outputs": []
    },
    {
      "cell_type": "code",
      "metadata": {
        "colab": {
          "base_uri": "https://localhost:8080/"
        },
        "id": "95bltSrvesUK",
        "outputId": "ffcab1e3-30a1-4b91-f621-f31c4da94929"
      },
      "source": [
        "isolationForest.fit(trainX)"
      ],
      "execution_count": null,
      "outputs": [
        {
          "output_type": "execute_result",
          "data": {
            "text/plain": [
              "IsolationForest(behaviour='deprecated', bootstrap=True, contamination='auto',\n",
              "                max_features=1.0, max_samples='auto', n_estimators=1000,\n",
              "                n_jobs=4, random_state=None, verbose=0, warm_start=False)"
            ]
          },
          "metadata": {
            "tags": []
          },
          "execution_count": 31
        }
      ]
    },
    {
      "cell_type": "code",
      "metadata": {
        "id": "01BdxXUcevdR"
      },
      "source": [
        "y_preds = isolationForest.predict(X_val)"
      ],
      "execution_count": null,
      "outputs": []
    },
    {
      "cell_type": "code",
      "metadata": {
        "id": "hpDVQ1sOe7YJ"
      },
      "source": [
        "valy = y_val.copy()"
      ],
      "execution_count": null,
      "outputs": []
    },
    {
      "cell_type": "code",
      "metadata": {
        "id": "vyaf-evce7Y-"
      },
      "source": [
        "valy[valy == 1] = -1\n",
        "valy[valy == 0] = 1"
      ],
      "execution_count": null,
      "outputs": []
    },
    {
      "cell_type": "code",
      "metadata": {
        "colab": {
          "base_uri": "https://localhost:8080/"
        },
        "id": "BfNiy8XBe7Y_",
        "outputId": "895b59fa-bf5a-4688-9cf3-a14154b2b46e"
      },
      "source": [
        "print(metrics.confusion_matrix(valy, y_preds))"
      ],
      "execution_count": null,
      "outputs": [
        {
          "output_type": "stream",
          "text": [
            "[[ 17  78]\n",
            " [ 69 503]]\n"
          ],
          "name": "stdout"
        }
      ]
    },
    {
      "cell_type": "code",
      "metadata": {
        "colab": {
          "base_uri": "https://localhost:8080/"
        },
        "id": "ln88bSs4e7ZA",
        "outputId": "1ca4dd0a-ba8d-4046-8b34-959462f25a92"
      },
      "source": [
        "print(metrics.classification_report(valy, y_preds))"
      ],
      "execution_count": null,
      "outputs": [
        {
          "output_type": "stream",
          "text": [
            "              precision    recall  f1-score   support\n",
            "\n",
            "          -1       0.20      0.18      0.19        95\n",
            "           1       0.87      0.88      0.87       572\n",
            "\n",
            "    accuracy                           0.78       667\n",
            "   macro avg       0.53      0.53      0.53       667\n",
            "weighted avg       0.77      0.78      0.77       667\n",
            "\n"
          ],
          "name": "stdout"
        }
      ]
    },
    {
      "cell_type": "markdown",
      "metadata": {
        "id": "SK8J648auTnr"
      },
      "source": [
        "# Models"
      ]
    },
    {
      "cell_type": "markdown",
      "metadata": {
        "id": "rExHqBVgZgDc"
      },
      "source": [
        "## KNeighborsClassifier"
      ]
    },
    {
      "cell_type": "code",
      "metadata": {
        "id": "WNMtAqp1Zidl"
      },
      "source": [
        "from sklearn.neighbors import KNeighborsClassifier"
      ],
      "execution_count": null,
      "outputs": []
    },
    {
      "cell_type": "code",
      "metadata": {
        "id": "-fU5SXLrZlqe"
      },
      "source": [
        "neigh = KNeighborsClassifier(n_neighbors=3)"
      ],
      "execution_count": null,
      "outputs": []
    },
    {
      "cell_type": "code",
      "metadata": {
        "colab": {
          "base_uri": "https://localhost:8080/"
        },
        "id": "36cN5ZhSZn5I",
        "outputId": "e3a01424-3906-4e46-d835-e2d6e64ad8a8"
      },
      "source": [
        "neigh.fit(X_train,\n",
        "          y_train)"
      ],
      "execution_count": null,
      "outputs": [
        {
          "output_type": "execute_result",
          "data": {
            "text/plain": [
              "KNeighborsClassifier(algorithm='auto', leaf_size=30, metric='minkowski',\n",
              "                     metric_params=None, n_jobs=None, n_neighbors=3, p=2,\n",
              "                     weights='uniform')"
            ]
          },
          "metadata": {
            "tags": []
          },
          "execution_count": 39
        }
      ]
    },
    {
      "cell_type": "code",
      "metadata": {
        "id": "QTa30fwMZugn"
      },
      "source": [
        "y_preds = neigh.predict(X_val)"
      ],
      "execution_count": null,
      "outputs": []
    },
    {
      "cell_type": "code",
      "metadata": {
        "colab": {
          "base_uri": "https://localhost:8080/"
        },
        "id": "KgJFk3ZnZ03H",
        "outputId": "a8e20f9e-cd43-4e9d-c709-9cde36c32260"
      },
      "source": [
        "print(metrics.classification_report(y_preds, y_val))"
      ],
      "execution_count": null,
      "outputs": [
        {
          "output_type": "stream",
          "text": [
            "              precision    recall  f1-score   support\n",
            "\n",
            "           0       0.96      0.88      0.91       625\n",
            "           1       0.18      0.40      0.25        42\n",
            "\n",
            "    accuracy                           0.85       667\n",
            "   macro avg       0.57      0.64      0.58       667\n",
            "weighted avg       0.91      0.85      0.87       667\n",
            "\n"
          ],
          "name": "stdout"
        }
      ]
    },
    {
      "cell_type": "markdown",
      "metadata": {
        "id": "Zey4OG1-q2Yh"
      },
      "source": [
        "##SVM"
      ]
    },
    {
      "cell_type": "code",
      "metadata": {
        "id": "-OJJUaTec8m_"
      },
      "source": [
        "svm_params = {'C': scipy.stats.expon(scale=1.), \n",
        "          'gamma': scipy.stats.expon(scale=.1),\n",
        "          'kernel': ['rbf'], \n",
        "          'class_weight':[None]}"
      ],
      "execution_count": null,
      "outputs": []
    },
    {
      "cell_type": "code",
      "metadata": {
        "id": "nSvRh4ET-vNQ"
      },
      "source": [
        "from sklearn.preprocessing import StandardScaler\n",
        "scaler = StandardScaler()\n",
        "X_train_scaled = scaler.fit_transform(X_train_resampled)\n",
        "X_val_scaled = scaler.transform(X_val)\n",
        "optimal_params, optimal_models = search_for_best_models(SVC(), svm_params,\n",
        "                                                        X_train_scaled,\n",
        "                                                        y_train_resampled)"
      ],
      "execution_count": null,
      "outputs": []
    },
    {
      "cell_type": "code",
      "metadata": {
        "colab": {
          "base_uri": "https://localhost:8080/"
        },
        "id": "E-GoVbBNrFoP",
        "outputId": "38eba13f-9b80-42a3-f01a-4175f03045b1"
      },
      "source": [
        "svc = SVC(C=optimal_params['C'],\n",
        "          gamma=optimal_params['gamma'],\n",
        "          kernel=optimal_params['kernel'],\n",
        "          class_weight=optimal_params['class_weight'],\n",
        "          random_state=42)\n",
        "svc.fit(X_train_scaled, y_train_resampled)"
      ],
      "execution_count": null,
      "outputs": [
        {
          "output_type": "execute_result",
          "data": {
            "text/plain": [
              "SVC(C=0.4692680899768591, break_ties=False, cache_size=200, class_weight=None,\n",
              "    coef0=0.0, decision_function_shape='ovr', degree=3,\n",
              "    gamma=0.3010121430917521, kernel='rbf', max_iter=-1, probability=False,\n",
              "    random_state=42, shrinking=True, tol=0.001, verbose=False)"
            ]
          },
          "metadata": {
            "tags": []
          },
          "execution_count": 44
        }
      ]
    },
    {
      "cell_type": "code",
      "metadata": {
        "id": "xT6hHt0Iro3v"
      },
      "source": [
        "y_val_preds = svc.predict(X_val_scaled)"
      ],
      "execution_count": null,
      "outputs": []
    },
    {
      "cell_type": "code",
      "metadata": {
        "colab": {
          "base_uri": "https://localhost:8080/"
        },
        "id": "tY4VQgr5rzhx",
        "outputId": "4b5fed23-ee61-4b58-e6d9-1e109b2c9ae9"
      },
      "source": [
        "print(metrics.classification_report(y_val, y_val_preds))"
      ],
      "execution_count": null,
      "outputs": [
        {
          "output_type": "stream",
          "text": [
            "              precision    recall  f1-score   support\n",
            "\n",
            "           0       0.91      0.90      0.90       572\n",
            "           1       0.42      0.43      0.43        95\n",
            "\n",
            "    accuracy                           0.84       667\n",
            "   macro avg       0.66      0.67      0.67       667\n",
            "weighted avg       0.84      0.84      0.84       667\n",
            "\n"
          ],
          "name": "stdout"
        }
      ]
    },
    {
      "cell_type": "code",
      "metadata": {
        "colab": {
          "base_uri": "https://localhost:8080/",
          "height": 302
        },
        "id": "VB9A3jWgeqwv",
        "outputId": "f89217f0-6663-46bd-a056-374c0eeb5e8c"
      },
      "source": [
        "metrics.plot_roc_curve(svc, X_val_scaled, y_val)"
      ],
      "execution_count": null,
      "outputs": [
        {
          "output_type": "execute_result",
          "data": {
            "text/plain": [
              "<sklearn.metrics._plot.roc_curve.RocCurveDisplay at 0x7f3679728eb8>"
            ]
          },
          "metadata": {
            "tags": []
          },
          "execution_count": 47
        },
        {
          "output_type": "display_data",
          "data": {
            "image/png": "[encoded data removed]",
            "text/plain": [
              "<Figure size 432x288 with 1 Axes>"
            ]
          },
          "metadata": {
            "tags": []
          }
        }
      ]
    },
    {
      "cell_type": "code",
      "metadata": {
        "colab": {
          "base_uri": "https://localhost:8080/",
          "height": 302
        },
        "id": "Adx-HQMEYAv6",
        "outputId": "d25ca29e-26f3-4e68-a8e7-abb643b303b2"
      },
      "source": [
        "metrics.plot_confusion_matrix(svc, X_val_scaled, y_val)"
      ],
      "execution_count": null,
      "outputs": [
        {
          "output_type": "execute_result",
          "data": {
            "text/plain": [
              "<sklearn.metrics._plot.confusion_matrix.ConfusionMatrixDisplay at 0x7f3678f012e8>"
            ]
          },
          "metadata": {
            "tags": []
          },
          "execution_count": 48
        },
        {
          "output_type": "display_data",
          "data": {
            "image/png": "[encoded data removed]",
            "text/plain": [
              "<Figure size 432x288 with 2 Axes>"
            ]
          },
          "metadata": {
            "tags": []
          }
        }
      ]
    },
    {
      "cell_type": "markdown",
      "metadata": {
        "id": "pXgstv51zUIm"
      },
      "source": [
        "##XGBoost"
      ]
    },
    {
      "cell_type": "code",
      "metadata": {
        "colab": {
          "base_uri": "https://localhost:8080/"
        },
        "id": "XCKGTCXi1BUs",
        "outputId": "4c68b75f-a2c1-46bb-89d6-f15ae90f9d06"
      },
      "source": [
        "print(X_train_resampled.shape)\n",
        "print(y_train_resampled.shape)"
      ],
      "execution_count": null,
      "outputs": [
        {
          "output_type": "stream",
          "text": [
            "(4556, 13)\n",
            "(4556,)\n"
          ],
          "name": "stdout"
        }
      ]
    },
    {
      "cell_type": "code",
      "metadata": {
        "id": "g1s7P-nh6ZV7"
      },
      "source": [
        "param_grid = {\n",
        "     'max_depth': [2, 4, 5, 8],\n",
        "     'learning_rate': [0.001, 0.01, 0.1, 0.5, 1.],\n",
        "     'gamma': [0.01, 0.1, 0.25, 0.5],\n",
        "     'reg_lambda': [10.0, 20., 50., 100.],\n",
        "      'scale_pos_weight': [1]}"
      ],
      "execution_count": null,
      "outputs": []
    },
    {
      "cell_type": "code",
      "metadata": {
        "id": "s31b2PHv1JRU"
      },
      "source": [
        "optimal_params = RandomizedSearchCV(\n",
        "    estimator=XGBClassifier(objective='binary:logistic', \n",
        "    seed=42, subsample=0.9,\n",
        "    colsample_bytree=0.5),\n",
        "    param_distributions=param_grid,\n",
        "    scoring='accuracy',\n",
        "    n_jobs=4, cv=3)"
      ],
      "execution_count": null,
      "outputs": []
    },
    {
      "cell_type": "code",
      "metadata": {
        "colab": {
          "base_uri": "https://localhost:8080/"
        },
        "id": "3-FYtPvM1NPe",
        "outputId": "936d26ea-0551-4e03-9a65-e3744ba9d46e"
      },
      "source": [
        "optimal_params.fit(X_train, y_train)"
      ],
      "execution_count": null,
      "outputs": [
        {
          "output_type": "execute_result",
          "data": {
            "text/plain": [
              "RandomizedSearchCV(cv=3, error_score=nan,\n",
              "                   estimator=XGBClassifier(base_score=0.5, booster='gbtree',\n",
              "                                           colsample_bylevel=1,\n",
              "                                           colsample_bynode=1,\n",
              "                                           colsample_bytree=0.5, gamma=0,\n",
              "                                           learning_rate=0.1, max_delta_step=0,\n",
              "                                           max_depth=3, min_child_weight=1,\n",
              "                                           missing=None, n_estimators=100,\n",
              "                                           n_jobs=1, nthread=None,\n",
              "                                           objective='binary:logistic',\n",
              "                                           random_state=0, reg_alpha=0,\n",
              "                                           reg_lambda=1,...\n",
              "                                           seed=42, silent=None, subsample=0.9,\n",
              "                                           verbosity=1),\n",
              "                   iid='deprecated', n_iter=10, n_jobs=4,\n",
              "                   param_distributions={'gamma': [0.01, 0.1, 0.25, 0.5],\n",
              "                                        'learning_rate': [0.001, 0.01, 0.1, 0.5,\n",
              "                                                          1.0],\n",
              "                                        'max_depth': [2, 4, 5, 8],\n",
              "                                        'reg_lambda': [10.0, 20.0, 50.0, 100.0],\n",
              "                                        'scale_pos_weight': [1]},\n",
              "                   pre_dispatch='2*n_jobs', random_state=None, refit=True,\n",
              "                   return_train_score=False, scoring='accuracy', verbose=0)"
            ]
          },
          "metadata": {
            "tags": []
          },
          "execution_count": 52
        }
      ]
    },
    {
      "cell_type": "code",
      "metadata": {
        "id": "gHSX_1OW3GJw"
      },
      "source": [
        "params = optimal_params.best_params_"
      ],
      "execution_count": null,
      "outputs": []
    },
    {
      "cell_type": "code",
      "metadata": {
        "id": "YtlIq7003e7W"
      },
      "source": [
        "clf_xgb = XGBClassifier(objective='binary:logistic',\n",
        "                        gamma=params['gamma'],\n",
        "                        learn_rate=params['learning_rate'],\n",
        "                        max_depth=params['max_depth'],\n",
        "                        reg_lambda=params['reg_lambda'],\n",
        "                        scale_pos_weight=1,\n",
        "                        subsample=0.9,\n",
        "                        colsample_bytree=0.5,\n",
        "                        random_state=42,\n",
        "                        n_jobs=4)\n"
      ],
      "execution_count": null,
      "outputs": []
    },
    {
      "cell_type": "code",
      "metadata": {
        "colab": {
          "base_uri": "https://localhost:8080/"
        },
        "id": "QevWYobMEpNb",
        "outputId": "9f9ba9a3-1676-4920-d253-62f36fda08b2"
      },
      "source": [
        "clf_xgb.fit(X_train_resampled, \n",
        "            y_train_resampled, \n",
        "            verbose=False)"
      ],
      "execution_count": null,
      "outputs": [
        {
          "output_type": "execute_result",
          "data": {
            "text/plain": [
              "XGBClassifier(base_score=0.5, booster='gbtree', colsample_bylevel=1,\n",
              "              colsample_bynode=1, colsample_bytree=0.5, gamma=0.25,\n",
              "              learn_rate=0.5, learning_rate=0.1, max_delta_step=0, max_depth=8,\n",
              "              min_child_weight=1, missing=None, n_estimators=100, n_jobs=4,\n",
              "              nthread=None, objective='binary:logistic', random_state=42,\n",
              "              reg_alpha=0, reg_lambda=10.0, scale_pos_weight=1, seed=None,\n",
              "              silent=None, subsample=0.9, verbosity=1)"
            ]
          },
          "metadata": {
            "tags": []
          },
          "execution_count": 55
        }
      ]
    },
    {
      "cell_type": "code",
      "metadata": {
        "id": "WPEaxfn16tQ_"
      },
      "source": [
        "y_val_preds = clf_xgb.predict(X_val)"
      ],
      "execution_count": null,
      "outputs": []
    },
    {
      "cell_type": "code",
      "metadata": {
        "colab": {
          "base_uri": "https://localhost:8080/"
        },
        "id": "DxLE-blW6kEB",
        "outputId": "63281359-31a0-42ce-aa73-26dd6617aa20"
      },
      "source": [
        "print(metrics.classification_report(y_val, \n",
        "                                    y_val_preds))"
      ],
      "execution_count": null,
      "outputs": [
        {
          "output_type": "stream",
          "text": [
            "              precision    recall  f1-score   support\n",
            "\n",
            "           0       0.95      0.97      0.96       572\n",
            "           1       0.76      0.67      0.72        95\n",
            "\n",
            "    accuracy                           0.92       667\n",
            "   macro avg       0.85      0.82      0.84       667\n",
            "weighted avg       0.92      0.92      0.92       667\n",
            "\n"
          ],
          "name": "stdout"
        }
      ]
    },
    {
      "cell_type": "code",
      "metadata": {
        "colab": {
          "base_uri": "https://localhost:8080/",
          "height": 302
        },
        "id": "ZrCMSFp1fVMD",
        "outputId": "769afac3-bc40-4826-db81-07a41c26e075"
      },
      "source": [
        "metrics.plot_roc_curve(clf_xgb, X_val, y_val)"
      ],
      "execution_count": null,
      "outputs": [
        {
          "output_type": "execute_result",
          "data": {
            "text/plain": [
              "<sklearn.metrics._plot.roc_curve.RocCurveDisplay at 0x7f3679638748>"
            ]
          },
          "metadata": {
            "tags": []
          },
          "execution_count": 58
        },
        {
          "output_type": "display_data",
          "data": {
            "image/png": "[encoded data removed]",
            "text/plain": [
              "<Figure size 432x288 with 1 Axes>"
            ]
          },
          "metadata": {
            "tags": []
          }
        }
      ]
    },
    {
      "cell_type": "code",
      "metadata": {
        "colab": {
          "base_uri": "https://localhost:8080/",
          "height": 302
        },
        "id": "jHPwtYkjYGY_",
        "outputId": "53f6b2ea-ff7f-4d3f-9541-18a2ebd36f54"
      },
      "source": [
        "metrics.plot_confusion_matrix(clf_xgb, X_val, y_val)"
      ],
      "execution_count": null,
      "outputs": [
        {
          "output_type": "execute_result",
          "data": {
            "text/plain": [
              "<sklearn.metrics._plot.confusion_matrix.ConfusionMatrixDisplay at 0x7f36795d07b8>"
            ]
          },
          "metadata": {
            "tags": []
          },
          "execution_count": 59
        },
        {
          "output_type": "display_data",
          "data": {
            "image/png": "[encoded data removed]",
            "text/plain": [
              "<Figure size 432x288 with 2 Axes>"
            ]
          },
          "metadata": {
            "tags": []
          }
        }
      ]
    },
    {
      "cell_type": "markdown",
      "metadata": {
        "id": "ArSeV9blsotA"
      },
      "source": [
        "## Bagging"
      ]
    },
    {
      "cell_type": "code",
      "metadata": {
        "id": "YUwMcikdesPb"
      },
      "source": [
        "from sklearn.tree import DecisionTreeClassifier\n",
        "params = {\n",
        "    'base_estimator': [LogisticRegression(),\n",
        "                       SVC(), DecisionTreeClassifier()],\n",
        "    'n_estimators': [10, 20, 50, 100, 200],\n",
        "    'max_features':[0.3, 0.5, 0,75, 1.],\n",
        "}"
      ],
      "execution_count": null,
      "outputs": []
    },
    {
      "cell_type": "code",
      "metadata": {
        "id": "bUVKTnTZgiJA"
      },
      "source": [
        "optimal_params, optimal_models = search_for_best_models(BaggingClassifier(), params,\n",
        "                       X_train_resampled,\n",
        "                       y_train_resampled)"
      ],
      "execution_count": null,
      "outputs": []
    },
    {
      "cell_type": "code",
      "metadata": {
        "id": "ZpnaXuNJsrf-"
      },
      "source": [
        "bagging = BaggingClassifier(\n",
        "    base_estimator=optimal_params['base_estimator'],\n",
        "    n_estimators=optimal_params['n_estimators'],\n",
        "    max_features=optimal_params['max_features'],\n",
        "    random_state=42, n_jobs=4,\n",
        "    bootstrap_features=True)"
      ],
      "execution_count": null,
      "outputs": []
    },
    {
      "cell_type": "code",
      "metadata": {
        "colab": {
          "base_uri": "https://localhost:8080/"
        },
        "id": "_von695Js8qH",
        "outputId": "4d314909-645c-406b-929f-e0feedd3103e"
      },
      "source": [
        "bagging.fit(X_train_resampled, y_train_resampled)"
      ],
      "execution_count": null,
      "outputs": [
        {
          "output_type": "execute_result",
          "data": {
            "text/plain": [
              "BaggingClassifier(base_estimator=LogisticRegression(C=1.0, class_weight=None,\n",
              "                                                    dual=False,\n",
              "                                                    fit_intercept=True,\n",
              "                                                    intercept_scaling=1,\n",
              "                                                    l1_ratio=None, max_iter=100,\n",
              "                                                    multi_class='auto',\n",
              "                                                    n_jobs=None, penalty='l2',\n",
              "                                                    random_state=None,\n",
              "                                                    solver='lbfgs', tol=0.0001,\n",
              "                                                    verbose=0,\n",
              "                                                    warm_start=False),\n",
              "                  bootstrap=True, bootstrap_features=True, max_features=0.3,\n",
              "                  max_samples=1.0, n_estimators=200, n_jobs=4, oob_score=False,\n",
              "                  random_state=42, verbose=0, warm_start=False)"
            ]
          },
          "metadata": {
            "tags": []
          },
          "execution_count": 171
        }
      ]
    },
    {
      "cell_type": "code",
      "metadata": {
        "id": "LyEBi1-wtYbD"
      },
      "source": [
        "y_val_preds = bagging.predict(X_val)"
      ],
      "execution_count": null,
      "outputs": []
    },
    {
      "cell_type": "code",
      "metadata": {
        "colab": {
          "base_uri": "https://localhost:8080/"
        },
        "id": "cMDIjWLotc6A",
        "outputId": "eeaafd44-c762-469b-b10b-669870269184"
      },
      "source": [
        "print(metrics.classification_report(y_val, y_val_preds))"
      ],
      "execution_count": null,
      "outputs": [
        {
          "output_type": "stream",
          "text": [
            "              precision    recall  f1-score   support\n",
            "\n",
            "           0       0.94      0.71      0.81       572\n",
            "           1       0.30      0.74      0.42        95\n",
            "\n",
            "    accuracy                           0.71       667\n",
            "   macro avg       0.62      0.72      0.62       667\n",
            "weighted avg       0.85      0.71      0.75       667\n",
            "\n"
          ],
          "name": "stdout"
        }
      ]
    },
    {
      "cell_type": "code",
      "metadata": {
        "colab": {
          "base_uri": "https://localhost:8080/",
          "height": 302
        },
        "id": "WVEqxJEEfZ5d",
        "outputId": "607fa950-c649-473f-f889-da5df76f1780"
      },
      "source": [
        "metrics.plot_roc_curve(bagging, X_val, y_val)"
      ],
      "execution_count": null,
      "outputs": [
        {
          "output_type": "execute_result",
          "data": {
            "text/plain": [
              "<sklearn.metrics._plot.roc_curve.RocCurveDisplay at 0x7f367993f4a8>"
            ]
          },
          "metadata": {
            "tags": []
          },
          "execution_count": 174
        },
        {
          "output_type": "display_data",
          "data": {
            "image/png": "[encoded data removed]",
            "text/plain": [
              "<Figure size 432x288 with 1 Axes>"
            ]
          },
          "metadata": {
            "tags": []
          }
        }
      ]
    },
    {
      "cell_type": "code",
      "metadata": {
        "colab": {
          "base_uri": "https://localhost:8080/",
          "height": 303
        },
        "id": "Qp0NIAw7YL2Y",
        "outputId": "47e06d9e-251e-4d35-8f94-56905eb8277c"
      },
      "source": [
        "metrics.plot_confusion_matrix(bagging, X_val, y_val)"
      ],
      "execution_count": null,
      "outputs": [
        {
          "output_type": "execute_result",
          "data": {
            "text/plain": [
              "<sklearn.metrics._plot.confusion_matrix.ConfusionMatrixDisplay at 0x7f35d37db630>"
            ]
          },
          "metadata": {
            "tags": []
          },
          "execution_count": 175
        },
        {
          "output_type": "display_data",
          "data": {
            "image/png": "[encoded data removed]",
            "text/plain": [
              "<Figure size 432x288 with 2 Axes>"
            ]
          },
          "metadata": {
            "tags": []
          }
        }
      ]
    },
    {
      "cell_type": "markdown",
      "metadata": {
        "id": "fiX4ngCSvJXQ"
      },
      "source": [
        "## RandomForest"
      ]
    },
    {
      "cell_type": "code",
      "metadata": {
        "id": "DT6ZNs2HoP4_"
      },
      "source": [
        "random.seed(42)\n",
        "np.random.seed(42)\n",
        "params = {\n",
        "    'n_estimators':[10, 50, 100, 200, 500, 1000, 2000],\n",
        "    'max_features':['auto', 'sqrt', None, 0.5, 0.9],\n",
        "    'max_depth':[None],\n",
        "    'min_samples_split': [2]\n",
        "}"
      ],
      "execution_count": null,
      "outputs": []
    },
    {
      "cell_type": "code",
      "metadata": {
        "id": "zKSR_qGfpwcU",
        "colab": {
          "base_uri": "https://localhost:8080/"
        },
        "outputId": "52c546dd-748a-404d-ecf5-cb4bcbf95ed1"
      },
      "source": [
        "optimal_params, optimal_models = search_for_best_models(\n",
        "    clf=RandomForestClassifier(), params=params,\n",
        "    X_train=X_train_resampled, y_train=y_train_resampled)"
      ],
      "execution_count": null,
      "outputs": [
        {
          "output_type": "stream",
          "text": [
            "/usr/local/lib/python3.6/dist-packages/joblib/externals/loky/process_executor.py:691: UserWarning: A worker stopped while some jobs were given to the executor. This can be caused by a too short worker timeout or by a memory leak.\n",
            "  \"timeout or by a memory leak.\", UserWarning\n"
          ],
          "name": "stderr"
        }
      ]
    },
    {
      "cell_type": "code",
      "metadata": {
        "id": "Pk0eRHx2vMRE"
      },
      "source": [
        "rf = RandomForestClassifier(n_estimators=optimal_params['n_estimators'],\n",
        "                            max_features=optimal_params['max_features'],\n",
        "                            max_depth=None,\n",
        "                            min_samples_split=2,\n",
        "                            n_jobs=4,\n",
        "                            random_state=42)"
      ],
      "execution_count": null,
      "outputs": []
    },
    {
      "cell_type": "code",
      "metadata": {
        "id": "orq_lMuQvYwS",
        "colab": {
          "base_uri": "https://localhost:8080/"
        },
        "outputId": "b55ec27b-10fd-48f4-dd1f-e8e20d9f3b3d"
      },
      "source": [
        "rf.fit(X_train_resampled, y_train_resampled)"
      ],
      "execution_count": null,
      "outputs": [
        {
          "output_type": "execute_result",
          "data": {
            "text/plain": [
              "RandomForestClassifier(bootstrap=True, ccp_alpha=0.0, class_weight=None,\n",
              "                       criterion='gini', max_depth=None, max_features='sqrt',\n",
              "                       max_leaf_nodes=None, max_samples=None,\n",
              "                       min_impurity_decrease=0.0, min_impurity_split=None,\n",
              "                       min_samples_leaf=1, min_samples_split=2,\n",
              "                       min_weight_fraction_leaf=0.0, n_estimators=2000,\n",
              "                       n_jobs=4, oob_score=False, random_state=42, verbose=0,\n",
              "                       warm_start=False)"
            ]
          },
          "metadata": {
            "tags": []
          },
          "execution_count": 71
        }
      ]
    },
    {
      "cell_type": "code",
      "metadata": {
        "id": "xAzXZz22xgpu",
        "colab": {
          "base_uri": "https://localhost:8080/"
        },
        "outputId": "38fdad23-ee02-4c5f-c686-55e1a9a5970c"
      },
      "source": [
        "y_val_predictions = rf.predict(X_val)\n",
        "print(metrics.classification_report(y_val, y_val_predictions))"
      ],
      "execution_count": null,
      "outputs": [
        {
          "output_type": "stream",
          "text": [
            "              precision    recall  f1-score   support\n",
            "\n",
            "           0       0.95      0.96      0.95       572\n",
            "           1       0.73      0.69      0.71        95\n",
            "\n",
            "    accuracy                           0.92       667\n",
            "   macro avg       0.84      0.83      0.83       667\n",
            "weighted avg       0.92      0.92      0.92       667\n",
            "\n"
          ],
          "name": "stdout"
        }
      ]
    },
    {
      "cell_type": "code",
      "metadata": {
        "id": "U0iw3SV1xxZF",
        "colab": {
          "base_uri": "https://localhost:8080/",
          "height": 302
        },
        "outputId": "5c931be2-ecfd-4af5-ba3b-188e130e7de0"
      },
      "source": [
        "metrics.plot_confusion_matrix(rf, X_val, y_val)"
      ],
      "execution_count": null,
      "outputs": [
        {
          "output_type": "execute_result",
          "data": {
            "text/plain": [
              "<sklearn.metrics._plot.confusion_matrix.ConfusionMatrixDisplay at 0x7f3677c4ec88>"
            ]
          },
          "metadata": {
            "tags": []
          },
          "execution_count": 73
        },
        {
          "output_type": "display_data",
          "data": {
            "image/png": "[encoded data removed]",
            "text/plain": [
              "<Figure size 432x288 with 2 Axes>"
            ]
          },
          "metadata": {
            "tags": []
          }
        }
      ]
    },
    {
      "cell_type": "code",
      "metadata": {
        "colab": {
          "base_uri": "https://localhost:8080/",
          "height": 302
        },
        "id": "HvcvgDBbgpkl",
        "outputId": "1613eb5c-b153-4305-d848-f3629ad69de7"
      },
      "source": [
        "metrics.plot_roc_curve(rf, X_val, y_val)"
      ],
      "execution_count": null,
      "outputs": [
        {
          "output_type": "execute_result",
          "data": {
            "text/plain": [
              "<sklearn.metrics._plot.roc_curve.RocCurveDisplay at 0x7f3679927860>"
            ]
          },
          "metadata": {
            "tags": []
          },
          "execution_count": 74
        },
        {
          "output_type": "display_data",
          "data": {
            "image/png": "[encoded data removed]",
            "text/plain": [
              "<Figure size 432x288 with 1 Axes>"
            ]
          },
          "metadata": {
            "tags": []
          }
        }
      ]
    },
    {
      "cell_type": "code",
      "metadata": {
        "colab": {
          "base_uri": "https://localhost:8080/",
          "height": 302
        },
        "id": "2VxxsqSJYP9i",
        "outputId": "414242af-3783-4c57-ef37-6b86fc693920"
      },
      "source": [
        "metrics.plot_confusion_matrix(rf, X_val, y_val)"
      ],
      "execution_count": null,
      "outputs": [
        {
          "output_type": "execute_result",
          "data": {
            "text/plain": [
              "<sklearn.metrics._plot.confusion_matrix.ConfusionMatrixDisplay at 0x7f3677b106a0>"
            ]
          },
          "metadata": {
            "tags": []
          },
          "execution_count": 75
        },
        {
          "output_type": "display_data",
          "data": {
            "image/png": "[encoded data removed]",
            "text/plain": [
              "<Figure size 432x288 with 2 Axes>"
            ]
          },
          "metadata": {
            "tags": []
          }
        }
      ]
    },
    {
      "cell_type": "markdown",
      "metadata": {
        "id": "GYto3JkXUit7"
      },
      "source": [
        "##Logistic Regression"
      ]
    },
    {
      "cell_type": "code",
      "metadata": {
        "id": "7l4bROak6ipC"
      },
      "source": [
        "params = {\"C\": np.logspace(-3, 3, 100),\n",
        "      \"penalty\": [\"l2\", 'None'],\n",
        "        'solver': ['newton-cg', 'lbfgs', 'sag', 'saga'],\n",
        "      }"
      ],
      "execution_count": null,
      "outputs": []
    },
    {
      "cell_type": "code",
      "metadata": {
        "id": "UomQooBgoQTw"
      },
      "source": [
        "optimal_params, optimal_models = search_for_best_models(LogisticRegression(),\n",
        "                                     params,\n",
        "                                     X_train_resampled,\n",
        "                                     y_train_resampled)"
      ],
      "execution_count": null,
      "outputs": []
    },
    {
      "cell_type": "code",
      "metadata": {
        "id": "8XZr0u6wksi2"
      },
      "source": [
        "from sklearn.linear_model import LogisticRegression\n",
        "clf = LogisticRegression(random_state=42, \n",
        "                         C=optimal_params['C'],\n",
        "                         penalty=optimal_params['penalty'],\n",
        "                         solver=optimal_params['solver'],\n",
        "                         fit_intercept=True,\n",
        "                         n_jobs=4)"
      ],
      "execution_count": null,
      "outputs": []
    },
    {
      "cell_type": "code",
      "metadata": {
        "colab": {
          "base_uri": "https://localhost:8080/"
        },
        "id": "oOGIX3qQnByJ",
        "outputId": "de665125-07d8-4a61-a33a-33b16c4bf13c"
      },
      "source": [
        "clf.fit(X_train_resampled,\n",
        "        y_train_resampled)"
      ],
      "execution_count": null,
      "outputs": [
        {
          "output_type": "execute_result",
          "data": {
            "text/plain": [
              "LogisticRegression(C=187.3817422860383, class_weight=None, dual=False,\n",
              "                   fit_intercept=True, intercept_scaling=1, l1_ratio=None,\n",
              "                   max_iter=100, multi_class='auto', n_jobs=4, penalty='l2',\n",
              "                   random_state=42, solver='newton-cg', tol=0.0001, verbose=0,\n",
              "                   warm_start=False)"
            ]
          },
          "metadata": {
            "tags": []
          },
          "execution_count": 79
        }
      ]
    },
    {
      "cell_type": "code",
      "metadata": {
        "colab": {
          "base_uri": "https://localhost:8080/"
        },
        "id": "_UIPOJYd6X5g",
        "outputId": "dbedbdac-613f-469d-b2f7-ac52ca260862"
      },
      "source": [
        "y_val_preds = clf.predict(X_val)\n",
        "print(metrics.classification_report(y_val, y_val_preds))"
      ],
      "execution_count": null,
      "outputs": [
        {
          "output_type": "stream",
          "text": [
            "              precision    recall  f1-score   support\n",
            "\n",
            "           0       0.94      0.69      0.80       572\n",
            "           1       0.29      0.75      0.42        95\n",
            "\n",
            "    accuracy                           0.70       667\n",
            "   macro avg       0.62      0.72      0.61       667\n",
            "weighted avg       0.85      0.70      0.75       667\n",
            "\n"
          ],
          "name": "stdout"
        }
      ]
    },
    {
      "cell_type": "code",
      "metadata": {
        "colab": {
          "base_uri": "https://localhost:8080/",
          "height": 302
        },
        "id": "3VVtpURjgtIC",
        "outputId": "df4cba0a-8230-4ea4-c378-7936f65eb0b4"
      },
      "source": [
        "metrics.plot_roc_curve(clf, X_val, y_val)"
      ],
      "execution_count": null,
      "outputs": [
        {
          "output_type": "execute_result",
          "data": {
            "text/plain": [
              "<sklearn.metrics._plot.roc_curve.RocCurveDisplay at 0x7f3677a30320>"
            ]
          },
          "metadata": {
            "tags": []
          },
          "execution_count": 81
        },
        {
          "output_type": "display_data",
          "data": {
            "image/png": "[encoded data removed]",
            "text/plain": [
              "<Figure size 432x288 with 1 Axes>"
            ]
          },
          "metadata": {
            "tags": []
          }
        }
      ]
    },
    {
      "cell_type": "code",
      "metadata": {
        "colab": {
          "base_uri": "https://localhost:8080/",
          "height": 302
        },
        "id": "EbDnnz1uX2NK",
        "outputId": "d687ce20-3894-418c-b99a-e219a332bd80"
      },
      "source": [
        "metrics.plot_confusion_matrix(clf, X_val, y_val)"
      ],
      "execution_count": null,
      "outputs": [
        {
          "output_type": "execute_result",
          "data": {
            "text/plain": [
              "<sklearn.metrics._plot.confusion_matrix.ConfusionMatrixDisplay at 0x7f36790f8860>"
            ]
          },
          "metadata": {
            "tags": []
          },
          "execution_count": 82
        },
        {
          "output_type": "display_data",
          "data": {
            "image/png": "[encoded data removed]",
            "text/plain": [
              "<Figure size 432x288 with 2 Axes>"
            ]
          },
          "metadata": {
            "tags": []
          }
        }
      ]
    },
    {
      "cell_type": "markdown",
      "metadata": {
        "id": "Il9aeyKxtuSB"
      },
      "source": [
        "##Voting"
      ]
    },
    {
      "cell_type": "code",
      "metadata": {
        "id": "P6U-iHau9AN3"
      },
      "source": [
        "voting = VotingClassifier(\n",
        "    estimators=[('rf', \n",
        "            RandomForestClassifier(bootstrap=True, ccp_alpha=0.0, class_weight=None,\n",
        "                       criterion='gini', max_depth=None, max_features=0.5,\n",
        "                       max_leaf_nodes=None, max_samples=None,\n",
        "                       min_impurity_decrease=0.0, min_impurity_split=None,\n",
        "                       min_samples_leaf=1, min_samples_split=2,\n",
        "                       min_weight_fraction_leaf=0.0, \n",
        "                       n_estimators=1000,\n",
        "                       n_jobs=4, oob_score=False, random_state=42, verbose=0,\n",
        "                       warm_start=False)\n",
        "                 ),\n",
        "                ('XGBoost', \n",
        "                XGBClassifier(base_score=0.5, booster='gbtree', colsample_bylevel=1,\n",
        "              colsample_bynode=1, colsample_bytree=0.5, gamma=0.25,\n",
        "              learn_rate=0.5, learning_rate=0.1, max_delta_step=0, max_depth=8,\n",
        "              min_child_weight=1, missing=None, n_estimators=2000, n_jobs=4,\n",
        "              nthread=None, objective='binary:logistic', random_state=42,\n",
        "              reg_alpha=0, reg_lambda=10.0, scale_pos_weight=1, seed=None,\n",
        "              silent=None, subsample=0.9, verbosity=1)), \n",
        "              ('lg', LogisticRegression(C=187.3817422860383, class_weight=None, dual=False,\n",
        "                   fit_intercept=True, intercept_scaling=1, l1_ratio=None,\n",
        "                   max_iter=100, multi_class='auto', n_jobs=4, penalty='l2',\n",
        "                   random_state=42, solver='newton-cg', tol=0.0001, verbose=0,\n",
        "                   warm_start=False))\n",
        "                  ],\n",
        "                voting='soft',\n",
        "                weights=[2, 4, 1],\n",
        "                n_jobs=4\n",
        ")"
      ],
      "execution_count": null,
      "outputs": []
    },
    {
      "cell_type": "code",
      "metadata": {
        "colab": {
          "base_uri": "https://localhost:8080/"
        },
        "id": "YhUUrCEg9raU",
        "outputId": "cd006294-c436-426a-8f1e-3ec9f7225aae"
      },
      "source": [
        "voting.fit(X_train_resampled, y_train_resampled)"
      ],
      "execution_count": null,
      "outputs": [
        {
          "output_type": "execute_result",
          "data": {
            "text/plain": [
              "VotingClassifier(estimators=[('rf',\n",
              "                              RandomForestClassifier(bootstrap=True,\n",
              "                                                     ccp_alpha=0.0,\n",
              "                                                     class_weight=None,\n",
              "                                                     criterion='gini',\n",
              "                                                     max_depth=None,\n",
              "                                                     max_features=0.5,\n",
              "                                                     max_leaf_nodes=None,\n",
              "                                                     max_samples=None,\n",
              "                                                     min_impurity_decrease=0.0,\n",
              "                                                     min_impurity_split=None,\n",
              "                                                     min_samples_leaf=1,\n",
              "                                                     min_samples_split=2,\n",
              "                                                     min_weight_fraction_leaf=0.0,\n",
              "                                                     n_estimators=1000,\n",
              "                                                     n_jobs=4, oob_score=Fals...\n",
              "                                            seed=None, silent=None,\n",
              "                                            subsample=0.9, verbosity=1)),\n",
              "                             ('lg',\n",
              "                              LogisticRegression(C=187.3817422860383,\n",
              "                                                 class_weight=None, dual=False,\n",
              "                                                 fit_intercept=True,\n",
              "                                                 intercept_scaling=1,\n",
              "                                                 l1_ratio=None, max_iter=100,\n",
              "                                                 multi_class='auto', n_jobs=4,\n",
              "                                                 penalty='l2', random_state=42,\n",
              "                                                 solver='newton-cg', tol=0.0001,\n",
              "                                                 verbose=0,\n",
              "                                                 warm_start=False))],\n",
              "                 flatten_transform=True, n_jobs=4, voting='soft',\n",
              "                 weights=[2, 4, 1])"
            ]
          },
          "metadata": {
            "tags": []
          },
          "execution_count": 85
        }
      ]
    },
    {
      "cell_type": "code",
      "metadata": {
        "id": "MNa1Zag3BqeX",
        "colab": {
          "base_uri": "https://localhost:8080/"
        },
        "outputId": "eccf0b4f-cf6d-45e4-c105-f92e7207ec92"
      },
      "source": [
        "y_val_preds = voting.predict(X_val)\n",
        "print(metrics.classification_report(y_val, y_val_preds))\n"
      ],
      "execution_count": null,
      "outputs": [
        {
          "output_type": "stream",
          "text": [
            "              precision    recall  f1-score   support\n",
            "\n",
            "           0       0.96      0.96      0.96       572\n",
            "           1       0.75      0.74      0.74        95\n",
            "\n",
            "    accuracy                           0.93       667\n",
            "   macro avg       0.85      0.85      0.85       667\n",
            "weighted avg       0.93      0.93      0.93       667\n",
            "\n"
          ],
          "name": "stdout"
        }
      ]
    },
    {
      "cell_type": "code",
      "metadata": {
        "colab": {
          "base_uri": "https://localhost:8080/",
          "height": 302
        },
        "id": "LxAVHirml92l",
        "outputId": "c595d44c-26b1-4c1c-d604-7a7c41450bec"
      },
      "source": [
        "from sklearn.model_selection import cross_val_score\n",
        "metrics.plot_roc_curve(voting, X_val, y_val)"
      ],
      "execution_count": null,
      "outputs": [
        {
          "output_type": "execute_result",
          "data": {
            "text/plain": [
              "<sklearn.metrics._plot.roc_curve.RocCurveDisplay at 0x7f36779e7e10>"
            ]
          },
          "metadata": {
            "tags": []
          },
          "execution_count": 87
        },
        {
          "output_type": "display_data",
          "data": {
            "image/png": "[encoded data removed]",
            "text/plain": [
              "<Figure size 432x288 with 1 Axes>"
            ]
          },
          "metadata": {
            "tags": []
          }
        }
      ]
    },
    {
      "cell_type": "code",
      "metadata": {
        "colab": {
          "base_uri": "https://localhost:8080/",
          "height": 302
        },
        "id": "4DSRwD2jdDxc",
        "outputId": "1a3fc695-84f8-453c-a699-7183973efa15"
      },
      "source": [
        "metrics.plot_confusion_matrix(voting, X_val, y_val)"
      ],
      "execution_count": null,
      "outputs": [
        {
          "output_type": "execute_result",
          "data": {
            "text/plain": [
              "<sklearn.metrics._plot.confusion_matrix.ConfusionMatrixDisplay at 0x7f36797e38d0>"
            ]
          },
          "metadata": {
            "tags": []
          },
          "execution_count": 146
        },
        {
          "output_type": "display_data",
          "data": {
            "image/png": "[encoded data removed]",
            "text/plain": [
              "<Figure size 432x288 with 2 Axes>"
            ]
          },
          "metadata": {
            "tags": []
          }
        }
      ]
    },
    {
      "cell_type": "markdown",
      "metadata": {
        "id": "4lvC8XzaJr7n"
      },
      "source": [
        "#Variational Autoencoder"
      ]
    },
    {
      "cell_type": "code",
      "metadata": {
        "id": "tukAReRiK2WO"
      },
      "source": [
        "import keras\n",
        "from keras import layers\n",
        "from sklearn.preprocessing import MinMaxScaler\n",
        "from keras import backend as K"
      ],
      "execution_count": null,
      "outputs": []
    },
    {
      "cell_type": "code",
      "metadata": {
        "id": "OrAHPlDP9pD3",
        "colab": {
          "base_uri": "https://localhost:8080/"
        },
        "outputId": "26d8ecde-16cb-4523-a5cc-4f9d22bc1956"
      },
      "source": [
        "X_train, y_train = get_train_test(df)\n",
        "X_val, y_val = get_val_data()"
      ],
      "execution_count": null,
      "outputs": [
        {
          "output_type": "stream",
          "text": [
            "X train shape= (2666, 13)\n",
            "y train shape= (2666,)\n",
            "Churn in train rate: 0.145536384096024\n",
            " X val shape =  (667, 13)\n",
            " y val shape =  (667,)\n",
            "Churn in train rate: 0.1424287856071964\n"
          ],
          "name": "stdout"
        }
      ]
    },
    {
      "cell_type": "code",
      "metadata": {
        "id": "JLfrDbVzAJRP"
      },
      "source": [
        "y_train_non_churn = y_train[y_train==0]\n",
        "y_train_churn = y_train[y_train==1]"
      ],
      "execution_count": null,
      "outputs": []
    },
    {
      "cell_type": "code",
      "metadata": {
        "id": "feVbv_BVAlzd"
      },
      "source": [
        "X_train_non_churn = X_train[y_train==0,:]\n",
        "X_train_churn = X_train[y_train==1,:]"
      ],
      "execution_count": null,
      "outputs": []
    },
    {
      "cell_type": "code",
      "metadata": {
        "id": "KoQmDBz9BB8U"
      },
      "source": [
        "# X_test_non_churn = X_test[y_test == 0, :]\n",
        "# X_test_churn = X_test[y_test == 1, :]\n",
        "\n",
        "X_val_non_churn = X_val[y_val == 0, :]\n",
        "X_val_churn = X_val[y_val == 1, :]\n",
        "\n",
        "# y_test_non_churn = y_test[y_test == 0]\n",
        "# y_test_churn = y_test[y_test == 1]\n",
        "\n",
        "y_val_non_churn = y_val[y_val == 0]\n",
        "y_val_churn = y_val[y_val == 1]"
      ],
      "execution_count": null,
      "outputs": []
    },
    {
      "cell_type": "code",
      "metadata": {
        "id": "VDnXQs6GKUsD",
        "colab": {
          "base_uri": "https://localhost:8080/"
        },
        "outputId": "84547f62-a7ed-4455-aff1-6a3f7438fa55"
      },
      "source": [
        "print(\"Train churn = \", X_train_churn.shape)\n",
        "print(\"Train non churn = \", X_train_non_churn.shape)\n",
        "# print(\"Test churn = \", X_test_churn.shape)\n",
        "# print(\"Test none churn = \", X_test_non_churn.shape)\n",
        "print(\"Val churn = \", X_val_churn.shape)\n",
        "print(\"Val none churn = \", X_val_non_churn.shape)"
      ],
      "execution_count": null,
      "outputs": [
        {
          "output_type": "stream",
          "text": [
            "Train churn =  (388, 13)\n",
            "Train non churn =  (2278, 13)\n",
            "Val churn =  (95, 13)\n",
            "Val none churn =  (572, 13)\n"
          ],
          "name": "stdout"
        }
      ]
    },
    {
      "cell_type": "code",
      "metadata": {
        "id": "zXq0CpqN4kOH"
      },
      "source": [
        "scaler = MinMaxScaler()"
      ],
      "execution_count": null,
      "outputs": []
    },
    {
      "cell_type": "code",
      "metadata": {
        "id": "1Z7frOc4KqIG"
      },
      "source": [
        "X_train_non_churn = scaler.fit_transform(X_train_non_churn)\n",
        "X_train_churn = scaler.transform(X_train_churn)\n",
        "\n",
        "# X_test_non_churn = scaler.transform(X_test_non_churn)\n",
        "# X_test_churn = scaler.transform(X_test_churn)\n",
        "\n",
        "X_val_non_churn = scaler.transform(X_val_non_churn)\n",
        "X_val_churn = scaler.transform(X_val_churn)"
      ],
      "execution_count": null,
      "outputs": []
    },
    {
      "cell_type": "code",
      "metadata": {
        "id": "FVddXgI5OSeu",
        "colab": {
          "base_uri": "https://localhost:8080/"
        },
        "outputId": "3af661b8-30ae-41eb-9b16-63c7d4524f78"
      },
      "source": [
        "print(\"Train churn = \", X_train_churn.shape)\n",
        "print(\"Train non churn = \", X_train_non_churn.shape)\n",
        "# print(\"Test churn = \", X_test_churn.shape)\n",
        "# print(\"Test none churn = \", X_test_non_churn.shape)\n",
        "print(\"Val churn = \", X_val_churn.shape)\n",
        "print(\"Val none churn = \", X_val_non_churn.shape)"
      ],
      "execution_count": null,
      "outputs": [
        {
          "output_type": "stream",
          "text": [
            "Train churn =  (388, 13)\n",
            "Train non churn =  (2278, 13)\n",
            "Val churn =  (95, 13)\n",
            "Val none churn =  (572, 13)\n"
          ],
          "name": "stdout"
        }
      ]
    },
    {
      "cell_type": "code",
      "metadata": {
        "id": "amip3gnEJvoY"
      },
      "source": [
        "X_train_reshape = X_train_non_churn\n",
        "y_train_reshape = y_train_non_churn\n",
        "\n",
        "original_dim = X_train_reshape.shape[1]\n",
        "intermediate_dim = 8\n",
        "latent_dim = 2\n",
        "\n",
        "inputs = keras.Input(shape=(original_dim,))\n",
        "h = layers.Dense(16, activation='elu')(inputs)\n",
        "# h = layers.Dense(256, activation='relu')(h)\n",
        "h = layers.Dense(intermediate_dim, activation='elu')(h)\n",
        "z_mean = layers.Dense(latent_dim)(h)\n",
        "z_log_sigma = layers.Dense(latent_dim)(h)"
      ],
      "execution_count": null,
      "outputs": []
    },
    {
      "cell_type": "code",
      "metadata": {
        "id": "rrLr8Qj-J4zI"
      },
      "source": [
        "def sampling(args):\n",
        "    z_mean, z_log_sigma = args\n",
        "    epsilon = K.random_normal(shape=(K.shape(z_mean)[0], latent_dim),\n",
        "                              mean=0., stddev=0.1)\n",
        "    return z_mean + K.exp(z_log_sigma) * epsilon\n",
        "    \n",
        "z = layers.Lambda(sampling)([z_mean, z_log_sigma])"
      ],
      "execution_count": null,
      "outputs": []
    },
    {
      "cell_type": "code",
      "metadata": {
        "id": "8HwllcmAJ8Ae"
      },
      "source": [
        "# Create encoder\n",
        "encoder = keras.Model(inputs, [z_mean, z_log_sigma, z], name='encoder')\n",
        "# Create decoder\n",
        "latent_inputs = keras.Input(shape=(latent_dim,), name='z_sampling')\n",
        "x = layers.Dense(intermediate_dim, activation='elu')(latent_inputs)\n",
        "# x = layers.Dense(256, activation='relu')(x)\n",
        "x = layers.Dense(16, activation='elu')(x)\n",
        "outputs = layers.Dense(original_dim, activation='linear')(x)\n",
        "decoder = keras.Model(latent_inputs, outputs, name='decoder')\n",
        "# instantiate VAE model\n",
        "outputs = decoder(encoder(inputs)[2])\n",
        "vae = keras.Model(inputs, outputs, name='vae_mlp')"
      ],
      "execution_count": null,
      "outputs": []
    },
    {
      "cell_type": "code",
      "metadata": {
        "id": "3YS1ZwmsJ-b1"
      },
      "source": [
        "# reconstruction_loss = keras.losses.binary_crossentropy(inputs, outputs)\n",
        "reconstruction_loss = keras.losses.mean_squared_error(inputs, outputs)\n",
        "reconstruction_loss *= original_dim\n",
        "kl_loss = 1 + z_log_sigma - K.square(z_mean) - K.exp(z_log_sigma)\n",
        "kl_loss = K.sum(kl_loss, axis=-1)\n",
        "kl_loss *= -0.5\n",
        "vae_loss = K.mean(reconstruction_loss + kl_loss)\n",
        "vae.add_loss(vae_loss)\n",
        "vae.compile(optimizer='adam', metrics=['mse'])"
      ],
      "execution_count": null,
      "outputs": []
    },
    {
      "cell_type": "code",
      "metadata": {
        "colab": {
          "base_uri": "https://localhost:8080/"
        },
        "id": "yb2LPpddKc4f",
        "outputId": "a2ca02d0-546f-4d2d-b89d-3066d635fa52"
      },
      "source": [
        "vae.fit(X_train_reshape, X_train_reshape,\n",
        "        epochs=150,\n",
        "        batch_size=128,\n",
        "        validation_data=(X_val_non_churn,\n",
        "                         X_val_non_churn))"
      ],
      "execution_count": null,
      "outputs": [
        {
          "output_type": "stream",
          "text": [
            "Epoch 1/150\n",
            "18/18 [==============================] - 1s 29ms/step - loss: 2.3343 - mse: 0.1607 - val_loss: 1.5504 - val_mse: 0.0919\n",
            "Epoch 2/150\n",
            "18/18 [==============================] - 0s 6ms/step - loss: 1.3287 - mse: 0.0755 - val_loss: 0.9256 - val_mse: 0.0454\n",
            "Epoch 3/150\n",
            "18/18 [==============================] - 0s 5ms/step - loss: 0.8220 - mse: 0.0406 - val_loss: 0.6502 - val_mse: 0.0326\n",
            "Epoch 4/150\n",
            "18/18 [==============================] - 0s 5ms/step - loss: 0.5874 - mse: 0.0294 - val_loss: 0.5143 - val_mse: 0.0273\n",
            "Epoch 5/150\n",
            "18/18 [==============================] - 0s 5ms/step - loss: 0.4811 - mse: 0.0260 - val_loss: 0.4496 - val_mse: 0.0262\n",
            "Epoch 6/150\n",
            "18/18 [==============================] - 0s 5ms/step - loss: 0.4241 - mse: 0.0248 - val_loss: 0.4158 - val_mse: 0.0252\n",
            "Epoch 7/150\n",
            "18/18 [==============================] - 0s 5ms/step - loss: 0.3989 - mse: 0.0246 - val_loss: 0.3911 - val_mse: 0.0252\n",
            "Epoch 8/150\n",
            "18/18 [==============================] - 0s 5ms/step - loss: 0.3788 - mse: 0.0244 - val_loss: 0.3811 - val_mse: 0.0252\n",
            "Epoch 9/150\n",
            "18/18 [==============================] - 0s 5ms/step - loss: 0.3689 - mse: 0.0245 - val_loss: 0.3662 - val_mse: 0.0245\n",
            "Epoch 10/150\n",
            "18/18 [==============================] - 0s 5ms/step - loss: 0.3587 - mse: 0.0244 - val_loss: 0.3644 - val_mse: 0.0249\n",
            "Epoch 11/150\n",
            "18/18 [==============================] - 0s 5ms/step - loss: 0.3495 - mse: 0.0241 - val_loss: 0.3537 - val_mse: 0.0247\n",
            "Epoch 12/150\n",
            "18/18 [==============================] - 0s 5ms/step - loss: 0.3420 - mse: 0.0238 - val_loss: 0.3495 - val_mse: 0.0244\n",
            "Epoch 13/150\n",
            "18/18 [==============================] - 0s 5ms/step - loss: 0.3440 - mse: 0.0243 - val_loss: 0.3402 - val_mse: 0.0241\n",
            "Epoch 14/150\n",
            "18/18 [==============================] - 0s 6ms/step - loss: 0.3346 - mse: 0.0238 - val_loss: 0.3409 - val_mse: 0.0245\n",
            "Epoch 15/150\n",
            "18/18 [==============================] - 0s 6ms/step - loss: 0.3313 - mse: 0.0238 - val_loss: 0.3337 - val_mse: 0.0241\n",
            "Epoch 16/150\n",
            "18/18 [==============================] - 0s 6ms/step - loss: 0.3263 - mse: 0.0236 - val_loss: 0.3260 - val_mse: 0.0237\n",
            "Epoch 17/150\n",
            "18/18 [==============================] - 0s 6ms/step - loss: 0.3156 - mse: 0.0229 - val_loss: 0.3269 - val_mse: 0.0237\n",
            "Epoch 18/150\n",
            "18/18 [==============================] - 0s 6ms/step - loss: 0.3146 - mse: 0.0229 - val_loss: 0.3190 - val_mse: 0.0233\n",
            "Epoch 19/150\n",
            "18/18 [==============================] - 0s 6ms/step - loss: 0.3092 - mse: 0.0227 - val_loss: 0.3185 - val_mse: 0.0234\n",
            "Epoch 20/150\n",
            "18/18 [==============================] - 0s 6ms/step - loss: 0.3101 - mse: 0.0228 - val_loss: 0.3126 - val_mse: 0.0229\n",
            "Epoch 21/150\n",
            "18/18 [==============================] - 0s 5ms/step - loss: 0.3029 - mse: 0.0223 - val_loss: 0.3141 - val_mse: 0.0229\n",
            "Epoch 22/150\n",
            "18/18 [==============================] - 0s 6ms/step - loss: 0.3012 - mse: 0.0222 - val_loss: 0.3035 - val_mse: 0.0224\n",
            "Epoch 23/150\n",
            "18/18 [==============================] - 0s 5ms/step - loss: 0.2942 - mse: 0.0217 - val_loss: 0.3037 - val_mse: 0.0224\n",
            "Epoch 24/150\n",
            "18/18 [==============================] - 0s 5ms/step - loss: 0.2936 - mse: 0.0217 - val_loss: 0.2995 - val_mse: 0.0220\n",
            "Epoch 25/150\n",
            "18/18 [==============================] - 0s 5ms/step - loss: 0.2863 - mse: 0.0212 - val_loss: 0.2925 - val_mse: 0.0214\n",
            "Epoch 26/150\n",
            "18/18 [==============================] - 0s 5ms/step - loss: 0.2841 - mse: 0.0209 - val_loss: 0.2913 - val_mse: 0.0214\n",
            "Epoch 27/150\n",
            "18/18 [==============================] - 0s 5ms/step - loss: 0.2799 - mse: 0.0206 - val_loss: 0.2850 - val_mse: 0.0208\n",
            "Epoch 28/150\n",
            "18/18 [==============================] - 0s 5ms/step - loss: 0.2766 - mse: 0.0203 - val_loss: 0.2794 - val_mse: 0.0203\n",
            "Epoch 29/150\n",
            "18/18 [==============================] - 0s 5ms/step - loss: 0.2713 - mse: 0.0197 - val_loss: 0.2743 - val_mse: 0.0198\n",
            "Epoch 30/150\n",
            "18/18 [==============================] - 0s 5ms/step - loss: 0.2683 - mse: 0.0194 - val_loss: 0.2696 - val_mse: 0.0193\n",
            "Epoch 31/150\n",
            "18/18 [==============================] - 0s 5ms/step - loss: 0.2582 - mse: 0.0185 - val_loss: 0.2667 - val_mse: 0.0191\n",
            "Epoch 32/150\n",
            "18/18 [==============================] - 0s 6ms/step - loss: 0.2569 - mse: 0.0185 - val_loss: 0.2630 - val_mse: 0.0188\n",
            "Epoch 33/150\n",
            "18/18 [==============================] - 0s 6ms/step - loss: 0.2563 - mse: 0.0183 - val_loss: 0.2609 - val_mse: 0.0186\n",
            "Epoch 34/150\n",
            "18/18 [==============================] - 0s 6ms/step - loss: 0.2558 - mse: 0.0182 - val_loss: 0.2571 - val_mse: 0.0183\n",
            "Epoch 35/150\n",
            "18/18 [==============================] - 0s 6ms/step - loss: 0.2502 - mse: 0.0179 - val_loss: 0.2543 - val_mse: 0.0181\n",
            "Epoch 36/150\n",
            "18/18 [==============================] - 0s 6ms/step - loss: 0.2480 - mse: 0.0177 - val_loss: 0.2551 - val_mse: 0.0182\n",
            "Epoch 37/150\n",
            "18/18 [==============================] - 0s 6ms/step - loss: 0.2457 - mse: 0.0175 - val_loss: 0.2530 - val_mse: 0.0180\n",
            "Epoch 38/150\n",
            "18/18 [==============================] - 0s 6ms/step - loss: 0.2450 - mse: 0.0174 - val_loss: 0.2527 - val_mse: 0.0179\n",
            "Epoch 39/150\n",
            "18/18 [==============================] - 0s 6ms/step - loss: 0.2468 - mse: 0.0176 - val_loss: 0.2510 - val_mse: 0.0178\n",
            "Epoch 40/150\n",
            "18/18 [==============================] - 0s 6ms/step - loss: 0.2415 - mse: 0.0172 - val_loss: 0.2510 - val_mse: 0.0178\n",
            "Epoch 41/150\n",
            "18/18 [==============================] - 0s 6ms/step - loss: 0.2461 - mse: 0.0175 - val_loss: 0.2486 - val_mse: 0.0176\n",
            "Epoch 42/150\n",
            "18/18 [==============================] - 0s 6ms/step - loss: 0.2390 - mse: 0.0170 - val_loss: 0.2490 - val_mse: 0.0176\n",
            "Epoch 43/150\n",
            "18/18 [==============================] - 0s 6ms/step - loss: 0.2395 - mse: 0.0170 - val_loss: 0.2475 - val_mse: 0.0175\n",
            "Epoch 44/150\n",
            "18/18 [==============================] - 0s 5ms/step - loss: 0.2414 - mse: 0.0172 - val_loss: 0.2478 - val_mse: 0.0175\n",
            "Epoch 45/150\n",
            "18/18 [==============================] - 0s 6ms/step - loss: 0.2405 - mse: 0.0170 - val_loss: 0.2480 - val_mse: 0.0175\n",
            "Epoch 46/150\n",
            "18/18 [==============================] - 0s 5ms/step - loss: 0.2435 - mse: 0.0172 - val_loss: 0.2472 - val_mse: 0.0175\n",
            "Epoch 47/150\n",
            "18/18 [==============================] - 0s 5ms/step - loss: 0.2385 - mse: 0.0170 - val_loss: 0.2479 - val_mse: 0.0176\n",
            "Epoch 48/150\n",
            "18/18 [==============================] - 0s 5ms/step - loss: 0.2404 - mse: 0.0171 - val_loss: 0.2459 - val_mse: 0.0173\n",
            "Epoch 49/150\n",
            "18/18 [==============================] - 0s 5ms/step - loss: 0.2396 - mse: 0.0170 - val_loss: 0.2444 - val_mse: 0.0172\n",
            "Epoch 50/150\n",
            "18/18 [==============================] - 0s 5ms/step - loss: 0.2397 - mse: 0.0170 - val_loss: 0.2425 - val_mse: 0.0171\n",
            "Epoch 51/150\n",
            "18/18 [==============================] - 0s 5ms/step - loss: 0.2345 - mse: 0.0166 - val_loss: 0.2443 - val_mse: 0.0172\n",
            "Epoch 52/150\n",
            "18/18 [==============================] - 0s 6ms/step - loss: 0.2388 - mse: 0.0169 - val_loss: 0.2451 - val_mse: 0.0173\n",
            "Epoch 53/150\n",
            "18/18 [==============================] - 0s 7ms/step - loss: 0.2370 - mse: 0.0168 - val_loss: 0.2430 - val_mse: 0.0170\n",
            "Epoch 54/150\n",
            "18/18 [==============================] - 0s 14ms/step - loss: 0.2414 - mse: 0.0171 - val_loss: 0.2449 - val_mse: 0.0172\n",
            "Epoch 55/150\n",
            "18/18 [==============================] - 0s 6ms/step - loss: 0.2390 - mse: 0.0168 - val_loss: 0.2423 - val_mse: 0.0170\n",
            "Epoch 56/150\n",
            "18/18 [==============================] - 0s 6ms/step - loss: 0.2372 - mse: 0.0167 - val_loss: 0.2456 - val_mse: 0.0173\n",
            "Epoch 57/150\n",
            "18/18 [==============================] - 0s 6ms/step - loss: 0.2398 - mse: 0.0169 - val_loss: 0.2451 - val_mse: 0.0171\n",
            "Epoch 58/150\n",
            "18/18 [==============================] - 0s 6ms/step - loss: 0.2415 - mse: 0.0170 - val_loss: 0.2423 - val_mse: 0.0170\n",
            "Epoch 59/150\n",
            "18/18 [==============================] - 0s 5ms/step - loss: 0.2393 - mse: 0.0169 - val_loss: 0.2422 - val_mse: 0.0169\n",
            "Epoch 60/150\n",
            "18/18 [==============================] - 0s 5ms/step - loss: 0.2372 - mse: 0.0167 - val_loss: 0.2441 - val_mse: 0.0171\n",
            "Epoch 61/150\n",
            "18/18 [==============================] - 0s 5ms/step - loss: 0.2371 - mse: 0.0166 - val_loss: 0.2422 - val_mse: 0.0169\n",
            "Epoch 62/150\n",
            "18/18 [==============================] - 0s 5ms/step - loss: 0.2337 - mse: 0.0164 - val_loss: 0.2422 - val_mse: 0.0170\n",
            "Epoch 63/150\n",
            "18/18 [==============================] - 0s 5ms/step - loss: 0.2392 - mse: 0.0168 - val_loss: 0.2441 - val_mse: 0.0170\n",
            "Epoch 64/150\n",
            "18/18 [==============================] - 0s 5ms/step - loss: 0.2389 - mse: 0.0168 - val_loss: 0.2423 - val_mse: 0.0169\n",
            "Epoch 65/150\n",
            "18/18 [==============================] - 0s 5ms/step - loss: 0.2359 - mse: 0.0165 - val_loss: 0.2421 - val_mse: 0.0169\n",
            "Epoch 66/150\n",
            "18/18 [==============================] - 0s 5ms/step - loss: 0.2325 - mse: 0.0163 - val_loss: 0.2420 - val_mse: 0.0169\n",
            "Epoch 67/150\n",
            "18/18 [==============================] - 0s 5ms/step - loss: 0.2355 - mse: 0.0165 - val_loss: 0.2423 - val_mse: 0.0169\n",
            "Epoch 68/150\n",
            "18/18 [==============================] - 0s 6ms/step - loss: 0.2351 - mse: 0.0165 - val_loss: 0.2430 - val_mse: 0.0169\n",
            "Epoch 69/150\n",
            "18/18 [==============================] - 0s 5ms/step - loss: 0.2385 - mse: 0.0167 - val_loss: 0.2418 - val_mse: 0.0168\n",
            "Epoch 70/150\n",
            "18/18 [==============================] - 0s 5ms/step - loss: 0.2347 - mse: 0.0164 - val_loss: 0.2436 - val_mse: 0.0170\n",
            "Epoch 71/150\n",
            "18/18 [==============================] - 0s 5ms/step - loss: 0.2350 - mse: 0.0164 - val_loss: 0.2421 - val_mse: 0.0169\n",
            "Epoch 72/150\n",
            "18/18 [==============================] - 0s 6ms/step - loss: 0.2346 - mse: 0.0164 - val_loss: 0.2414 - val_mse: 0.0168\n",
            "Epoch 73/150\n",
            "18/18 [==============================] - 0s 5ms/step - loss: 0.2369 - mse: 0.0165 - val_loss: 0.2412 - val_mse: 0.0168\n",
            "Epoch 74/150\n",
            "18/18 [==============================] - 0s 5ms/step - loss: 0.2356 - mse: 0.0165 - val_loss: 0.2412 - val_mse: 0.0168\n",
            "Epoch 75/150\n",
            "18/18 [==============================] - 0s 5ms/step - loss: 0.2374 - mse: 0.0166 - val_loss: 0.2412 - val_mse: 0.0167\n",
            "Epoch 76/150\n",
            "18/18 [==============================] - 0s 5ms/step - loss: 0.2377 - mse: 0.0166 - val_loss: 0.2408 - val_mse: 0.0168\n",
            "Epoch 77/150\n",
            "18/18 [==============================] - 0s 5ms/step - loss: 0.2369 - mse: 0.0166 - val_loss: 0.2423 - val_mse: 0.0169\n",
            "Epoch 78/150\n",
            "18/18 [==============================] - 0s 5ms/step - loss: 0.2361 - mse: 0.0165 - val_loss: 0.2426 - val_mse: 0.0168\n",
            "Epoch 79/150\n",
            "18/18 [==============================] - 0s 5ms/step - loss: 0.2339 - mse: 0.0162 - val_loss: 0.2412 - val_mse: 0.0167\n",
            "Epoch 80/150\n",
            "18/18 [==============================] - 0s 6ms/step - loss: 0.2378 - mse: 0.0166 - val_loss: 0.2412 - val_mse: 0.0167\n",
            "Epoch 81/150\n",
            "18/18 [==============================] - 0s 5ms/step - loss: 0.2324 - mse: 0.0163 - val_loss: 0.2375 - val_mse: 0.0166\n",
            "Epoch 82/150\n",
            "18/18 [==============================] - 0s 5ms/step - loss: 0.2365 - mse: 0.0166 - val_loss: 0.2400 - val_mse: 0.0166\n",
            "Epoch 83/150\n",
            "18/18 [==============================] - 0s 6ms/step - loss: 0.2331 - mse: 0.0162 - val_loss: 0.2429 - val_mse: 0.0168\n",
            "Epoch 84/150\n",
            "18/18 [==============================] - 0s 5ms/step - loss: 0.2328 - mse: 0.0162 - val_loss: 0.2427 - val_mse: 0.0169\n",
            "Epoch 85/150\n",
            "18/18 [==============================] - 0s 5ms/step - loss: 0.2367 - mse: 0.0165 - val_loss: 0.2408 - val_mse: 0.0166\n",
            "Epoch 86/150\n",
            "18/18 [==============================] - 0s 5ms/step - loss: 0.2362 - mse: 0.0165 - val_loss: 0.2410 - val_mse: 0.0168\n",
            "Epoch 87/150\n",
            "18/18 [==============================] - 0s 5ms/step - loss: 0.2367 - mse: 0.0165 - val_loss: 0.2416 - val_mse: 0.0167\n",
            "Epoch 88/150\n",
            "18/18 [==============================] - 0s 5ms/step - loss: 0.2410 - mse: 0.0168 - val_loss: 0.2408 - val_mse: 0.0166\n",
            "Epoch 89/150\n",
            "18/18 [==============================] - 0s 5ms/step - loss: 0.2330 - mse: 0.0162 - val_loss: 0.2398 - val_mse: 0.0167\n",
            "Epoch 90/150\n",
            "18/18 [==============================] - 0s 5ms/step - loss: 0.2352 - mse: 0.0164 - val_loss: 0.2386 - val_mse: 0.0166\n",
            "Epoch 91/150\n",
            "18/18 [==============================] - 0s 5ms/step - loss: 0.2346 - mse: 0.0164 - val_loss: 0.2377 - val_mse: 0.0165\n",
            "Epoch 92/150\n",
            "18/18 [==============================] - 0s 5ms/step - loss: 0.2370 - mse: 0.0166 - val_loss: 0.2396 - val_mse: 0.0167\n",
            "Epoch 93/150\n",
            "18/18 [==============================] - 0s 6ms/step - loss: 0.2365 - mse: 0.0165 - val_loss: 0.2391 - val_mse: 0.0165\n",
            "Epoch 94/150\n",
            "18/18 [==============================] - 0s 6ms/step - loss: 0.2325 - mse: 0.0161 - val_loss: 0.2407 - val_mse: 0.0167\n",
            "Epoch 95/150\n",
            "18/18 [==============================] - 0s 6ms/step - loss: 0.2382 - mse: 0.0166 - val_loss: 0.2422 - val_mse: 0.0168\n",
            "Epoch 96/150\n",
            "18/18 [==============================] - 0s 6ms/step - loss: 0.2364 - mse: 0.0165 - val_loss: 0.2428 - val_mse: 0.0169\n",
            "Epoch 97/150\n",
            "18/18 [==============================] - 0s 6ms/step - loss: 0.2370 - mse: 0.0166 - val_loss: 0.2394 - val_mse: 0.0165\n",
            "Epoch 98/150\n",
            "18/18 [==============================] - 0s 7ms/step - loss: 0.2349 - mse: 0.0163 - val_loss: 0.2405 - val_mse: 0.0167\n",
            "Epoch 99/150\n",
            "18/18 [==============================] - 0s 6ms/step - loss: 0.2362 - mse: 0.0166 - val_loss: 0.2438 - val_mse: 0.0169\n",
            "Epoch 100/150\n",
            "18/18 [==============================] - 0s 5ms/step - loss: 0.2337 - mse: 0.0163 - val_loss: 0.2416 - val_mse: 0.0168\n",
            "Epoch 101/150\n",
            "18/18 [==============================] - 0s 5ms/step - loss: 0.2353 - mse: 0.0165 - val_loss: 0.2407 - val_mse: 0.0166\n",
            "Epoch 102/150\n",
            "18/18 [==============================] - 0s 5ms/step - loss: 0.2347 - mse: 0.0164 - val_loss: 0.2380 - val_mse: 0.0164\n",
            "Epoch 103/150\n",
            "18/18 [==============================] - 0s 6ms/step - loss: 0.2331 - mse: 0.0162 - val_loss: 0.2390 - val_mse: 0.0166\n",
            "Epoch 104/150\n",
            "18/18 [==============================] - 0s 5ms/step - loss: 0.2356 - mse: 0.0164 - val_loss: 0.2413 - val_mse: 0.0167\n",
            "Epoch 105/150\n",
            "18/18 [==============================] - 0s 5ms/step - loss: 0.2361 - mse: 0.0165 - val_loss: 0.2395 - val_mse: 0.0166\n",
            "Epoch 106/150\n",
            "18/18 [==============================] - 0s 5ms/step - loss: 0.2344 - mse: 0.0164 - val_loss: 0.2393 - val_mse: 0.0166\n",
            "Epoch 107/150\n",
            "18/18 [==============================] - 0s 6ms/step - loss: 0.2318 - mse: 0.0162 - val_loss: 0.2403 - val_mse: 0.0167\n",
            "Epoch 108/150\n",
            "18/18 [==============================] - 0s 5ms/step - loss: 0.2335 - mse: 0.0162 - val_loss: 0.2386 - val_mse: 0.0166\n",
            "Epoch 109/150\n",
            "18/18 [==============================] - 0s 5ms/step - loss: 0.2321 - mse: 0.0162 - val_loss: 0.2412 - val_mse: 0.0167\n",
            "Epoch 110/150\n",
            "18/18 [==============================] - 0s 5ms/step - loss: 0.2313 - mse: 0.0161 - val_loss: 0.2394 - val_mse: 0.0166\n",
            "Epoch 111/150\n",
            "18/18 [==============================] - 0s 5ms/step - loss: 0.2340 - mse: 0.0164 - val_loss: 0.2392 - val_mse: 0.0166\n",
            "Epoch 112/150\n",
            "18/18 [==============================] - 0s 13ms/step - loss: 0.2300 - mse: 0.0161 - val_loss: 0.2410 - val_mse: 0.0167\n",
            "Epoch 113/150\n",
            "18/18 [==============================] - 0s 5ms/step - loss: 0.2317 - mse: 0.0162 - val_loss: 0.2428 - val_mse: 0.0168\n",
            "Epoch 114/150\n",
            "18/18 [==============================] - 0s 5ms/step - loss: 0.2349 - mse: 0.0163 - val_loss: 0.2396 - val_mse: 0.0166\n",
            "Epoch 115/150\n",
            "18/18 [==============================] - 0s 5ms/step - loss: 0.2365 - mse: 0.0165 - val_loss: 0.2398 - val_mse: 0.0166\n",
            "Epoch 116/150\n",
            "18/18 [==============================] - 0s 5ms/step - loss: 0.2347 - mse: 0.0163 - val_loss: 0.2399 - val_mse: 0.0167\n",
            "Epoch 117/150\n",
            "18/18 [==============================] - 0s 5ms/step - loss: 0.2358 - mse: 0.0165 - val_loss: 0.2380 - val_mse: 0.0164\n",
            "Epoch 118/150\n",
            "18/18 [==============================] - 0s 5ms/step - loss: 0.2346 - mse: 0.0163 - val_loss: 0.2399 - val_mse: 0.0165\n",
            "Epoch 119/150\n",
            "18/18 [==============================] - 0s 6ms/step - loss: 0.2348 - mse: 0.0163 - val_loss: 0.2392 - val_mse: 0.0166\n",
            "Epoch 120/150\n",
            "18/18 [==============================] - 0s 5ms/step - loss: 0.2350 - mse: 0.0164 - val_loss: 0.2387 - val_mse: 0.0165\n",
            "Epoch 121/150\n",
            "18/18 [==============================] - 0s 5ms/step - loss: 0.2335 - mse: 0.0163 - val_loss: 0.2390 - val_mse: 0.0165\n",
            "Epoch 122/150\n",
            "18/18 [==============================] - 0s 6ms/step - loss: 0.2341 - mse: 0.0163 - val_loss: 0.2400 - val_mse: 0.0166\n",
            "Epoch 123/150\n",
            "18/18 [==============================] - 0s 5ms/step - loss: 0.2374 - mse: 0.0166 - val_loss: 0.2367 - val_mse: 0.0164\n",
            "Epoch 124/150\n",
            "18/18 [==============================] - 0s 5ms/step - loss: 0.2299 - mse: 0.0160 - val_loss: 0.2413 - val_mse: 0.0168\n",
            "Epoch 125/150\n",
            "18/18 [==============================] - 0s 5ms/step - loss: 0.2376 - mse: 0.0166 - val_loss: 0.2383 - val_mse: 0.0165\n",
            "Epoch 126/150\n",
            "18/18 [==============================] - 0s 5ms/step - loss: 0.2362 - mse: 0.0164 - val_loss: 0.2407 - val_mse: 0.0167\n",
            "Epoch 127/150\n",
            "18/18 [==============================] - 0s 5ms/step - loss: 0.2317 - mse: 0.0161 - val_loss: 0.2379 - val_mse: 0.0164\n",
            "Epoch 128/150\n",
            "18/18 [==============================] - 0s 6ms/step - loss: 0.2346 - mse: 0.0165 - val_loss: 0.2391 - val_mse: 0.0166\n",
            "Epoch 129/150\n",
            "18/18 [==============================] - 0s 5ms/step - loss: 0.2333 - mse: 0.0162 - val_loss: 0.2387 - val_mse: 0.0166\n",
            "Epoch 130/150\n",
            "18/18 [==============================] - 0s 5ms/step - loss: 0.2352 - mse: 0.0164 - val_loss: 0.2359 - val_mse: 0.0163\n",
            "Epoch 131/150\n",
            "18/18 [==============================] - 0s 5ms/step - loss: 0.2338 - mse: 0.0163 - val_loss: 0.2412 - val_mse: 0.0167\n",
            "Epoch 132/150\n",
            "18/18 [==============================] - 0s 5ms/step - loss: 0.2359 - mse: 0.0165 - val_loss: 0.2362 - val_mse: 0.0164\n",
            "Epoch 133/150\n",
            "18/18 [==============================] - 0s 5ms/step - loss: 0.2335 - mse: 0.0164 - val_loss: 0.2418 - val_mse: 0.0168\n",
            "Epoch 134/150\n",
            "18/18 [==============================] - 0s 5ms/step - loss: 0.2287 - mse: 0.0160 - val_loss: 0.2390 - val_mse: 0.0165\n",
            "Epoch 135/150\n",
            "18/18 [==============================] - 0s 5ms/step - loss: 0.2350 - mse: 0.0164 - val_loss: 0.2372 - val_mse: 0.0164\n",
            "Epoch 136/150\n",
            "18/18 [==============================] - 0s 5ms/step - loss: 0.2388 - mse: 0.0167 - val_loss: 0.2381 - val_mse: 0.0165\n",
            "Epoch 137/150\n",
            "18/18 [==============================] - 0s 5ms/step - loss: 0.2380 - mse: 0.0166 - val_loss: 0.2389 - val_mse: 0.0165\n",
            "Epoch 138/150\n",
            "18/18 [==============================] - 0s 6ms/step - loss: 0.2326 - mse: 0.0162 - val_loss: 0.2402 - val_mse: 0.0167\n",
            "Epoch 139/150\n",
            "18/18 [==============================] - 0s 5ms/step - loss: 0.2337 - mse: 0.0164 - val_loss: 0.2357 - val_mse: 0.0163\n",
            "Epoch 140/150\n",
            "18/18 [==============================] - 0s 5ms/step - loss: 0.2332 - mse: 0.0163 - val_loss: 0.2375 - val_mse: 0.0164\n",
            "Epoch 141/150\n",
            "18/18 [==============================] - 0s 6ms/step - loss: 0.2364 - mse: 0.0165 - val_loss: 0.2400 - val_mse: 0.0165\n",
            "Epoch 142/150\n",
            "18/18 [==============================] - 0s 5ms/step - loss: 0.2341 - mse: 0.0163 - val_loss: 0.2377 - val_mse: 0.0164\n",
            "Epoch 143/150\n",
            "18/18 [==============================] - 0s 6ms/step - loss: 0.2349 - mse: 0.0163 - val_loss: 0.2402 - val_mse: 0.0166\n",
            "Epoch 144/150\n",
            "18/18 [==============================] - 0s 5ms/step - loss: 0.2329 - mse: 0.0162 - val_loss: 0.2383 - val_mse: 0.0166\n",
            "Epoch 145/150\n",
            "18/18 [==============================] - 0s 5ms/step - loss: 0.2343 - mse: 0.0164 - val_loss: 0.2391 - val_mse: 0.0166\n",
            "Epoch 146/150\n",
            "18/18 [==============================] - 0s 5ms/step - loss: 0.2348 - mse: 0.0164 - val_loss: 0.2388 - val_mse: 0.0166\n",
            "Epoch 147/150\n",
            "18/18 [==============================] - 0s 5ms/step - loss: 0.2330 - mse: 0.0163 - val_loss: 0.2396 - val_mse: 0.0166\n",
            "Epoch 148/150\n",
            "18/18 [==============================] - 0s 5ms/step - loss: 0.2347 - mse: 0.0163 - val_loss: 0.2361 - val_mse: 0.0164\n",
            "Epoch 149/150\n",
            "18/18 [==============================] - 0s 5ms/step - loss: 0.2298 - mse: 0.0161 - val_loss: 0.2361 - val_mse: 0.0163\n",
            "Epoch 150/150\n",
            "18/18 [==============================] - 0s 5ms/step - loss: 0.2368 - mse: 0.0165 - val_loss: 0.2385 - val_mse: 0.0165\n"
          ],
          "name": "stdout"
        },
        {
          "output_type": "execute_result",
          "data": {
            "text/plain": [
              "<tensorflow.python.keras.callbacks.History at 0x7f36222a1f98>"
            ]
          },
          "metadata": {
            "tags": []
          },
          "execution_count": 101
        }
      ]
    },
    {
      "cell_type": "markdown",
      "metadata": {
        "id": "6tKh0SoEIhxN"
      },
      "source": [
        "### VAE validation"
      ]
    },
    {
      "cell_type": "code",
      "metadata": {
        "id": "kScTFhOUO6Vs",
        "colab": {
          "base_uri": "https://localhost:8080/"
        },
        "outputId": "46279e8c-76a3-4146-eead-7794c10f2b4c"
      },
      "source": [
        "print(X_val_churn.shape)\n",
        "print(X_val_non_churn.shape)"
      ],
      "execution_count": null,
      "outputs": [
        {
          "output_type": "stream",
          "text": [
            "(95, 13)\n",
            "(572, 13)\n"
          ],
          "name": "stdout"
        }
      ]
    },
    {
      "cell_type": "code",
      "metadata": {
        "id": "tgAkMl_PIlHv"
      },
      "source": [
        "X_val_encoded_non_churn = encoder.predict(X_val_non_churn)"
      ],
      "execution_count": null,
      "outputs": []
    },
    {
      "cell_type": "code",
      "metadata": {
        "id": "AJbYF6I8IlIB"
      },
      "source": [
        "X_val_encoded_non_churn = np.asarray(X_val_encoded_non_churn)"
      ],
      "execution_count": null,
      "outputs": []
    },
    {
      "cell_type": "code",
      "metadata": {
        "colab": {
          "base_uri": "https://localhost:8080/"
        },
        "id": "SkjZONrjIlIC",
        "outputId": "9034191d-4fae-4f05-9f05-cf04d51dbcc0"
      },
      "source": [
        "X_val_encoded_non_churn.shape"
      ],
      "execution_count": null,
      "outputs": [
        {
          "output_type": "execute_result",
          "data": {
            "text/plain": [
              "(3, 572, 2)"
            ]
          },
          "metadata": {
            "tags": []
          },
          "execution_count": 105
        }
      ]
    },
    {
      "cell_type": "code",
      "metadata": {
        "colab": {
          "base_uri": "https://localhost:8080/"
        },
        "id": "iK1BIpAeNlvu",
        "outputId": "c2282e2c-8434-4b0b-ceaa-47e6a2d4a1a0"
      },
      "source": [
        "X_val_non_churn.shape"
      ],
      "execution_count": null,
      "outputs": [
        {
          "output_type": "execute_result",
          "data": {
            "text/plain": [
              "(572, 13)"
            ]
          },
          "metadata": {
            "tags": []
          },
          "execution_count": 106
        }
      ]
    },
    {
      "cell_type": "code",
      "metadata": {
        "colab": {
          "base_uri": "https://localhost:8080/"
        },
        "id": "Q_DfOHf7OBCq",
        "outputId": "e2c5f68b-7bab-4806-dc6d-67d4cdaf6369"
      },
      "source": [
        "X_val_churn.shape"
      ],
      "execution_count": null,
      "outputs": [
        {
          "output_type": "execute_result",
          "data": {
            "text/plain": [
              "(95, 13)"
            ]
          },
          "metadata": {
            "tags": []
          },
          "execution_count": 107
        }
      ]
    },
    {
      "cell_type": "code",
      "metadata": {
        "id": "qx6T8_zFIlIC"
      },
      "source": [
        "X_val_encoded_churn = encoder.predict(X_val_churn)"
      ],
      "execution_count": null,
      "outputs": []
    },
    {
      "cell_type": "code",
      "metadata": {
        "id": "F_bM_wXuIlID"
      },
      "source": [
        "X_val_encoded_churn = np.asarray(X_val_encoded_churn)"
      ],
      "execution_count": null,
      "outputs": []
    },
    {
      "cell_type": "code",
      "metadata": {
        "colab": {
          "base_uri": "https://localhost:8080/"
        },
        "id": "4kv9ph7cIlID",
        "outputId": "b661a95e-40cc-4cde-a9c2-4a6dde0c6a79"
      },
      "source": [
        "X_val_encoded_churn.shape"
      ],
      "execution_count": null,
      "outputs": [
        {
          "output_type": "execute_result",
          "data": {
            "text/plain": [
              "(3, 95, 2)"
            ]
          },
          "metadata": {
            "tags": []
          },
          "execution_count": 110
        }
      ]
    },
    {
      "cell_type": "code",
      "metadata": {
        "colab": {
          "base_uri": "https://localhost:8080/",
          "height": 627
        },
        "id": "2cd8PbdCIlIF",
        "outputId": "a8bcb5dc-117e-4781-ee5a-0fceba7d2d12"
      },
      "source": [
        "plt.figure(figsize=(15, 10))\n",
        "plt.scatter(X_val_encoded_non_churn[0, :, 0],\n",
        "            X_val_encoded_non_churn[0, :, 1],\n",
        "            c='r', cmap='Paired')\n",
        "plt.title(\"None churn Validation data - Latent vector\")\n",
        "plt.colorbar()"
      ],
      "execution_count": null,
      "outputs": [
        {
          "output_type": "execute_result",
          "data": {
            "text/plain": [
              "<matplotlib.colorbar.Colorbar at 0x7f35e20f2c18>"
            ]
          },
          "metadata": {
            "tags": []
          },
          "execution_count": 111
        },
        {
          "output_type": "display_data",
          "data": {
            "image/png": "[encoded data removed]",
            "text/plain": [
              "<Figure size 1080x720 with 2 Axes>"
            ]
          },
          "metadata": {
            "tags": []
          }
        }
      ]
    },
    {
      "cell_type": "code",
      "metadata": {
        "colab": {
          "base_uri": "https://localhost:8080/",
          "height": 627
        },
        "id": "4csZer4-IlIG",
        "outputId": "0f9bdb04-e012-4e8b-87ea-485034abe46f"
      },
      "source": [
        "plt.figure(figsize=(15, 10))\n",
        "plt.scatter(X_val_encoded_churn[0, :, 0],\n",
        "            X_val_encoded_churn[0, :, 1],\n",
        "            c='g', cmap='Paired')\n",
        "plt.title(\"Churn data Validation data - Latent vector\")\n",
        "plt.colorbar()"
      ],
      "execution_count": null,
      "outputs": [
        {
          "output_type": "execute_result",
          "data": {
            "text/plain": [
              "<matplotlib.colorbar.Colorbar at 0x7f35e200d7b8>"
            ]
          },
          "metadata": {
            "tags": []
          },
          "execution_count": 112
        },
        {
          "output_type": "display_data",
          "data": {
            "image/png": "[encoded data removed]",
            "text/plain": [
              "<Figure size 1080x720 with 2 Axes>"
            ]
          },
          "metadata": {
            "tags": []
          }
        }
      ]
    },
    {
      "cell_type": "code",
      "metadata": {
        "colab": {
          "base_uri": "https://localhost:8080/",
          "height": 615
        },
        "id": "VE-NhMeTIlIJ",
        "outputId": "9fae03e0-fec4-4d37-b219-915f56cc390f"
      },
      "source": [
        "plt.figure(figsize=(15, 10))\n",
        "plt.scatter(X_val_encoded_non_churn[0, :, 0],\n",
        "            X_val_encoded_non_churn[0, :, 1],\n",
        "            c='r', cmap='Paired', label='None churn')\n",
        "plt.scatter(X_val_encoded_churn[0, :, 0],\n",
        "            X_val_encoded_churn[0, :, 1],\n",
        "            c='g', cmap='Paired', label='churn')\n",
        "plt.legend()\n",
        "plt.colorbar()"
      ],
      "execution_count": null,
      "outputs": [
        {
          "output_type": "execute_result",
          "data": {
            "text/plain": [
              "<matplotlib.colorbar.Colorbar at 0x7f35d87acb70>"
            ]
          },
          "metadata": {
            "tags": []
          },
          "execution_count": 113
        },
        {
          "output_type": "display_data",
          "data": {
            "image/png": "[encoded data removed]",
            "text/plain": [
              "<Figure size 1080x720 with 2 Axes>"
            ]
          },
          "metadata": {
            "tags": []
          }
        }
      ]
    },
    {
      "cell_type": "markdown",
      "metadata": {
        "id": "rOL5zeHihiwV"
      },
      "source": [
        "# Deep Learning"
      ]
    },
    {
      "cell_type": "code",
      "metadata": {
        "id": "12nawFfwhosA"
      },
      "source": [
        "import random\n",
        "import keras\n",
        "from keras.models import Model\n",
        "from keras.layers import Input, Dense, Conv1D, MaxPooling1D\n",
        "from keras.layers import Dropout, Flatten\n",
        "from sklearn.preprocessing import StandardScaler\n",
        "from keras.callbacks import ModelCheckpoint, EarlyStopping\n",
        "from keras.optimizers import Adam\n",
        "\n",
        "random.seed(42)\n",
        "np.random.seed(42)\n"
      ],
      "execution_count": null,
      "outputs": []
    },
    {
      "cell_type": "code",
      "metadata": {
        "colab": {
          "base_uri": "https://localhost:8080/"
        },
        "id": "mblSKDlCiv0E",
        "outputId": "75ab0318-843d-420b-92a0-fcbb1d6b5e9f"
      },
      "source": [
        "X_train, y_train = get_train_test(df)\n",
        "X_val, y_val = get_val_data()"
      ],
      "execution_count": null,
      "outputs": [
        {
          "output_type": "stream",
          "text": [
            "X train shape= (2666, 13)\n",
            "y train shape= (2666,)\n",
            "Churn in train rate: 0.145536384096024\n",
            " X val shape =  (667, 13)\n",
            " y val shape =  (667,)\n",
            "Churn in train rate: 0.1424287856071964\n"
          ],
          "name": "stdout"
        }
      ]
    },
    {
      "cell_type": "code",
      "metadata": {
        "id": "SNcgFUuQp6sV"
      },
      "source": [
        "from sklearn.preprocessing import MinMaxScaler\n",
        "scaler = StandardScaler()\n",
        "scaler.fit(X_train)\n",
        "X_train = scaler.transform(X_train)\n",
        "# X_test = scaler.transform(X_test)\n",
        "X_val = scaler.transform(X_val)"
      ],
      "execution_count": null,
      "outputs": []
    },
    {
      "cell_type": "code",
      "metadata": {
        "colab": {
          "base_uri": "https://localhost:8080/"
        },
        "id": "KevZmOAkku6U",
        "outputId": "f2705901-b639-40b3-d916-e075615db1d1"
      },
      "source": [
        "X_train_resampled, y_train_resampled = resampling(X_train, y_train)\n",
        "# X_train_resampled = X_train\n",
        "# y_train_resampled = y_train"
      ],
      "execution_count": null,
      "outputs": [
        {
          "output_type": "stream",
          "text": [
            "/usr/local/lib/python3.6/dist-packages/sklearn/utils/deprecation.py:87: FutureWarning: Function safe_indexing is deprecated; safe_indexing is deprecated in version 0.22 and will be removed in version 0.24.\n",
            "  warnings.warn(msg, category=FutureWarning)\n"
          ],
          "name": "stderr"
        }
      ]
    },
    {
      "cell_type": "code",
      "metadata": {
        "id": "ThyzZVWgi0FX"
      },
      "source": [
        "X_train_resampled = X_train_resampled.reshape((-1, \n",
        "                                               X_train_resampled.shape[1],\n",
        "                                               1))\n",
        "X_train = X_train.reshape((-1, X_train.shape[1], 1))\n",
        "# X_test = X_test.reshape((-1, X_test.shape[1], 1))\n",
        "X_val = X_val.reshape((-1, X_val.shape[1], 1))"
      ],
      "execution_count": null,
      "outputs": []
    },
    {
      "cell_type": "code",
      "metadata": {
        "id": "n2wKgGoUpRpE"
      },
      "source": [
        "earlyStop = EarlyStopping(monitor='loss', patience=10, verbose=1)"
      ],
      "execution_count": null,
      "outputs": []
    },
    {
      "cell_type": "code",
      "metadata": {
        "id": "nJuV94ECiZJX"
      },
      "source": [
        "from keras import regularizers\n",
        "\n",
        "input_layer = Input(shape=(X_train.shape[1], 1))\n",
        "x = Conv1D(filters=32, kernel_size=3,\n",
        "           strides=1,\n",
        "           activation='relu',\n",
        "           padding='same',\n",
        "           )(input_layer)\n",
        "x = Conv1D(filters=32, kernel_size=3,\n",
        "           strides=1,\n",
        "           activation='relu',\n",
        "           padding='same')(x)\n",
        "x = MaxPooling1D(pool_size=2)(x)\n",
        "x = Conv1D(filters=32, kernel_size=2,\n",
        "           strides=1,\n",
        "           activation='relu',\n",
        "           padding='same')(x)\n",
        "x = Conv1D(filters=32, kernel_size=2,\n",
        "           strides=1,\n",
        "            activation='relu',\n",
        "           padding='same')(x)\n",
        "x = MaxPooling1D(pool_size=2)(x)\n",
        "x = Flatten()(x)\n",
        "x = Dense(128, activation='relu',\n",
        "          activity_regularizer=regularizers.l2(1e-3))(x)\n",
        "x = Dropout(0.1)(x)\n",
        "x = Dense(128, activation='relu',\n",
        "          activity_regularizer=regularizers.l2(1e-3))(x)\n",
        "x = Dropout(0.1)(x)\n",
        "output_layer = Dense(1, activation='sigmoid')(x)\n",
        "model = Model(inputs=input_layer, outputs=output_layer)"
      ],
      "execution_count": null,
      "outputs": []
    },
    {
      "cell_type": "code",
      "metadata": {
        "colab": {
          "base_uri": "https://localhost:8080/"
        },
        "id": "9aHd7NANmels",
        "outputId": "97f69848-8883-45c6-9d60-4e21f27989e5"
      },
      "source": [
        "model.summary()"
      ],
      "execution_count": null,
      "outputs": [
        {
          "output_type": "stream",
          "text": [
            "Model: \"model\"\n",
            "_________________________________________________________________\n",
            "Layer (type)                 Output Shape              Param #   \n",
            "=================================================================\n",
            "input_2 (InputLayer)         [(None, 13, 1)]           0         \n",
            "_________________________________________________________________\n",
            "conv1d (Conv1D)              (None, 13, 32)            128       \n",
            "_________________________________________________________________\n",
            "conv1d_1 (Conv1D)            (None, 13, 32)            3104      \n",
            "_________________________________________________________________\n",
            "max_pooling1d (MaxPooling1D) (None, 6, 32)             0         \n",
            "_________________________________________________________________\n",
            "conv1d_2 (Conv1D)            (None, 6, 32)             2080      \n",
            "_________________________________________________________________\n",
            "conv1d_3 (Conv1D)            (None, 6, 32)             2080      \n",
            "_________________________________________________________________\n",
            "max_pooling1d_1 (MaxPooling1 (None, 3, 32)             0         \n",
            "_________________________________________________________________\n",
            "flatten (Flatten)            (None, 96)                0         \n",
            "_________________________________________________________________\n",
            "dense_7 (Dense)              (None, 128)               12416     \n",
            "_________________________________________________________________\n",
            "dropout (Dropout)            (None, 128)               0         \n",
            "_________________________________________________________________\n",
            "dense_8 (Dense)              (None, 128)               16512     \n",
            "_________________________________________________________________\n",
            "dropout_1 (Dropout)          (None, 128)               0         \n",
            "_________________________________________________________________\n",
            "dense_9 (Dense)              (None, 1)                 129       \n",
            "=================================================================\n",
            "Total params: 36,449\n",
            "Trainable params: 36,449\n",
            "Non-trainable params: 0\n",
            "_________________________________________________________________\n"
          ],
          "name": "stdout"
        }
      ]
    },
    {
      "cell_type": "code",
      "metadata": {
        "id": "HKmZIKwxsJWW"
      },
      "source": [
        "adam = Adam(lr=1e-3)"
      ],
      "execution_count": null,
      "outputs": []
    },
    {
      "cell_type": "code",
      "metadata": {
        "id": "O92eeGmQkB-a"
      },
      "source": [
        "model.compile(loss='binary_crossentropy',\n",
        "              optimizer=adam,\n",
        "              metrics=['acc'])"
      ],
      "execution_count": null,
      "outputs": []
    },
    {
      "cell_type": "code",
      "metadata": {
        "colab": {
          "base_uri": "https://localhost:8080/"
        },
        "id": "CfrbzbC5kskD",
        "outputId": "e6d03e93-37fa-41ac-cbed-c2005e288186"
      },
      "source": [
        "model.fit(X_train_resampled,\n",
        "          y_train_resampled,\n",
        "          epochs=100,\n",
        "          batch_size=256,\n",
        "          verbose=1,\n",
        "          validation_data=(X_val, y_val),\n",
        "        #   validation_split=0.1,\n",
        "          callbacks=[earlyStop],\n",
        "          shuffle=True)"
      ],
      "execution_count": null,
      "outputs": [
        {
          "output_type": "stream",
          "text": [
            "Epoch 1/100\n",
            "18/18 [==============================] - 3s 21ms/step - loss: 0.6840 - acc: 0.5888 - val_loss: 0.6495 - val_acc: 0.6732\n",
            "Epoch 2/100\n",
            "18/18 [==============================] - 0s 6ms/step - loss: 0.5832 - acc: 0.7279 - val_loss: 0.4798 - val_acc: 0.8096\n",
            "Epoch 3/100\n",
            "18/18 [==============================] - 0s 6ms/step - loss: 0.4944 - acc: 0.7717 - val_loss: 0.4131 - val_acc: 0.8486\n",
            "Epoch 4/100\n",
            "18/18 [==============================] - 0s 15ms/step - loss: 0.4605 - acc: 0.7941 - val_loss: 0.5660 - val_acc: 0.7406\n",
            "Epoch 5/100\n",
            "18/18 [==============================] - 0s 6ms/step - loss: 0.4317 - acc: 0.8117 - val_loss: 0.4395 - val_acc: 0.8141\n",
            "Epoch 6/100\n",
            "18/18 [==============================] - 0s 6ms/step - loss: 0.3946 - acc: 0.8301 - val_loss: 0.4075 - val_acc: 0.8351\n",
            "Epoch 7/100\n",
            "18/18 [==============================] - 0s 6ms/step - loss: 0.3901 - acc: 0.8279 - val_loss: 0.4165 - val_acc: 0.8351\n",
            "Epoch 8/100\n",
            "18/18 [==============================] - 0s 6ms/step - loss: 0.3524 - acc: 0.8475 - val_loss: 0.5305 - val_acc: 0.7361\n",
            "Epoch 9/100\n",
            "18/18 [==============================] - 0s 6ms/step - loss: 0.3566 - acc: 0.8417 - val_loss: 0.4054 - val_acc: 0.8306\n",
            "Epoch 10/100\n",
            "18/18 [==============================] - 0s 6ms/step - loss: 0.3183 - acc: 0.8707 - val_loss: 0.4015 - val_acc: 0.8336\n",
            "Epoch 11/100\n",
            "18/18 [==============================] - 0s 7ms/step - loss: 0.3086 - acc: 0.8727 - val_loss: 0.3551 - val_acc: 0.8711\n",
            "Epoch 12/100\n",
            "18/18 [==============================] - 0s 7ms/step - loss: 0.2780 - acc: 0.8882 - val_loss: 0.4984 - val_acc: 0.7736\n",
            "Epoch 13/100\n",
            "18/18 [==============================] - 0s 7ms/step - loss: 0.2621 - acc: 0.8968 - val_loss: 0.4035 - val_acc: 0.8411\n",
            "Epoch 14/100\n",
            "18/18 [==============================] - 0s 8ms/step - loss: 0.2396 - acc: 0.9111 - val_loss: 0.4601 - val_acc: 0.8111\n",
            "Epoch 15/100\n",
            "18/18 [==============================] - 0s 7ms/step - loss: 0.2180 - acc: 0.9220 - val_loss: 0.4605 - val_acc: 0.8066\n",
            "Epoch 16/100\n",
            "18/18 [==============================] - 0s 6ms/step - loss: 0.2103 - acc: 0.9247 - val_loss: 0.4705 - val_acc: 0.8186\n",
            "Epoch 17/100\n",
            "18/18 [==============================] - 0s 6ms/step - loss: 0.1973 - acc: 0.9287 - val_loss: 0.4115 - val_acc: 0.8456\n",
            "Epoch 18/100\n",
            "18/18 [==============================] - 0s 6ms/step - loss: 0.1852 - acc: 0.9332 - val_loss: 0.4415 - val_acc: 0.8321\n",
            "Epoch 19/100\n",
            "18/18 [==============================] - 0s 6ms/step - loss: 0.1733 - acc: 0.9401 - val_loss: 0.4582 - val_acc: 0.8441\n",
            "Epoch 20/100\n",
            "18/18 [==============================] - 0s 6ms/step - loss: 0.1592 - acc: 0.9417 - val_loss: 0.5041 - val_acc: 0.8306\n",
            "Epoch 21/100\n",
            "18/18 [==============================] - 0s 6ms/step - loss: 0.1505 - acc: 0.9498 - val_loss: 0.5019 - val_acc: 0.8126\n",
            "Epoch 22/100\n",
            "18/18 [==============================] - 0s 6ms/step - loss: 0.1287 - acc: 0.9606 - val_loss: 0.4811 - val_acc: 0.8411\n",
            "Epoch 23/100\n",
            "18/18 [==============================] - 0s 6ms/step - loss: 0.1276 - acc: 0.9569 - val_loss: 0.4823 - val_acc: 0.8471\n",
            "Epoch 24/100\n",
            "18/18 [==============================] - 0s 6ms/step - loss: 0.1193 - acc: 0.9619 - val_loss: 0.4964 - val_acc: 0.8501\n",
            "Epoch 25/100\n",
            "18/18 [==============================] - 0s 6ms/step - loss: 0.1098 - acc: 0.9684 - val_loss: 0.5026 - val_acc: 0.8561\n",
            "Epoch 26/100\n",
            "18/18 [==============================] - 0s 6ms/step - loss: 0.0959 - acc: 0.9713 - val_loss: 0.5217 - val_acc: 0.8621\n",
            "Epoch 27/100\n",
            "18/18 [==============================] - 0s 6ms/step - loss: 0.1002 - acc: 0.9714 - val_loss: 0.5144 - val_acc: 0.8591\n",
            "Epoch 28/100\n",
            "18/18 [==============================] - 0s 6ms/step - loss: 0.0795 - acc: 0.9817 - val_loss: 0.5581 - val_acc: 0.8486\n",
            "Epoch 29/100\n",
            "18/18 [==============================] - 0s 6ms/step - loss: 0.0718 - acc: 0.9849 - val_loss: 0.6349 - val_acc: 0.8216\n",
            "Epoch 30/100\n",
            "18/18 [==============================] - 0s 6ms/step - loss: 0.0794 - acc: 0.9795 - val_loss: 0.5721 - val_acc: 0.8441\n",
            "Epoch 31/100\n",
            "18/18 [==============================] - 0s 6ms/step - loss: 0.0711 - acc: 0.9814 - val_loss: 0.6515 - val_acc: 0.8171\n",
            "Epoch 32/100\n",
            "18/18 [==============================] - 0s 6ms/step - loss: 0.0753 - acc: 0.9806 - val_loss: 0.6092 - val_acc: 0.8441\n",
            "Epoch 33/100\n",
            "18/18 [==============================] - 0s 6ms/step - loss: 0.0793 - acc: 0.9764 - val_loss: 0.6567 - val_acc: 0.8276\n",
            "Epoch 34/100\n",
            "18/18 [==============================] - 0s 6ms/step - loss: 0.0678 - acc: 0.9835 - val_loss: 0.6279 - val_acc: 0.8456\n",
            "Epoch 35/100\n",
            "18/18 [==============================] - 0s 7ms/step - loss: 0.0513 - acc: 0.9904 - val_loss: 0.6466 - val_acc: 0.8471\n",
            "Epoch 36/100\n",
            "18/18 [==============================] - 0s 7ms/step - loss: 0.0514 - acc: 0.9898 - val_loss: 0.6126 - val_acc: 0.8441\n",
            "Epoch 37/100\n",
            "18/18 [==============================] - 0s 6ms/step - loss: 0.0469 - acc: 0.9918 - val_loss: 0.6841 - val_acc: 0.8411\n",
            "Epoch 38/100\n",
            "18/18 [==============================] - 0s 6ms/step - loss: 0.0436 - acc: 0.9918 - val_loss: 0.6487 - val_acc: 0.8441\n",
            "Epoch 39/100\n",
            "18/18 [==============================] - 0s 6ms/step - loss: 0.0407 - acc: 0.9929 - val_loss: 0.6315 - val_acc: 0.8516\n",
            "Epoch 40/100\n",
            "18/18 [==============================] - 0s 7ms/step - loss: 0.0501 - acc: 0.9870 - val_loss: 0.6431 - val_acc: 0.8561\n",
            "Epoch 41/100\n",
            "18/18 [==============================] - 0s 7ms/step - loss: 0.0496 - acc: 0.9864 - val_loss: 0.7641 - val_acc: 0.8096\n",
            "Epoch 42/100\n",
            "18/18 [==============================] - 0s 6ms/step - loss: 0.0416 - acc: 0.9928 - val_loss: 0.6830 - val_acc: 0.8531\n",
            "Epoch 43/100\n",
            "18/18 [==============================] - 0s 6ms/step - loss: 0.0397 - acc: 0.9914 - val_loss: 0.7631 - val_acc: 0.8366\n",
            "Epoch 44/100\n",
            "18/18 [==============================] - 0s 6ms/step - loss: 0.0326 - acc: 0.9947 - val_loss: 0.7358 - val_acc: 0.8336\n",
            "Epoch 45/100\n",
            "18/18 [==============================] - 0s 6ms/step - loss: 0.0288 - acc: 0.9966 - val_loss: 0.7311 - val_acc: 0.8516\n",
            "Epoch 46/100\n",
            "18/18 [==============================] - 0s 6ms/step - loss: 0.0252 - acc: 0.9988 - val_loss: 0.6929 - val_acc: 0.8741\n",
            "Epoch 47/100\n",
            "18/18 [==============================] - 0s 6ms/step - loss: 0.0251 - acc: 0.9979 - val_loss: 0.7386 - val_acc: 0.8366\n",
            "Epoch 48/100\n",
            "18/18 [==============================] - 0s 7ms/step - loss: 0.0241 - acc: 0.9975 - val_loss: 0.7432 - val_acc: 0.8456\n",
            "Epoch 49/100\n",
            "18/18 [==============================] - 0s 7ms/step - loss: 0.0247 - acc: 0.9980 - val_loss: 0.7466 - val_acc: 0.8456\n",
            "Epoch 50/100\n",
            "18/18 [==============================] - 0s 7ms/step - loss: 0.0226 - acc: 0.9986 - val_loss: 0.7631 - val_acc: 0.8441\n",
            "Epoch 51/100\n",
            "18/18 [==============================] - 0s 6ms/step - loss: 0.0210 - acc: 0.9989 - val_loss: 0.7602 - val_acc: 0.8471\n",
            "Epoch 52/100\n",
            "18/18 [==============================] - 0s 7ms/step - loss: 0.0199 - acc: 0.9981 - val_loss: 0.7305 - val_acc: 0.8516\n",
            "Epoch 53/100\n",
            "18/18 [==============================] - 0s 7ms/step - loss: 0.0199 - acc: 0.9984 - val_loss: 0.7380 - val_acc: 0.8531\n",
            "Epoch 54/100\n",
            "18/18 [==============================] - 0s 7ms/step - loss: 0.0193 - acc: 0.9989 - val_loss: 0.7703 - val_acc: 0.8486\n",
            "Epoch 55/100\n",
            "18/18 [==============================] - 0s 7ms/step - loss: 0.0181 - acc: 0.9996 - val_loss: 0.8368 - val_acc: 0.8306\n",
            "Epoch 56/100\n",
            "18/18 [==============================] - 0s 7ms/step - loss: 0.0210 - acc: 0.9977 - val_loss: 0.8244 - val_acc: 0.8291\n",
            "Epoch 57/100\n",
            "18/18 [==============================] - 0s 7ms/step - loss: 0.0235 - acc: 0.9977 - val_loss: 0.7663 - val_acc: 0.8576\n",
            "Epoch 58/100\n",
            "18/18 [==============================] - 0s 7ms/step - loss: 0.0200 - acc: 0.9977 - val_loss: 0.7209 - val_acc: 0.8636\n",
            "Epoch 59/100\n",
            "18/18 [==============================] - 0s 6ms/step - loss: 0.0214 - acc: 0.9986 - val_loss: 0.7630 - val_acc: 0.8546\n",
            "Epoch 60/100\n",
            "18/18 [==============================] - 0s 6ms/step - loss: 0.0289 - acc: 0.9950 - val_loss: 0.8583 - val_acc: 0.8186\n",
            "Epoch 61/100\n",
            "18/18 [==============================] - 0s 6ms/step - loss: 0.0311 - acc: 0.9950 - val_loss: 0.7956 - val_acc: 0.8471\n",
            "Epoch 62/100\n",
            "18/18 [==============================] - 0s 6ms/step - loss: 0.0189 - acc: 0.9992 - val_loss: 0.7860 - val_acc: 0.8471\n",
            "Epoch 63/100\n",
            "18/18 [==============================] - 0s 6ms/step - loss: 0.0217 - acc: 0.9982 - val_loss: 0.8107 - val_acc: 0.8276\n",
            "Epoch 64/100\n",
            "18/18 [==============================] - 0s 6ms/step - loss: 0.0205 - acc: 0.9980 - val_loss: 0.7748 - val_acc: 0.8426\n",
            "Epoch 00064: early stopping\n"
          ],
          "name": "stdout"
        },
        {
          "output_type": "execute_result",
          "data": {
            "text/plain": [
              "<tensorflow.python.keras.callbacks.History at 0x7f35d867a8d0>"
            ]
          },
          "metadata": {
            "tags": []
          },
          "execution_count": 124
        }
      ]
    },
    {
      "cell_type": "code",
      "metadata": {
        "id": "i9G2b6YllfLc"
      },
      "source": [
        "# y_test_predictions = model.predict(X_test)\n",
        "y_val_predictions = model.predict(X_val)"
      ],
      "execution_count": null,
      "outputs": []
    },
    {
      "cell_type": "code",
      "metadata": {
        "id": "AaDlw5FRnvnM"
      },
      "source": [
        "y_val_predictions[y_val_predictions>=0.5] = 1\n",
        "y_val_predictions[y_val_predictions<=0.5] = 0"
      ],
      "execution_count": null,
      "outputs": []
    },
    {
      "cell_type": "code",
      "metadata": {
        "id": "tspAOQTtm4IL",
        "colab": {
          "base_uri": "https://localhost:8080/"
        },
        "outputId": "5206dd4a-8dd7-46a4-b573-928b3ccdb5d5"
      },
      "source": [
        "print(metrics.classification_report(y_val,\n",
        "                                    y_val_predictions))\n"
      ],
      "execution_count": null,
      "outputs": [
        {
          "output_type": "stream",
          "text": [
            "              precision    recall  f1-score   support\n",
            "\n",
            "           0       0.94      0.87      0.90       572\n",
            "           1       0.46      0.65      0.54        95\n",
            "\n",
            "    accuracy                           0.84       667\n",
            "   macro avg       0.70      0.76      0.72       667\n",
            "weighted avg       0.87      0.84      0.85       667\n",
            "\n"
          ],
          "name": "stdout"
        }
      ]
    },
    {
      "cell_type": "markdown",
      "metadata": {
        "id": "smqrhBbDxYIk"
      },
      "source": [
        "#Autoencoder"
      ]
    },
    {
      "cell_type": "code",
      "metadata": {
        "id": "GaFB3y78xYIl"
      },
      "source": [
        "import keras\n",
        "from keras import layers\n",
        "from sklearn.preprocessing import MinMaxScaler, StandardScaler\n",
        "from keras import backend as K\n",
        "from keras.layers import Input, Dense\n",
        "from keras.models import Model\n",
        "from keras import regularizers\n",
        "\n",
        "random.seed(42)\n",
        "np.random.seed(42)"
      ],
      "execution_count": null,
      "outputs": []
    },
    {
      "cell_type": "code",
      "metadata": {
        "id": "gyvJOQdyxYIm",
        "colab": {
          "base_uri": "https://localhost:8080/"
        },
        "outputId": "c206115e-be7d-4d80-fc24-213dc96ca571"
      },
      "source": [
        "X_train, y_train = get_train_test(df)\n",
        "X_val, y_val = get_val_data()"
      ],
      "execution_count": null,
      "outputs": [
        {
          "output_type": "stream",
          "text": [
            "X train shape= (2666, 13)\n",
            "y train shape= (2666,)\n",
            "Churn in train rate: 0.145536384096024\n",
            " X val shape =  (667, 13)\n",
            " y val shape =  (667,)\n",
            "Churn in train rate: 0.1424287856071964\n"
          ],
          "name": "stdout"
        }
      ]
    },
    {
      "cell_type": "code",
      "metadata": {
        "id": "CDdNAQUrxYIo"
      },
      "source": [
        "y_train_non_churn = y_train[y_train==0]\n",
        "y_train_churn = y_train[y_train==1]"
      ],
      "execution_count": null,
      "outputs": []
    },
    {
      "cell_type": "code",
      "metadata": {
        "id": "6TkPznfrxYIo"
      },
      "source": [
        "X_train_non_churn = X_train[y_train==0,:]\n",
        "X_train_churn = X_train[y_train==1,:]"
      ],
      "execution_count": null,
      "outputs": []
    },
    {
      "cell_type": "code",
      "metadata": {
        "id": "oki5cUxaxYIp"
      },
      "source": [
        "# X_test_non_churn = X_test[y_test == 0, :]\n",
        "# X_test_churn = X_test[y_test == 1, :]\n",
        "\n",
        "X_val_non_churn = X_val[y_val == 0, :]\n",
        "X_val_churn = X_val[y_val == 1, :]\n",
        "\n",
        "# y_test_non_churn = y_test[y_test == 0]\n",
        "# y_test_churn = y_test[y_test == 1]\n",
        "\n",
        "y_val_non_churn = y_val[y_val == 0]\n",
        "y_val_churn = y_val[y_val == 1]"
      ],
      "execution_count": null,
      "outputs": []
    },
    {
      "cell_type": "code",
      "metadata": {
        "id": "VKo0ad5uxYIp",
        "colab": {
          "base_uri": "https://localhost:8080/"
        },
        "outputId": "91510546-a9f3-4745-c978-c1897ae5f337"
      },
      "source": [
        "print(\"Train churn = \", X_train_churn.shape)\n",
        "print(\"Train non churn = \", X_train_non_churn.shape)\n",
        "# print(\"Test churn = \", X_test_churn.shape)\n",
        "# print(\"Test none churn = \", X_test_non_churn.shape)\n",
        "print(\"Val churn = \", X_val_churn.shape)\n",
        "print(\"Val none churn = \", X_val_non_churn.shape)"
      ],
      "execution_count": null,
      "outputs": [
        {
          "output_type": "stream",
          "text": [
            "Train churn =  (388, 13)\n",
            "Train non churn =  (2278, 13)\n",
            "Val churn =  (95, 13)\n",
            "Val none churn =  (572, 13)\n"
          ],
          "name": "stdout"
        }
      ]
    },
    {
      "cell_type": "code",
      "metadata": {
        "id": "LxiNXilhxYIq"
      },
      "source": [
        "scaler = StandardScaler()"
      ],
      "execution_count": null,
      "outputs": []
    },
    {
      "cell_type": "code",
      "metadata": {
        "id": "4d2L33ztxYIq"
      },
      "source": [
        "scaler.fit(X_train_non_churn)\n",
        "X_train_non_churn = scaler.transform(X_train_non_churn)\n",
        "X_train_churn = scaler.transform(X_train_churn)\n",
        "\n",
        "# X_test_non_churn = scaler.transform(X_test_non_churn)\n",
        "# X_test_churn = scaler.transform(X_test_churn)\n",
        "\n",
        "X_val_non_churn = scaler.transform(X_val_non_churn)\n",
        "X_val_churn = scaler.transform(X_val_churn)"
      ],
      "execution_count": null,
      "outputs": []
    },
    {
      "cell_type": "code",
      "metadata": {
        "id": "7uB3B_CF3Irf"
      },
      "source": [
        "# X_test = scaler.transform(X_test)\n",
        "X_val = scaler.transform(X_val)"
      ],
      "execution_count": null,
      "outputs": []
    },
    {
      "cell_type": "code",
      "metadata": {
        "id": "DA6P7RaDxYIr",
        "colab": {
          "base_uri": "https://localhost:8080/"
        },
        "outputId": "59beafe8-a585-4a2b-a147-896e33b92254"
      },
      "source": [
        "print(\"Train churn = \", X_train_churn.shape)\n",
        "print(\"Train non churn = \", X_train_non_churn.shape)\n",
        "# print(\"Test churn = \", X_test_churn.shape)\n",
        "# print(\"Test none churn = \", X_test_non_churn.shape)\n",
        "print(\"Val churn = \", X_val_churn.shape)\n",
        "print(\"Val none churn = \", X_val_non_churn.shape)"
      ],
      "execution_count": null,
      "outputs": [
        {
          "output_type": "stream",
          "text": [
            "Train churn =  (388, 13)\n",
            "Train non churn =  (2278, 13)\n",
            "Val churn =  (95, 13)\n",
            "Val none churn =  (572, 13)\n"
          ],
          "name": "stdout"
        }
      ]
    },
    {
      "cell_type": "code",
      "metadata": {
        "id": "-AemuVCRxYIr",
        "colab": {
          "base_uri": "https://localhost:8080/"
        },
        "outputId": "a85b8b7d-fbc8-4688-8eb8-73adde51f35c"
      },
      "source": [
        "X_train_reshape = X_train_non_churn\n",
        "y_train_reshape = y_train_non_churn\n",
        "\n",
        "original_dim = X_train_reshape.shape[1]\n",
        "encoding_dim = 512\n",
        "hidden_dim1 = int(encoding_dim/4) \n",
        "hidden_dim2 = int(encoding_dim/32) \n",
        "\n",
        "input_layer = Input(shape=(original_dim, ))\n",
        "encoder = Dense(encoding_dim, activation=\"relu\",\n",
        "            activity_regularizer=regularizers.l1(1e-3)\n",
        "            )(input_layer)\n",
        "encoder = Dense(hidden_dim1, activation=\"relu\",\n",
        "            activity_regularizer=regularizers.l1(1e-3)\n",
        "                )(encoder)\n",
        "encoder = Dense(hidden_dim2, activation=\"relu\",\n",
        "            activity_regularizer=regularizers.l1(1e-3)\n",
        "                )(encoder)\n",
        "decoder = Dense(hidden_dim2, activation=\"relu\",\n",
        "            activity_regularizer=regularizers.l1(1e-3)\n",
        "                )(encoder)\n",
        "decoder = Dense(hidden_dim1, activation=\"relu\",\n",
        "            activity_regularizer=regularizers.l1(1e-3)\n",
        "                )(decoder)\n",
        "decoder = Dense(encoding_dim, activation=\"relu\",\n",
        "            activity_regularizer=regularizers.l1(1e-3)\n",
        "                )(decoder)\n",
        "decoder = Dense(original_dim, activation=\"linear\")(decoder)\n",
        "autoencoder = Model(inputs=input_layer, outputs=decoder)\n",
        "autoencoder.summary()"
      ],
      "execution_count": null,
      "outputs": [
        {
          "output_type": "stream",
          "text": [
            "Model: \"model_1\"\n",
            "_________________________________________________________________\n",
            "Layer (type)                 Output Shape              Param #   \n",
            "=================================================================\n",
            "input_3 (InputLayer)         [(None, 13)]              0         \n",
            "_________________________________________________________________\n",
            "dense_10 (Dense)             (None, 512)               7168      \n",
            "_________________________________________________________________\n",
            "dense_11 (Dense)             (None, 128)               65664     \n",
            "_________________________________________________________________\n",
            "dense_12 (Dense)             (None, 16)                2064      \n",
            "_________________________________________________________________\n",
            "dense_13 (Dense)             (None, 16)                272       \n",
            "_________________________________________________________________\n",
            "dense_14 (Dense)             (None, 128)               2176      \n",
            "_________________________________________________________________\n",
            "dense_15 (Dense)             (None, 512)               66048     \n",
            "_________________________________________________________________\n",
            "dense_16 (Dense)             (None, 13)                6669      \n",
            "=================================================================\n",
            "Total params: 150,061\n",
            "Trainable params: 150,061\n",
            "Non-trainable params: 0\n",
            "_________________________________________________________________\n"
          ],
          "name": "stdout"
        }
      ]
    },
    {
      "cell_type": "code",
      "metadata": {
        "id": "uvS4CFn-ywS8"
      },
      "source": [
        "autoencoder.compile(metrics=['mse'],\n",
        "                    loss='mse',\n",
        "                    optimizer='adam')"
      ],
      "execution_count": null,
      "outputs": []
    },
    {
      "cell_type": "code",
      "metadata": {
        "id": "E7YrP3H0y6rG",
        "colab": {
          "base_uri": "https://localhost:8080/"
        },
        "outputId": "45873669-0d44-424c-f28b-de22eb7bce39"
      },
      "source": [
        "history = autoencoder.fit(X_train_non_churn,\n",
        "                          X_train_non_churn,\n",
        "                          epochs=150,\n",
        "                          shuffle=True,\n",
        "                          batch_size=128,\n",
        "                          validation_data=(X_val_non_churn,\n",
        "                                           X_val_non_churn))"
      ],
      "execution_count": null,
      "outputs": [
        {
          "output_type": "stream",
          "text": [
            "Epoch 1/150\n",
            "18/18 [==============================] - 1s 16ms/step - loss: 0.8650 - mse: 0.8149 - val_loss: 0.7553 - val_mse: 0.6826\n",
            "Epoch 2/150\n",
            "18/18 [==============================] - 0s 6ms/step - loss: 0.6792 - mse: 0.5937 - val_loss: 0.5295 - val_mse: 0.4186\n",
            "Epoch 3/150\n",
            "18/18 [==============================] - 0s 5ms/step - loss: 0.4847 - mse: 0.3712 - val_loss: 0.3984 - val_mse: 0.2822\n",
            "Epoch 4/150\n",
            "18/18 [==============================] - 0s 6ms/step - loss: 0.3676 - mse: 0.2515 - val_loss: 0.3019 - val_mse: 0.1846\n",
            "Epoch 5/150\n",
            "18/18 [==============================] - 0s 5ms/step - loss: 0.2772 - mse: 0.1621 - val_loss: 0.2268 - val_mse: 0.1136\n",
            "Epoch 6/150\n",
            "18/18 [==============================] - 0s 5ms/step - loss: 0.2113 - mse: 0.0986 - val_loss: 0.1710 - val_mse: 0.0618\n",
            "Epoch 7/150\n",
            "18/18 [==============================] - 0s 6ms/step - loss: 0.1485 - mse: 0.0410 - val_loss: 0.1268 - val_mse: 0.0211\n",
            "Epoch 8/150\n",
            "18/18 [==============================] - 0s 6ms/step - loss: 0.1187 - mse: 0.0174 - val_loss: 0.1120 - val_mse: 0.0163\n",
            "Epoch 9/150\n",
            "18/18 [==============================] - 0s 6ms/step - loss: 0.1049 - mse: 0.0129 - val_loss: 0.1019 - val_mse: 0.0138\n",
            "Epoch 10/150\n",
            "18/18 [==============================] - 0s 7ms/step - loss: 0.0961 - mse: 0.0107 - val_loss: 0.0947 - val_mse: 0.0128\n",
            "Epoch 11/150\n",
            "18/18 [==============================] - 0s 6ms/step - loss: 0.0895 - mse: 0.0097 - val_loss: 0.0886 - val_mse: 0.0117\n",
            "Epoch 12/150\n",
            "18/18 [==============================] - 0s 5ms/step - loss: 0.0842 - mse: 0.0086 - val_loss: 0.0840 - val_mse: 0.0118\n",
            "Epoch 13/150\n",
            "18/18 [==============================] - 0s 6ms/step - loss: 0.0786 - mse: 0.0079 - val_loss: 0.0793 - val_mse: 0.0105\n",
            "Epoch 14/150\n",
            "18/18 [==============================] - 0s 6ms/step - loss: 0.0745 - mse: 0.0072 - val_loss: 0.0761 - val_mse: 0.0109\n",
            "Epoch 15/150\n",
            "18/18 [==============================] - 0s 5ms/step - loss: 0.0704 - mse: 0.0069 - val_loss: 0.0727 - val_mse: 0.0106\n",
            "Epoch 16/150\n",
            "18/18 [==============================] - 0s 5ms/step - loss: 0.0673 - mse: 0.0064 - val_loss: 0.0696 - val_mse: 0.0099\n",
            "Epoch 17/150\n",
            "18/18 [==============================] - 0s 6ms/step - loss: 0.0643 - mse: 0.0060 - val_loss: 0.0673 - val_mse: 0.0101\n",
            "Epoch 18/150\n",
            "18/18 [==============================] - 0s 6ms/step - loss: 0.0621 - mse: 0.0058 - val_loss: 0.0648 - val_mse: 0.0096\n",
            "Epoch 19/150\n",
            "18/18 [==============================] - 0s 6ms/step - loss: 0.0599 - mse: 0.0055 - val_loss: 0.0631 - val_mse: 0.0098\n",
            "Epoch 20/150\n",
            "18/18 [==============================] - 0s 6ms/step - loss: 0.0577 - mse: 0.0053 - val_loss: 0.0610 - val_mse: 0.0096\n",
            "Epoch 21/150\n",
            "18/18 [==============================] - 0s 6ms/step - loss: 0.0557 - mse: 0.0050 - val_loss: 0.0593 - val_mse: 0.0096\n",
            "Epoch 22/150\n",
            "18/18 [==============================] - 0s 5ms/step - loss: 0.0541 - mse: 0.0051 - val_loss: 0.0576 - val_mse: 0.0093\n",
            "Epoch 23/150\n",
            "18/18 [==============================] - 0s 5ms/step - loss: 0.0523 - mse: 0.0047 - val_loss: 0.0562 - val_mse: 0.0094\n",
            "Epoch 24/150\n",
            "18/18 [==============================] - 0s 6ms/step - loss: 0.0508 - mse: 0.0045 - val_loss: 0.0546 - val_mse: 0.0088\n",
            "Epoch 25/150\n",
            "18/18 [==============================] - 0s 6ms/step - loss: 0.0490 - mse: 0.0042 - val_loss: 0.0534 - val_mse: 0.0090\n",
            "Epoch 26/150\n",
            "18/18 [==============================] - 0s 6ms/step - loss: 0.0481 - mse: 0.0042 - val_loss: 0.0524 - val_mse: 0.0092\n",
            "Epoch 27/150\n",
            "18/18 [==============================] - 0s 6ms/step - loss: 0.0469 - mse: 0.0042 - val_loss: 0.0515 - val_mse: 0.0091\n",
            "Epoch 28/150\n",
            "18/18 [==============================] - 0s 6ms/step - loss: 0.0455 - mse: 0.0041 - val_loss: 0.0499 - val_mse: 0.0088\n",
            "Epoch 29/150\n",
            "18/18 [==============================] - 0s 5ms/step - loss: 0.0449 - mse: 0.0041 - val_loss: 0.0492 - val_mse: 0.0088\n",
            "Epoch 30/150\n",
            "18/18 [==============================] - 0s 6ms/step - loss: 0.0433 - mse: 0.0039 - val_loss: 0.0484 - val_mse: 0.0090\n",
            "Epoch 31/150\n",
            "18/18 [==============================] - 0s 5ms/step - loss: 0.0425 - mse: 0.0039 - val_loss: 0.0475 - val_mse: 0.0089\n",
            "Epoch 32/150\n",
            "18/18 [==============================] - 0s 6ms/step - loss: 0.0416 - mse: 0.0039 - val_loss: 0.0468 - val_mse: 0.0091\n",
            "Epoch 33/150\n",
            "18/18 [==============================] - 0s 6ms/step - loss: 0.0409 - mse: 0.0037 - val_loss: 0.0457 - val_mse: 0.0087\n",
            "Epoch 34/150\n",
            "18/18 [==============================] - 0s 6ms/step - loss: 0.0399 - mse: 0.0037 - val_loss: 0.0453 - val_mse: 0.0089\n",
            "Epoch 35/150\n",
            "18/18 [==============================] - 0s 5ms/step - loss: 0.0397 - mse: 0.0040 - val_loss: 0.0451 - val_mse: 0.0094\n",
            "Epoch 36/150\n",
            "18/18 [==============================] - 0s 6ms/step - loss: 0.0388 - mse: 0.0038 - val_loss: 0.0443 - val_mse: 0.0093\n",
            "Epoch 37/150\n",
            "18/18 [==============================] - 0s 6ms/step - loss: 0.0381 - mse: 0.0037 - val_loss: 0.0439 - val_mse: 0.0092\n",
            "Epoch 38/150\n",
            "18/18 [==============================] - 0s 5ms/step - loss: 0.0377 - mse: 0.0038 - val_loss: 0.0430 - val_mse: 0.0091\n",
            "Epoch 39/150\n",
            "18/18 [==============================] - 0s 6ms/step - loss: 0.0368 - mse: 0.0035 - val_loss: 0.0426 - val_mse: 0.0092\n",
            "Epoch 40/150\n",
            "18/18 [==============================] - 0s 6ms/step - loss: 0.0364 - mse: 0.0037 - val_loss: 0.0420 - val_mse: 0.0091\n",
            "Epoch 41/150\n",
            "18/18 [==============================] - 0s 6ms/step - loss: 0.0358 - mse: 0.0036 - val_loss: 0.0418 - val_mse: 0.0097\n",
            "Epoch 42/150\n",
            "18/18 [==============================] - 0s 5ms/step - loss: 0.0357 - mse: 0.0039 - val_loss: 0.0411 - val_mse: 0.0092\n",
            "Epoch 43/150\n",
            "18/18 [==============================] - 0s 6ms/step - loss: 0.0351 - mse: 0.0038 - val_loss: 0.0404 - val_mse: 0.0092\n",
            "Epoch 44/150\n",
            "18/18 [==============================] - 0s 6ms/step - loss: 0.0347 - mse: 0.0038 - val_loss: 0.0397 - val_mse: 0.0087\n",
            "Epoch 45/150\n",
            "18/18 [==============================] - 0s 6ms/step - loss: 0.0341 - mse: 0.0035 - val_loss: 0.0395 - val_mse: 0.0089\n",
            "Epoch 46/150\n",
            "18/18 [==============================] - 0s 6ms/step - loss: 0.0337 - mse: 0.0036 - val_loss: 0.0390 - val_mse: 0.0089\n",
            "Epoch 47/150\n",
            "18/18 [==============================] - 0s 6ms/step - loss: 0.0331 - mse: 0.0035 - val_loss: 0.0385 - val_mse: 0.0088\n",
            "Epoch 48/150\n",
            "18/18 [==============================] - 0s 6ms/step - loss: 0.0324 - mse: 0.0034 - val_loss: 0.0381 - val_mse: 0.0088\n",
            "Epoch 49/150\n",
            "18/18 [==============================] - 0s 6ms/step - loss: 0.0320 - mse: 0.0032 - val_loss: 0.0380 - val_mse: 0.0089\n",
            "Epoch 50/150\n",
            "18/18 [==============================] - 0s 7ms/step - loss: 0.0321 - mse: 0.0033 - val_loss: 0.0378 - val_mse: 0.0093\n",
            "Epoch 51/150\n",
            "18/18 [==============================] - 0s 15ms/step - loss: 0.0315 - mse: 0.0034 - val_loss: 0.0374 - val_mse: 0.0092\n",
            "Epoch 52/150\n",
            "18/18 [==============================] - 0s 7ms/step - loss: 0.0314 - mse: 0.0034 - val_loss: 0.0367 - val_mse: 0.0088\n",
            "Epoch 53/150\n",
            "18/18 [==============================] - 0s 7ms/step - loss: 0.0312 - mse: 0.0036 - val_loss: 0.0369 - val_mse: 0.0094\n",
            "Epoch 54/150\n",
            "18/18 [==============================] - 0s 7ms/step - loss: 0.0307 - mse: 0.0036 - val_loss: 0.0363 - val_mse: 0.0089\n",
            "Epoch 55/150\n",
            "18/18 [==============================] - 0s 6ms/step - loss: 0.0305 - mse: 0.0035 - val_loss: 0.0369 - val_mse: 0.0099\n",
            "Epoch 56/150\n",
            "18/18 [==============================] - 0s 6ms/step - loss: 0.0304 - mse: 0.0039 - val_loss: 0.0360 - val_mse: 0.0093\n",
            "Epoch 57/150\n",
            "18/18 [==============================] - 0s 5ms/step - loss: 0.0297 - mse: 0.0035 - val_loss: 0.0354 - val_mse: 0.0089\n",
            "Epoch 58/150\n",
            "18/18 [==============================] - 0s 6ms/step - loss: 0.0296 - mse: 0.0035 - val_loss: 0.0355 - val_mse: 0.0094\n",
            "Epoch 59/150\n",
            "18/18 [==============================] - 0s 6ms/step - loss: 0.0297 - mse: 0.0038 - val_loss: 0.0351 - val_mse: 0.0092\n",
            "Epoch 60/150\n",
            "18/18 [==============================] - 0s 6ms/step - loss: 0.0290 - mse: 0.0035 - val_loss: 0.0346 - val_mse: 0.0089\n",
            "Epoch 61/150\n",
            "18/18 [==============================] - 0s 6ms/step - loss: 0.0285 - mse: 0.0033 - val_loss: 0.0348 - val_mse: 0.0095\n",
            "Epoch 62/150\n",
            "18/18 [==============================] - 0s 6ms/step - loss: 0.0282 - mse: 0.0034 - val_loss: 0.0342 - val_mse: 0.0091\n",
            "Epoch 63/150\n",
            "18/18 [==============================] - 0s 6ms/step - loss: 0.0281 - mse: 0.0034 - val_loss: 0.0339 - val_mse: 0.0091\n",
            "Epoch 64/150\n",
            "18/18 [==============================] - 0s 6ms/step - loss: 0.0280 - mse: 0.0034 - val_loss: 0.0338 - val_mse: 0.0091\n",
            "Epoch 65/150\n",
            "18/18 [==============================] - 0s 7ms/step - loss: 0.0280 - mse: 0.0038 - val_loss: 0.0338 - val_mse: 0.0094\n",
            "Epoch 66/150\n",
            "18/18 [==============================] - 0s 7ms/step - loss: 0.0277 - mse: 0.0036 - val_loss: 0.0339 - val_mse: 0.0097\n",
            "Epoch 67/150\n",
            "18/18 [==============================] - 0s 7ms/step - loss: 0.0275 - mse: 0.0037 - val_loss: 0.0329 - val_mse: 0.0088\n",
            "Epoch 68/150\n",
            "18/18 [==============================] - 0s 7ms/step - loss: 0.0268 - mse: 0.0033 - val_loss: 0.0327 - val_mse: 0.0090\n",
            "Epoch 69/150\n",
            "18/18 [==============================] - 0s 7ms/step - loss: 0.0267 - mse: 0.0033 - val_loss: 0.0326 - val_mse: 0.0091\n",
            "Epoch 70/150\n",
            "18/18 [==============================] - 0s 7ms/step - loss: 0.0262 - mse: 0.0033 - val_loss: 0.0324 - val_mse: 0.0090\n",
            "Epoch 71/150\n",
            "18/18 [==============================] - 0s 7ms/step - loss: 0.0264 - mse: 0.0033 - val_loss: 0.0322 - val_mse: 0.0090\n",
            "Epoch 72/150\n",
            "18/18 [==============================] - 0s 6ms/step - loss: 0.0261 - mse: 0.0032 - val_loss: 0.0319 - val_mse: 0.0090\n",
            "Epoch 73/150\n",
            "18/18 [==============================] - 0s 6ms/step - loss: 0.0260 - mse: 0.0034 - val_loss: 0.0325 - val_mse: 0.0097\n",
            "Epoch 74/150\n",
            "18/18 [==============================] - 0s 6ms/step - loss: 0.0259 - mse: 0.0034 - val_loss: 0.0316 - val_mse: 0.0089\n",
            "Epoch 75/150\n",
            "18/18 [==============================] - 0s 6ms/step - loss: 0.0255 - mse: 0.0032 - val_loss: 0.0316 - val_mse: 0.0093\n",
            "Epoch 76/150\n",
            "18/18 [==============================] - 0s 5ms/step - loss: 0.0254 - mse: 0.0034 - val_loss: 0.0319 - val_mse: 0.0097\n",
            "Epoch 77/150\n",
            "18/18 [==============================] - 0s 5ms/step - loss: 0.0253 - mse: 0.0035 - val_loss: 0.0316 - val_mse: 0.0095\n",
            "Epoch 78/150\n",
            "18/18 [==============================] - 0s 6ms/step - loss: 0.0253 - mse: 0.0035 - val_loss: 0.0311 - val_mse: 0.0092\n",
            "Epoch 79/150\n",
            "18/18 [==============================] - 0s 6ms/step - loss: 0.0250 - mse: 0.0035 - val_loss: 0.0306 - val_mse: 0.0089\n",
            "Epoch 80/150\n",
            "18/18 [==============================] - 0s 6ms/step - loss: 0.0246 - mse: 0.0031 - val_loss: 0.0306 - val_mse: 0.0089\n",
            "Epoch 81/150\n",
            "18/18 [==============================] - 0s 6ms/step - loss: 0.0243 - mse: 0.0030 - val_loss: 0.0306 - val_mse: 0.0091\n",
            "Epoch 82/150\n",
            "18/18 [==============================] - 0s 6ms/step - loss: 0.0243 - mse: 0.0031 - val_loss: 0.0302 - val_mse: 0.0090\n",
            "Epoch 83/150\n",
            "18/18 [==============================] - 0s 6ms/step - loss: 0.0241 - mse: 0.0031 - val_loss: 0.0304 - val_mse: 0.0093\n",
            "Epoch 84/150\n",
            "18/18 [==============================] - 0s 7ms/step - loss: 0.0238 - mse: 0.0032 - val_loss: 0.0302 - val_mse: 0.0093\n",
            "Epoch 85/150\n",
            "18/18 [==============================] - 0s 7ms/step - loss: 0.0238 - mse: 0.0034 - val_loss: 0.0307 - val_mse: 0.0099\n",
            "Epoch 86/150\n",
            "18/18 [==============================] - 0s 6ms/step - loss: 0.0240 - mse: 0.0035 - val_loss: 0.0304 - val_mse: 0.0097\n",
            "Epoch 87/150\n",
            "18/18 [==============================] - 0s 7ms/step - loss: 0.0238 - mse: 0.0035 - val_loss: 0.0299 - val_mse: 0.0095\n",
            "Epoch 88/150\n",
            "18/18 [==============================] - 0s 6ms/step - loss: 0.0233 - mse: 0.0031 - val_loss: 0.0296 - val_mse: 0.0092\n",
            "Epoch 89/150\n",
            "18/18 [==============================] - 0s 7ms/step - loss: 0.0233 - mse: 0.0032 - val_loss: 0.0294 - val_mse: 0.0092\n",
            "Epoch 90/150\n",
            "18/18 [==============================] - 0s 6ms/step - loss: 0.0232 - mse: 0.0032 - val_loss: 0.0295 - val_mse: 0.0094\n",
            "Epoch 91/150\n",
            "18/18 [==============================] - 0s 5ms/step - loss: 0.0229 - mse: 0.0031 - val_loss: 0.0289 - val_mse: 0.0090\n",
            "Epoch 92/150\n",
            "18/18 [==============================] - 0s 6ms/step - loss: 0.0227 - mse: 0.0030 - val_loss: 0.0288 - val_mse: 0.0090\n",
            "Epoch 93/150\n",
            "18/18 [==============================] - 0s 6ms/step - loss: 0.0226 - mse: 0.0030 - val_loss: 0.0287 - val_mse: 0.0090\n",
            "Epoch 94/150\n",
            "18/18 [==============================] - 0s 6ms/step - loss: 0.0225 - mse: 0.0030 - val_loss: 0.0292 - val_mse: 0.0097\n",
            "Epoch 95/150\n",
            "18/18 [==============================] - 0s 6ms/step - loss: 0.0224 - mse: 0.0031 - val_loss: 0.0290 - val_mse: 0.0095\n",
            "Epoch 96/150\n",
            "18/18 [==============================] - 0s 6ms/step - loss: 0.0223 - mse: 0.0031 - val_loss: 0.0291 - val_mse: 0.0098\n",
            "Epoch 97/150\n",
            "18/18 [==============================] - 0s 5ms/step - loss: 0.0223 - mse: 0.0033 - val_loss: 0.0286 - val_mse: 0.0094\n",
            "Epoch 98/150\n",
            "18/18 [==============================] - 0s 6ms/step - loss: 0.0222 - mse: 0.0033 - val_loss: 0.0288 - val_mse: 0.0097\n",
            "Epoch 99/150\n",
            "18/18 [==============================] - 0s 6ms/step - loss: 0.0221 - mse: 0.0034 - val_loss: 0.0287 - val_mse: 0.0096\n",
            "Epoch 100/150\n",
            "18/18 [==============================] - 0s 6ms/step - loss: 0.0221 - mse: 0.0033 - val_loss: 0.0283 - val_mse: 0.0094\n",
            "Epoch 101/150\n",
            "18/18 [==============================] - 0s 6ms/step - loss: 0.0221 - mse: 0.0035 - val_loss: 0.0284 - val_mse: 0.0096\n",
            "Epoch 102/150\n",
            "18/18 [==============================] - 0s 6ms/step - loss: 0.0217 - mse: 0.0031 - val_loss: 0.0280 - val_mse: 0.0093\n",
            "Epoch 103/150\n",
            "18/18 [==============================] - 0s 7ms/step - loss: 0.0214 - mse: 0.0029 - val_loss: 0.0280 - val_mse: 0.0094\n",
            "Epoch 104/150\n",
            "18/18 [==============================] - 0s 7ms/step - loss: 0.0212 - mse: 0.0029 - val_loss: 0.0276 - val_mse: 0.0092\n",
            "Epoch 105/150\n",
            "18/18 [==============================] - 0s 7ms/step - loss: 0.0211 - mse: 0.0027 - val_loss: 0.0273 - val_mse: 0.0089\n",
            "Epoch 106/150\n",
            "18/18 [==============================] - 0s 7ms/step - loss: 0.0209 - mse: 0.0027 - val_loss: 0.0271 - val_mse: 0.0088\n",
            "Epoch 107/150\n",
            "18/18 [==============================] - 0s 7ms/step - loss: 0.0205 - mse: 0.0027 - val_loss: 0.0271 - val_mse: 0.0089\n",
            "Epoch 108/150\n",
            "18/18 [==============================] - 0s 7ms/step - loss: 0.0205 - mse: 0.0026 - val_loss: 0.0268 - val_mse: 0.0088\n",
            "Epoch 109/150\n",
            "18/18 [==============================] - 0s 7ms/step - loss: 0.0203 - mse: 0.0025 - val_loss: 0.0274 - val_mse: 0.0095\n",
            "Epoch 110/150\n",
            "18/18 [==============================] - 0s 6ms/step - loss: 0.0203 - mse: 0.0028 - val_loss: 0.0269 - val_mse: 0.0092\n",
            "Epoch 111/150\n",
            "18/18 [==============================] - 0s 6ms/step - loss: 0.0204 - mse: 0.0029 - val_loss: 0.0272 - val_mse: 0.0095\n",
            "Epoch 112/150\n",
            "18/18 [==============================] - 0s 5ms/step - loss: 0.0206 - mse: 0.0031 - val_loss: 0.0267 - val_mse: 0.0092\n",
            "Epoch 113/150\n",
            "18/18 [==============================] - 0s 14ms/step - loss: 0.0206 - mse: 0.0031 - val_loss: 0.0272 - val_mse: 0.0097\n",
            "Epoch 114/150\n",
            "18/18 [==============================] - 0s 6ms/step - loss: 0.0207 - mse: 0.0034 - val_loss: 0.0269 - val_mse: 0.0094\n",
            "Epoch 115/150\n",
            "18/18 [==============================] - 0s 6ms/step - loss: 0.0203 - mse: 0.0031 - val_loss: 0.0266 - val_mse: 0.0092\n",
            "Epoch 116/150\n",
            "18/18 [==============================] - 0s 6ms/step - loss: 0.0201 - mse: 0.0030 - val_loss: 0.0266 - val_mse: 0.0094\n",
            "Epoch 117/150\n",
            "18/18 [==============================] - 0s 5ms/step - loss: 0.0201 - mse: 0.0030 - val_loss: 0.0264 - val_mse: 0.0092\n",
            "Epoch 118/150\n",
            "18/18 [==============================] - 0s 6ms/step - loss: 0.0201 - mse: 0.0032 - val_loss: 0.0270 - val_mse: 0.0099\n",
            "Epoch 119/150\n",
            "18/18 [==============================] - 0s 6ms/step - loss: 0.0204 - mse: 0.0034 - val_loss: 0.0270 - val_mse: 0.0099\n",
            "Epoch 120/150\n",
            "18/18 [==============================] - 0s 6ms/step - loss: 0.0202 - mse: 0.0034 - val_loss: 0.0264 - val_mse: 0.0094\n",
            "Epoch 121/150\n",
            "18/18 [==============================] - 0s 7ms/step - loss: 0.0197 - mse: 0.0030 - val_loss: 0.0264 - val_mse: 0.0096\n",
            "Epoch 122/150\n",
            "18/18 [==============================] - 0s 8ms/step - loss: 0.0197 - mse: 0.0031 - val_loss: 0.0262 - val_mse: 0.0094\n",
            "Epoch 123/150\n",
            "18/18 [==============================] - 0s 7ms/step - loss: 0.0198 - mse: 0.0032 - val_loss: 0.0262 - val_mse: 0.0095\n",
            "Epoch 124/150\n",
            "18/18 [==============================] - 0s 6ms/step - loss: 0.0196 - mse: 0.0031 - val_loss: 0.0258 - val_mse: 0.0092\n",
            "Epoch 125/150\n",
            "18/18 [==============================] - 0s 6ms/step - loss: 0.0192 - mse: 0.0028 - val_loss: 0.0259 - val_mse: 0.0094\n",
            "Epoch 126/150\n",
            "18/18 [==============================] - 0s 6ms/step - loss: 0.0192 - mse: 0.0029 - val_loss: 0.0255 - val_mse: 0.0090\n",
            "Epoch 127/150\n",
            "18/18 [==============================] - 0s 6ms/step - loss: 0.0190 - mse: 0.0027 - val_loss: 0.0257 - val_mse: 0.0094\n",
            "Epoch 128/150\n",
            "18/18 [==============================] - 0s 6ms/step - loss: 0.0194 - mse: 0.0031 - val_loss: 0.0261 - val_mse: 0.0098\n",
            "Epoch 129/150\n",
            "18/18 [==============================] - 0s 6ms/step - loss: 0.0192 - mse: 0.0030 - val_loss: 0.0260 - val_mse: 0.0098\n",
            "Epoch 130/150\n",
            "18/18 [==============================] - 0s 5ms/step - loss: 0.0189 - mse: 0.0030 - val_loss: 0.0256 - val_mse: 0.0094\n",
            "Epoch 131/150\n",
            "18/18 [==============================] - 0s 6ms/step - loss: 0.0190 - mse: 0.0030 - val_loss: 0.0255 - val_mse: 0.0094\n",
            "Epoch 132/150\n",
            "18/18 [==============================] - 0s 6ms/step - loss: 0.0188 - mse: 0.0029 - val_loss: 0.0254 - val_mse: 0.0093\n",
            "Epoch 133/150\n",
            "18/18 [==============================] - 0s 6ms/step - loss: 0.0186 - mse: 0.0029 - val_loss: 0.0256 - val_mse: 0.0096\n",
            "Epoch 134/150\n",
            "18/18 [==============================] - 0s 7ms/step - loss: 0.0186 - mse: 0.0029 - val_loss: 0.0257 - val_mse: 0.0098\n",
            "Epoch 135/150\n",
            "18/18 [==============================] - 0s 7ms/step - loss: 0.0188 - mse: 0.0032 - val_loss: 0.0256 - val_mse: 0.0098\n",
            "Epoch 136/150\n",
            "18/18 [==============================] - 0s 7ms/step - loss: 0.0188 - mse: 0.0031 - val_loss: 0.0255 - val_mse: 0.0098\n",
            "Epoch 137/150\n",
            "18/18 [==============================] - 0s 7ms/step - loss: 0.0189 - mse: 0.0033 - val_loss: 0.0255 - val_mse: 0.0099\n",
            "Epoch 138/150\n",
            "18/18 [==============================] - 0s 7ms/step - loss: 0.0187 - mse: 0.0033 - val_loss: 0.0250 - val_mse: 0.0094\n",
            "Epoch 139/150\n",
            "18/18 [==============================] - 0s 8ms/step - loss: 0.0186 - mse: 0.0031 - val_loss: 0.0251 - val_mse: 0.0096\n",
            "Epoch 140/150\n",
            "18/18 [==============================] - 0s 7ms/step - loss: 0.0186 - mse: 0.0032 - val_loss: 0.0251 - val_mse: 0.0096\n",
            "Epoch 141/150\n",
            "18/18 [==============================] - 0s 7ms/step - loss: 0.0183 - mse: 0.0031 - val_loss: 0.0252 - val_mse: 0.0098\n",
            "Epoch 142/150\n",
            "18/18 [==============================] - 0s 7ms/step - loss: 0.0187 - mse: 0.0034 - val_loss: 0.0250 - val_mse: 0.0097\n",
            "Epoch 143/150\n",
            "18/18 [==============================] - 0s 6ms/step - loss: 0.0184 - mse: 0.0032 - val_loss: 0.0250 - val_mse: 0.0097\n",
            "Epoch 144/150\n",
            "18/18 [==============================] - 0s 6ms/step - loss: 0.0181 - mse: 0.0030 - val_loss: 0.0244 - val_mse: 0.0092\n",
            "Epoch 145/150\n",
            "18/18 [==============================] - 0s 6ms/step - loss: 0.0179 - mse: 0.0029 - val_loss: 0.0250 - val_mse: 0.0098\n",
            "Epoch 146/150\n",
            "18/18 [==============================] - 0s 6ms/step - loss: 0.0179 - mse: 0.0030 - val_loss: 0.0248 - val_mse: 0.0098\n",
            "Epoch 147/150\n",
            "18/18 [==============================] - 0s 6ms/step - loss: 0.0181 - mse: 0.0031 - val_loss: 0.0249 - val_mse: 0.0099\n",
            "Epoch 148/150\n",
            "18/18 [==============================] - 0s 6ms/step - loss: 0.0181 - mse: 0.0032 - val_loss: 0.0251 - val_mse: 0.0101\n",
            "Epoch 149/150\n",
            "18/18 [==============================] - 0s 7ms/step - loss: 0.0181 - mse: 0.0033 - val_loss: 0.0250 - val_mse: 0.0100\n",
            "Epoch 150/150\n",
            "18/18 [==============================] - 0s 6ms/step - loss: 0.0180 - mse: 0.0032 - val_loss: 0.0245 - val_mse: 0.0097\n"
          ],
          "name": "stdout"
        }
      ]
    },
    {
      "cell_type": "code",
      "metadata": {
        "id": "_Suq0fthz1iO"
      },
      "source": [
        "from sklearn.metrics import confusion_matrix, precision_recall_curve\n",
        "from sklearn.metrics import recall_score, classification_report, auc, roc_curve\n",
        "from sklearn.metrics import precision_recall_fscore_support, f1_score"
      ],
      "execution_count": null,
      "outputs": []
    },
    {
      "cell_type": "markdown",
      "metadata": {
        "id": "GO1Vj5VC5nkn"
      },
      "source": [
        "### Validation data"
      ]
    },
    {
      "cell_type": "code",
      "metadata": {
        "id": "XrkZSVFX5pyd",
        "colab": {
          "base_uri": "https://localhost:8080/",
          "height": 301
        },
        "outputId": "b0810a11-26e3-4f0b-d4dc-24aa4285024d"
      },
      "source": [
        "val_x_predictions = autoencoder.predict(X_val)\n",
        "mse = np.mean(np.power(X_val - val_x_predictions, 2), axis=1)\n",
        "error_df_test = pd.DataFrame({'Reconstruction_error': mse,\n",
        "                        'True_class': y_val})\n",
        "error_df_test = error_df_test.reset_index()\n",
        "threshold_fixed = 0.01\n",
        "groups = error_df_test.groupby('True_class')\n",
        "fig, ax = plt.subplots()\n",
        "for name, group in groups:\n",
        "    ax.plot(group.index, group.Reconstruction_error, marker='o', ms=3.5, linestyle='',\n",
        "            label= \"Churn\" if name == 1 else \"Non Churn\")\n",
        "ax.hlines(threshold_fixed, ax.get_xlim()[0], ax.get_xlim()[1], colors=\"r\", zorder=100, label='Threshold')\n",
        "ax.legend()\n",
        "plt.title(\"Reconstruction error for different classes\")\n",
        "plt.ylabel(\"Reconstruction error\")\n",
        "plt.xlabel(\"Data point index\")\n",
        "plt.show();"
      ],
      "execution_count": null,
      "outputs": [
        {
          "output_type": "display_data",
          "data": {
            "image/png": "[encoded data removed]",
            "text/plain": [
              "<Figure size 432x288 with 1 Axes>"
            ]
          },
          "metadata": {
            "tags": []
          }
        }
      ]
    },
    {
      "cell_type": "code",
      "metadata": {
        "id": "anlhGFpy5pzZ",
        "colab": {
          "base_uri": "https://localhost:8080/",
          "height": 736
        },
        "outputId": "b9aa2f6f-a5d8-46e1-dda3-1c90dce6ad4d"
      },
      "source": [
        "LABELS = [\"Non Churn\",\"Churn\"]\n",
        "pred_y = [1 if e > threshold_fixed else 0 for e in error_df_test.Reconstruction_error.values]\n",
        "conf_matrix = confusion_matrix(error_df_test.True_class, pred_y)\n",
        "plt.figure(figsize=(12, 12))\n",
        "sns.heatmap(conf_matrix, xticklabels=LABELS, yticklabels=LABELS, annot=True, fmt=\"d\");\n",
        "plt.title(\"Confusion matrix\")\n",
        "plt.ylabel('True class')\n",
        "plt.xlabel('Predicted class')\n",
        "plt.show()"
      ],
      "execution_count": null,
      "outputs": [
        {
          "output_type": "display_data",
          "data": {
            "image/png": "[encoded data removed]",
            "text/plain": [
              "<Figure size 864x864 with 2 Axes>"
            ]
          },
          "metadata": {
            "tags": []
          }
        }
      ]
    },
    {
      "cell_type": "code",
      "metadata": {
        "id": "lrcThzOw5pzb",
        "colab": {
          "base_uri": "https://localhost:8080/"
        },
        "outputId": "46728903-54c8-4736-e943-e3aed0f63e3d"
      },
      "source": [
        "print(classification_report(error_df_test.True_class, pred_y))"
      ],
      "execution_count": null,
      "outputs": [
        {
          "output_type": "stream",
          "text": [
            "              precision    recall  f1-score   support\n",
            "\n",
            "           0       0.92      0.67      0.78       572\n",
            "           1       0.25      0.66      0.36        95\n",
            "\n",
            "    accuracy                           0.67       667\n",
            "   macro avg       0.59      0.67      0.57       667\n",
            "weighted avg       0.83      0.67      0.72       667\n",
            "\n"
          ],
          "name": "stdout"
        }
      ]
    },
    {
      "cell_type": "code",
      "metadata": {
        "id": "2Bkc9MHB5pzc",
        "colab": {
          "base_uri": "https://localhost:8080/",
          "height": 301
        },
        "outputId": "e925149e-ee80-4771-9f0d-0a0e702390b1"
      },
      "source": [
        "false_pos_rate, true_pos_rate, thresholds = roc_curve(error_df_test.True_class, \n",
        "                                                      error_df_test.Reconstruction_error)\n",
        "roc_auc = auc(false_pos_rate, true_pos_rate,)\n",
        "plt.plot(false_pos_rate, true_pos_rate, linewidth=5, \n",
        "         label='AUC = %0.3f'% roc_auc)\n",
        "plt.plot([0,1],[0,1], linewidth=5)\n",
        "plt.xlim([-0.01, 1])\n",
        "plt.ylim([0, 1.01])\n",
        "plt.legend(loc='lower right')\n",
        "plt.title('Receiver operating characteristic curve (ROC)')\n",
        "plt.ylabel('True Positive Rate')\n",
        "plt.xlabel('False Positive Rate')\n",
        "plt.show()"
      ],
      "execution_count": null,
      "outputs": [
        {
          "output_type": "display_data",
          "data": {
            "image/png": "[encoded data removed]",
            "text/plain": [
              "<Figure size 432x288 with 1 Axes>"
            ]
          },
          "metadata": {
            "tags": []
          }
        }
      ]
    }
  ]
}